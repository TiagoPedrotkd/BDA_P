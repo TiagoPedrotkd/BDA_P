{
 "cells": [
  {
   "cell_type": "markdown",
   "id": "4cb2b3e7",
   "metadata": {},
   "source": [
    "# Databricks Bash Notebook (Unsolved)"
   ]
  },
  {
   "cell_type": "code",
   "execution_count": null,
   "id": "a264a001",
   "metadata": {},
   "outputs": [],
   "source": [
    "%sh\n",
    "# Problem 1: Create a directory named \"data_folder\"\n",
    "# Your code here:"
   ]
  },
  {
   "cell_type": "code",
   "execution_count": null,
   "id": "b3649d23",
   "metadata": {},
   "outputs": [],
   "source": [
    "%sh\n",
    "# Problem 2: List the contents of the current directory\n",
    "# Your code here:"
   ]
  },
  {
   "cell_type": "code",
   "execution_count": null,
   "id": "7a9ea8ce",
   "metadata": {},
   "outputs": [],
   "source": [
    "%sh\n",
    "# Problem 3: Download a file using curl (example: robots.txt)\n",
    "# Your code here:"
   ]
  },
  {
   "cell_type": "code",
   "execution_count": null,
   "id": "1374ff26",
   "metadata": {},
   "outputs": [],
   "source": [
    "%sh\n",
    "# Problem 4: Count the number of lines in the downloaded file\n",
    "# Your code here:"
   ]
  },
  {
   "cell_type": "code",
   "execution_count": null,
   "id": "72228e43",
   "metadata": {},
   "outputs": [],
   "source": [
    "%sh\n",
    "# Problem 5: Display the first 10 lines of the file\n",
    "# Your code here:"
   ]
  }
 ],
 "metadata": {},
 "nbformat": 4,
 "nbformat_minor": 5
}
