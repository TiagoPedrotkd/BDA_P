{
  "cells": [
    {
      "cell_type": "markdown",
      "metadata": {},
      "source": "# \ud83d\udcd2 Databricks Notebook: Download and Use GitHub Files (No DBFS)"
    },
    {
      "cell_type": "code",
      "metadata": {},
      "source": "%sh\nwget https://raw.githubusercontent.com/mwaskom/seaborn-data/master/iris.csv -P /databricks/driver/",
      "outputs": [],
      "execution_count": null
    },
    {
      "cell_type": "code",
      "metadata": {},
      "source": "%sh\nls -lh /databricks/driver/",
      "outputs": [],
      "execution_count": null
    },
    {
      "cell_type": "code",
      "metadata": {},
      "source": "file_path = \"file:/databricks/driver/iris.csv\"\n\ndf = spark.read.csv(file_path, header=True, inferSchema=True)\ndf.show(5)",
      "outputs": [],
      "execution_count": null
    },
    {
      "cell_type": "code",
      "metadata": {},
      "source": "display(df)",
      "outputs": [],
      "execution_count": null
    }
  ],
  "metadata": {
    "kernelspec": {
      "display_name": "Python 3",
      "language": "python",
      "name": "python3"
    },
    "language_info": {
      "name": "python",
      "version": "3.x"
    }
  },
  "nbformat": 4,
  "nbformat_minor": 5
}