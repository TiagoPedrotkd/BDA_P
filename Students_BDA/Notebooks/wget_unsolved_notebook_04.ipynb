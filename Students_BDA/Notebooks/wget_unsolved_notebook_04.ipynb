{
  "cells": [
    {
      "cell_type": "markdown",
      "metadata": {},
      "source": "# \ud83d\udcd2 Databricks Notebook: Download and Use GitHub Files (No DBFS)"
    },
    {
      "cell_type": "code",
      "metadata": {},
      "source": "# Step 1: Download the file from GitHub",
      "outputs": [],
      "execution_count": null
    },
    {
      "cell_type": "code",
      "metadata": {},
      "source": "# Step 2: Check that the file is on the driver node",
      "outputs": [],
      "execution_count": null
    },
    {
      "cell_type": "code",
      "metadata": {},
      "source": "# Step 3: Load the CSV directly from the driver filesystem",
      "outputs": [],
      "execution_count": null
    },
    {
      "cell_type": "code",
      "metadata": {},
      "source": "# Step 4 (Optional): Display as a table",
      "outputs": [],
      "execution_count": null
    }
  ],
  "metadata": {
    "kernelspec": {
      "display_name": "Python 3",
      "language": "python",
      "name": "python3"
    },
    "language_info": {
      "name": "python",
      "version": "3.x"
    }
  },
  "nbformat": 4,
  "nbformat_minor": 5
}