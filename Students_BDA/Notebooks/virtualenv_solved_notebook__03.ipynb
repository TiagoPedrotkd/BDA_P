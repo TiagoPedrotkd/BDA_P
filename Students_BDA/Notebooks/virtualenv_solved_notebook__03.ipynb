{
 "cells": [
  {
   "cell_type": "markdown",
   "id": "569c2a6f",
   "metadata": {},
   "source": [
    "# Databricks Notebook (Solved)\n",
    "\n",
    "## 🚀 Managing Virtual Environments in Databricks"
   ]
  },
  {
   "cell_type": "markdown",
   "id": "e9cf1e53",
   "metadata": {},
   "source": [
    "### 🐍 1. Check current Python environment"
   ]
  },
  {
   "cell_type": "code",
   "execution_count": null,
   "id": "9daf92de",
   "metadata": {},
   "outputs": [],
   "source": [
    "%sh\n",
    "which python\n",
    "python --version"
   ]
  },
  {
   "cell_type": "markdown",
   "id": "4abc6284",
   "metadata": {},
   "source": [
    "### 📦 2. Install `virtualenv`"
   ]
  },
  {
   "cell_type": "code",
   "execution_count": null,
   "id": "853baa12",
   "metadata": {},
   "outputs": [],
   "source": [
    "%pip install virtualenv"
   ]
  },
  {
   "cell_type": "markdown",
   "id": "fae505f9",
   "metadata": {},
   "source": [
    "### 🛠 3. Create a virtual environment named `myenv`"
   ]
  },
  {
   "cell_type": "code",
   "execution_count": null,
   "id": "782619e2",
   "metadata": {},
   "outputs": [],
   "source": [
    "%sh\n",
    "virtualenv myenv"
   ]
  },
  {
   "cell_type": "markdown",
   "id": "6d658909",
   "metadata": {},
   "source": [
    "### 🚀 4. Activate the virtual environment"
   ]
  },
  {
   "cell_type": "code",
   "execution_count": null,
   "id": "cf05d26e",
   "metadata": {},
   "outputs": [],
   "source": [
    "%sh\n",
    "source myenv/bin/activate\n",
    "which python"
   ]
  },
  {
   "cell_type": "markdown",
   "id": "8758c52d",
   "metadata": {},
   "source": [
    "### 📄 5. Install packages inside the virtual environment"
   ]
  },
  {
   "cell_type": "code",
   "execution_count": null,
   "id": "410943df",
   "metadata": {},
   "outputs": [],
   "source": [
    "%sh\n",
    "source myenv/bin/activate\n",
    "pip install numpy"
   ]
  },
  {
   "cell_type": "markdown",
   "id": "b2539d60",
   "metadata": {},
   "source": [
    "### ❌ 6. Deactivate the virtual environment"
   ]
  },
  {
   "cell_type": "code",
   "execution_count": null,
   "id": "94905f1e",
   "metadata": {},
   "outputs": [],
   "source": [
    "%sh\n",
    "deactivate"
   ]
  },
  {
   "cell_type": "markdown",
   "id": "f0acad4a",
   "metadata": {},
   "source": [
    "### 📝 Notes:\n",
    "- In Databricks, `%pip` is preferred over custom virtual environments.\n",
    "- However, this demonstrates standard `virtualenv` usage.\n",
    "- Not all clusters may allow persistent virtual environments."
   ]
  }
 ],
 "metadata": {},
 "nbformat": 4,
 "nbformat_minor": 5
}
