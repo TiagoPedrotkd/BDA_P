{
 "cells": [
  {
   "cell_type": "markdown",
   "id": "a7f42c04",
   "metadata": {},
   "source": [
    "# Databricks Notebook\n",
    "\n",
    "## 🚀 Getting Data from GitHub & Managing Python Environments"
   ]
  },
  {
   "cell_type": "markdown",
   "id": "01bb8f27",
   "metadata": {},
   "source": [
    "### 🔗 1. Clone a GitHub repository (if git is available)"
   ]
  },
  {
   "cell_type": "code",
   "execution_count": null,
   "id": "cf8cbe30",
   "metadata": {},
   "outputs": [],
   "source": [
    "%sh\n",
    "git clone https://github.com/mwaskom/seaborn-data.git /databricks/driver/seaborn-data"
   ]
  },
  {
   "cell_type": "markdown",
   "id": "583b6677",
   "metadata": {},
   "source": [
    "### 📥 2. Download a file directly from GitHub"
   ]
  },
  {
   "cell_type": "code",
   "execution_count": null,
   "id": "f5cc4ddd",
   "metadata": {},
   "outputs": [],
   "source": [
    "file_path = \"file:/databricks/driver/seaborn-data/iris.csv\"\n",
    "\n",
    "df = spark.read.csv(file_path, header=True, inferSchema=True)\n",
    "df.show(5)"
   ]
  },
  {
   "cell_type": "markdown",
   "id": "a3e4571c",
   "metadata": {},
   "source": [
    "### 📦 3. Install a Python package using `%pip`"
   ]
  },
  {
   "cell_type": "code",
   "execution_count": null,
   "id": "cd25a636",
   "metadata": {},
   "outputs": [],
   "source": [
    "%pip install pandas"
   ]
  },
  {
   "cell_type": "markdown",
   "id": "db40a9aa",
   "metadata": {},
   "source": [
    "### 🔍 4. Verify installed packages"
   ]
  },
  {
   "cell_type": "code",
   "execution_count": null,
   "id": "02b9a3d4",
   "metadata": {},
   "outputs": [],
   "source": [
    "%pip list"
   ]
  },
  {
   "cell_type": "markdown",
   "id": "cd937ea6",
   "metadata": {},
   "source": [
    "### 🛠 5. Uninstall a Python package"
   ]
  },
  {
   "cell_type": "code",
   "execution_count": null,
   "id": "0c05a321",
   "metadata": {},
   "outputs": [],
   "source": [
    "%pip uninstall -y pandas"
   ]
  },
  {
   "cell_type": "markdown",
   "id": "f15a4a79",
   "metadata": {},
   "source": [
    "### 🧩 6. Install multiple packages from a `requirements.txt` file"
   ]
  },
  {
   "cell_type": "code",
   "execution_count": null,
   "id": "f7d083c4",
   "metadata": {},
   "outputs": [],
   "source": [
    "%sh\n",
    "# Example: create a requirements.txt file\n",
    "echo 'numpy\n",
    "scipy\n",
    "matplotlib' > requirements.txt"
   ]
  },
  {
   "cell_type": "code",
   "execution_count": null,
   "id": "8682125a",
   "metadata": {},
   "outputs": [],
   "source": [
    "%pip install -r requirements.txt"
   ]
  },
  {
   "cell_type": "markdown",
   "id": "72666d4e",
   "metadata": {},
   "source": [
    "### 📝 Notes:\n",
    "- Use `%pip` and `%conda` (if available) to manage Python environments in Databricks.\n",
    "- `%pip` installs packages in the current notebook session.\n",
    "- Restart the cluster if you need the packages across multiple notebooks.\n",
    "- Git cloning requires that `git` is installed on the cluster.\n",
    "- Replace example GitHub URLs with your own repositories."
   ]
  }
 ],
 "metadata": {},
 "nbformat": 4,
 "nbformat_minor": 5
}
