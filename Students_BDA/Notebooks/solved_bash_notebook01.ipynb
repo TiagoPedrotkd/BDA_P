{
 "cells": [
  {
   "cell_type": "markdown",
   "id": "79605794",
   "metadata": {},
   "source": [
    "# Databricks Bash Notebook (Solved)"
   ]
  },
  {
   "cell_type": "code",
   "execution_count": null,
   "id": "6f7ec350",
   "metadata": {},
   "outputs": [],
   "source": [
    "%sh\n",
    "mkdir data_folder"
   ]
  },
  {
   "cell_type": "code",
   "execution_count": null,
   "id": "42f6708d",
   "metadata": {},
   "outputs": [],
   "source": [
    "%sh\n",
    "ls -la"
   ]
  },
  {
   "cell_type": "code",
   "execution_count": null,
   "id": "ca6a1401",
   "metadata": {},
   "outputs": [],
   "source": [
    "%sh\n",
    "curl -o data_folder/robots.txt https://www.google.com/robots.txt"
   ]
  },
  {
   "cell_type": "code",
   "execution_count": null,
   "id": "b4f5f6f4",
   "metadata": {},
   "outputs": [],
   "source": [
    "%sh\n",
    "wc -l data_folder/robots.txt"
   ]
  },
  {
   "cell_type": "code",
   "execution_count": null,
   "id": "1fc490f8",
   "metadata": {},
   "outputs": [],
   "source": [
    "%sh\n",
    "head data_folder/robots.txt"
   ]
  }
 ],
 "metadata": {},
 "nbformat": 4,
 "nbformat_minor": 5
}
