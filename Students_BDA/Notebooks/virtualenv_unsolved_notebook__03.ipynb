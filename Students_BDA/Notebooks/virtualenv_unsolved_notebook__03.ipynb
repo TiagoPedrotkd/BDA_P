{
 "cells": [
  {
   "cell_type": "markdown",
   "id": "6e85b2e1",
   "metadata": {},
   "source": [
    "# Databricks Notebook (Unsolved)\n",
    "\n",
    "## 🚀 Task: Manage Virtual Environments in Databricks"
   ]
  },
  {
   "cell_type": "markdown",
   "id": "648582ef",
   "metadata": {},
   "source": [
    "### 🐍 1. Check current Python environment"
   ]
  },
  {
   "cell_type": "code",
   "execution_count": null,
   "id": "7bafacbf",
   "metadata": {},
   "outputs": [],
   "source": [
    "%sh\n",
    "# Your code here:"
   ]
  },
  {
   "cell_type": "markdown",
   "id": "5f8e0886",
   "metadata": {},
   "source": [
    "### 📦 2. Install `virtualenv`"
   ]
  },
  {
   "cell_type": "code",
   "execution_count": null,
   "id": "f333a5e1",
   "metadata": {},
   "outputs": [],
   "source": [
    "%pip # Your code here:"
   ]
  },
  {
   "cell_type": "markdown",
   "id": "4ae4bd6e",
   "metadata": {},
   "source": [
    "### 🛠 3. Create a virtual environment named `myenv`"
   ]
  },
  {
   "cell_type": "code",
   "execution_count": null,
   "id": "30ee62a4",
   "metadata": {},
   "outputs": [],
   "source": [
    "%sh\n",
    "# Your code here:"
   ]
  },
  {
   "cell_type": "markdown",
   "id": "731f46bc",
   "metadata": {},
   "source": [
    "### 🚀 4. Activate the virtual environment"
   ]
  },
  {
   "cell_type": "code",
   "execution_count": null,
   "id": "b140443a",
   "metadata": {},
   "outputs": [],
   "source": [
    "%sh\n",
    "# Your code here:"
   ]
  },
  {
   "cell_type": "markdown",
   "id": "cf2ab875",
   "metadata": {},
   "source": [
    "### 📄 5. Install packages inside the virtual environment"
   ]
  },
  {
   "cell_type": "code",
   "execution_count": null,
   "id": "96da634e",
   "metadata": {},
   "outputs": [],
   "source": [
    "%sh\n",
    "# Your code here:"
   ]
  },
  {
   "cell_type": "markdown",
   "id": "ec35da3a",
   "metadata": {},
   "source": [
    "### ❌ 6. Deactivate the virtual environment"
   ]
  },
  {
   "cell_type": "code",
   "execution_count": null,
   "id": "a5095ee3",
   "metadata": {},
   "outputs": [],
   "source": [
    "%sh\n",
    "# Your code here:"
   ]
  },
  {
   "cell_type": "markdown",
   "id": "2184d785",
   "metadata": {},
   "source": [
    "### 📝 Notes:\n",
    "- In Databricks, `%pip` is preferred over custom virtual environments.\n",
    "- However, this demonstrates standard `virtualenv` usage.\n",
    "- Not all clusters may allow persistent virtual environments."
   ]
  }
 ],
 "metadata": {},
 "nbformat": 4,
 "nbformat_minor": 5
}
