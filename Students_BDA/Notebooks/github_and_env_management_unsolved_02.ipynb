{
 "cells": [
  {
   "cell_type": "markdown",
   "id": "310c4e37",
   "metadata": {},
   "source": [
    "# Databricks Notebook (Unsolved)\n",
    "\n",
    "## 🚀 Task: Get Data from GitHub & Manage Python Environments"
   ]
  },
  {
   "cell_type": "markdown",
   "id": "3837b603",
   "metadata": {},
   "source": [
    "### 🔗 1. Clone a GitHub repository (if git is available)"
   ]
  },
  {
   "cell_type": "code",
   "execution_count": null,
   "id": "8dd78dd4",
   "metadata": {},
   "outputs": [],
   "source": [
    "%sh\n",
    "# Your code here:"
   ]
  },
  {
   "cell_type": "markdown",
   "id": "b11f3a2e",
   "metadata": {},
   "source": [
    "### 📥 2. Download a file directly from GitHub"
   ]
  },
  {
   "cell_type": "code",
   "execution_count": null,
   "id": "68f0baad",
   "metadata": {},
   "outputs": [],
   "source": [
    "%sh\n",
    "# Your code here:"
   ]
  },
  {
   "cell_type": "markdown",
   "id": "42aeafab",
   "metadata": {},
   "source": [
    "### 📦 3. Install a Python package using `%pip`"
   ]
  },
  {
   "cell_type": "code",
   "execution_count": null,
   "id": "f48dc641",
   "metadata": {},
   "outputs": [],
   "source": [
    "%pip # Your code here:"
   ]
  },
  {
   "cell_type": "markdown",
   "id": "5bf53acc",
   "metadata": {},
   "source": [
    "### 🔍 4. Verify installed packages"
   ]
  },
  {
   "cell_type": "code",
   "execution_count": null,
   "id": "101cf780",
   "metadata": {},
   "outputs": [],
   "source": [
    "%pip # Your code here:"
   ]
  },
  {
   "cell_type": "markdown",
   "id": "c13ff9ec",
   "metadata": {},
   "source": [
    "### 🛠 5. Uninstall a Python package"
   ]
  },
  {
   "cell_type": "code",
   "execution_count": null,
   "id": "83294010",
   "metadata": {},
   "outputs": [],
   "source": [
    "%pip # Your code here:"
   ]
  },
  {
   "cell_type": "markdown",
   "id": "76f2c0f9",
   "metadata": {},
   "source": [
    "### 🧩 6. Install multiple packages from a `requirements.txt` file"
   ]
  },
  {
   "cell_type": "code",
   "execution_count": null,
   "id": "3571d8af",
   "metadata": {},
   "outputs": [],
   "source": [
    "%sh\n",
    "# Your code here to create the requirements.txt file:"
   ]
  },
  {
   "cell_type": "code",
   "execution_count": null,
   "id": "9e21dd80",
   "metadata": {},
   "outputs": [],
   "source": [
    "%pip # Your code here to install from requirements.txt:"
   ]
  },
  {
   "cell_type": "markdown",
   "id": "56b98bb3",
   "metadata": {},
   "source": [
    "### 📝 Notes:\n",
    "- Use `%pip` and `%conda` (if available) to manage Python environments in Databricks.\n",
    "- `%pip` installs packages in the current notebook session.\n",
    "- Restart the cluster if you need the packages across multiple notebooks.\n",
    "- Git cloning requires that `git` is installed on the cluster.\n",
    "- Replace example GitHub URLs with your own repositories."
   ]
  }
 ],
 "metadata": {},
 "nbformat": 4,
 "nbformat_minor": 5
}
