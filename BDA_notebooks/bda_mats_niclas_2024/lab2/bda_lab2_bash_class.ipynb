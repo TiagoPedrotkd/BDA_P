{
 "cells": [
  {
   "cell_type": "markdown",
   "metadata": {
    "application/vnd.databricks.v1+cell": {
     "cellMetadata": {
      "byteLimit": 2048000,
      "rowLimit": 10000
     },
     "inputWidgets": {},
     "nuid": "a3e8e47c-7cd4-4ef3-b4c4-ecc574910b35",
     "showTitle": false,
     "title": ""
    }
   },
   "source": [
    "# Bash commands for quick data analysis\n",
    "\n",
    "This notebooks aims to give an hands-on approach on how to quickly browse and understand data store in files.\n",
    "\n",
    "First let's be sure we got a connection to the cluster and start by looking at the current directory"
   ]
  },
  {
   "cell_type": "markdown",
   "metadata": {
    "application/vnd.databricks.v1+cell": {
     "cellMetadata": {
      "byteLimit": 2048000,
      "rowLimit": 10000
     },
     "inputWidgets": {},
     "nuid": "51e60c63-5c50-4638-9a0a-398d05cc4cc3",
     "showTitle": false,
     "title": ""
    }
   },
   "source": [
    "Using the exclamation mark (!) we can run single-line shell commands. Using ``%%bash`` or ``%%sh``, we can do this for multi-line commands."
   ]
  },
  {
   "cell_type": "code",
   "execution_count": null,
   "metadata": {
    "application/vnd.databricks.v1+cell": {
     "cellMetadata": {
      "byteLimit": 2048000,
      "rowLimit": 10000
     },
     "inputWidgets": {},
     "nuid": "11a08aea-2dbd-4f95-ada3-80f77ce610b6",
     "showTitle": false,
     "title": ""
    }
   },
   "outputs": [],
   "source": [
    "# Installing some additional dependencies\n",
    "!pip3 install csvkit termgraph"
   ]
  },
  {
   "cell_type": "code",
   "execution_count": null,
   "metadata": {
    "application/vnd.databricks.v1+cell": {
     "cellMetadata": {
      "byteLimit": 2048000,
      "rowLimit": 10000
     },
     "inputWidgets": {},
     "nuid": "c03c3064-e1d1-48ea-8e43-b374e32dad7b",
     "showTitle": false,
     "title": ""
    }
   },
   "outputs": [],
   "source": [
    "%%bash \n",
    "wget -O miller.tar.gz \"https://github.com/johnkerl/miller/releases/download/v6.11.0/miller-6.11.0-linux-amd64.tar.gz\"; tar -xzf miller.tar.gz"
   ]
  },
  {
   "cell_type": "code",
   "execution_count": null,
   "metadata": {
    "application/vnd.databricks.v1+cell": {
     "cellMetadata": {
      "byteLimit": 2048000,
      "rowLimit": 10000
     },
     "inputWidgets": {},
     "nuid": "f7ae8b59-f844-427c-9f9a-4e46a9ef0b8c",
     "showTitle": false,
     "title": ""
    }
   },
   "outputs": [],
   "source": [
    "!ln miller-6.11.0-linux-amd64/mlr ./mlr"
   ]
  },
  {
   "cell_type": "code",
   "execution_count": null,
   "metadata": {
    "application/vnd.databricks.v1+cell": {
     "cellMetadata": {
      "byteLimit": 2048000,
      "rowLimit": 10000
     },
     "inputWidgets": {},
     "nuid": "caa2f781-2203-4ddc-95c7-3708b7c83280",
     "showTitle": false,
     "title": ""
    }
   },
   "outputs": [],
   "source": [
    "%%bash\n",
    "ls "
   ]
  },
  {
   "cell_type": "markdown",
   "metadata": {
    "application/vnd.databricks.v1+cell": {
     "cellMetadata": {
      "byteLimit": 2048000,
      "rowLimit": 10000
     },
     "inputWidgets": {},
     "nuid": "b1576a31-fee4-4b00-b713-eecb98e0f487",
     "showTitle": false,
     "title": ""
    }
   },
   "source": [
    "Okay, there we got a connection. Let's move on to some exercises."
   ]
  },
  {
   "cell_type": "markdown",
   "metadata": {
    "application/vnd.databricks.v1+cell": {
     "cellMetadata": {
      "byteLimit": 2048000,
      "rowLimit": 10000
     },
     "inputWidgets": {},
     "nuid": "9db33227-aaf1-49e7-84f9-2982f1b3eb77",
     "showTitle": false,
     "title": ""
    }
   },
   "source": [
    "### Getting started\n",
    "\n",
    "Now let's download the data for this class.\n",
    "\n",
    "__wget__ is an command used to download files from the internet, in this case we will download a randomly generated csv containing sales data.  \n",
    "This is the url of the file: http://eforexcel.com/wp/wp-content/uploads/2020/09/5m-Sales-Records.zip"
   ]
  },
  {
   "cell_type": "code",
   "execution_count": null,
   "metadata": {
    "application/vnd.databricks.v1+cell": {
     "cellMetadata": {
      "byteLimit": 2048000,
      "rowLimit": 10000
     },
     "inputWidgets": {},
     "nuid": "880d54e3-c147-4329-8d28-905d9644d596",
     "showTitle": false,
     "title": ""
    }
   },
   "outputs": [],
   "source": [
    "%%bash\n",
    "\n",
    "# Your code goes here\n",
    "wget -O sales.zip http://eforexcel.com/wp/wp-content/uploads/2020/09/5m-Sales-Records.zip"
   ]
  },
  {
   "cell_type": "markdown",
   "metadata": {
    "application/vnd.databricks.v1+cell": {
     "cellMetadata": {
      "byteLimit": 2048000,
      "rowLimit": 10000
     },
     "inputWidgets": {},
     "nuid": "b93729b9-60b6-4894-a9ba-88308fc3aaf8",
     "showTitle": false,
     "title": ""
    }
   },
   "source": [
    "Can you list the directory again and confirm the file was dowloaded?"
   ]
  },
  {
   "cell_type": "code",
   "execution_count": null,
   "metadata": {
    "application/vnd.databricks.v1+cell": {
     "cellMetadata": {
      "byteLimit": 2048000,
      "rowLimit": 10000
     },
     "inputWidgets": {},
     "nuid": "61be39aa-8b9d-404d-874d-137d28730be7",
     "showTitle": false,
     "title": ""
    }
   },
   "outputs": [],
   "source": [
    "%%bash\n",
    "# Your code goes here"
   ]
  },
  {
   "cell_type": "markdown",
   "metadata": {
    "application/vnd.databricks.v1+cell": {
     "cellMetadata": {
      "byteLimit": 2048000,
      "rowLimit": 10000
     },
     "inputWidgets": {},
     "nuid": "30d6b204-ba9f-4d2f-8a9a-afe36c00ec83",
     "showTitle": false,
     "title": ""
    }
   },
   "source": [
    "Next let's **unzip** the file"
   ]
  },
  {
   "cell_type": "code",
   "execution_count": null,
   "metadata": {
    "application/vnd.databricks.v1+cell": {
     "cellMetadata": {
      "byteLimit": 2048000,
      "rowLimit": 10000
     },
     "inputWidgets": {},
     "nuid": "bcb8e929-45ef-4db8-8dde-3dc7bde53fa4",
     "showTitle": false,
     "title": ""
    }
   },
   "outputs": [],
   "source": [
    "%%bash\n",
    "# Your code goes here"
   ]
  },
  {
   "cell_type": "markdown",
   "metadata": {
    "application/vnd.databricks.v1+cell": {
     "cellMetadata": {
      "byteLimit": 2048000,
      "rowLimit": 10000
     },
     "inputWidgets": {},
     "nuid": "29f400ab-9800-4eb3-ba9a-aff9f32e9268",
     "showTitle": false,
     "title": ""
    }
   },
   "source": [
    "Confirm the file is now unziped and check how much space does it take (ls might be a solution here _**ls --help**_ will get all options for extra funcionality)"
   ]
  },
  {
   "cell_type": "code",
   "execution_count": null,
   "metadata": {
    "application/vnd.databricks.v1+cell": {
     "cellMetadata": {
      "byteLimit": 2048000,
      "rowLimit": 10000
     },
     "inputWidgets": {},
     "nuid": "a22c5f03-9a2f-4405-b736-781b406f6d6a",
     "showTitle": false,
     "title": ""
    }
   },
   "outputs": [],
   "source": [
    "%%bash\n",
    "# Your code goes here"
   ]
  },
  {
   "cell_type": "markdown",
   "metadata": {
    "application/vnd.databricks.v1+cell": {
     "cellMetadata": {
      "byteLimit": 2048000,
      "rowLimit": 10000
     },
     "inputWidgets": {},
     "nuid": "a42eb6cc-8cd1-4687-bba0-2c4d7452078d",
     "showTitle": false,
     "title": ""
    }
   },
   "source": [
    "Optionally rename the file to a simpler name using the mv command (hint: mv --help)"
   ]
  },
  {
   "cell_type": "code",
   "execution_count": null,
   "metadata": {
    "application/vnd.databricks.v1+cell": {
     "cellMetadata": {
      "byteLimit": 2048000,
      "rowLimit": 10000
     },
     "inputWidgets": {},
     "nuid": "4d1609d4-18fc-40ed-b90d-a429fe5e3368",
     "showTitle": false,
     "title": ""
    }
   },
   "outputs": [],
   "source": [
    "%%bash\n",
    "\n",
    "# Your code goes here"
   ]
  },
  {
   "cell_type": "markdown",
   "metadata": {
    "application/vnd.databricks.v1+cell": {
     "cellMetadata": {
      "byteLimit": 2048000,
      "rowLimit": 10000
     },
     "inputWidgets": {},
     "nuid": "708d215a-3992-4c50-9bb6-760588587022",
     "showTitle": false,
     "title": ""
    }
   },
   "source": [
    "## Diving in the data\n",
    "\n",
    "Will start by understanding what data are we dealing with.  \n",
    "Take the first 5 rows and see what are the contents of the file."
   ]
  },
  {
   "cell_type": "code",
   "execution_count": null,
   "metadata": {
    "application/vnd.databricks.v1+cell": {
     "cellMetadata": {
      "byteLimit": 2048000,
      "rowLimit": 10000
     },
     "inputWidgets": {},
     "nuid": "c16c9f00-d415-487f-9920-951a3e7728e6",
     "showTitle": false,
     "title": ""
    }
   },
   "outputs": [],
   "source": [
    "%%bash\n",
    "\n",
    "# Your code goes here"
   ]
  },
  {
   "cell_type": "code",
   "execution_count": null,
   "metadata": {
    "application/vnd.databricks.v1+cell": {
     "cellMetadata": {
      "byteLimit": 2048000,
      "rowLimit": 10000
     },
     "inputWidgets": {},
     "nuid": "4d1f2593-da84-4149-b052-ca5a3d97cf26",
     "showTitle": false,
     "title": ""
    }
   },
   "outputs": [],
   "source": [
    "# An alternative approach using the \"csvkit\"\n"
   ]
  },
  {
   "cell_type": "markdown",
   "metadata": {
    "application/vnd.databricks.v1+cell": {
     "cellMetadata": {
      "byteLimit": 2048000,
      "rowLimit": 10000
     },
     "inputWidgets": {},
     "nuid": "de2eebce-37d1-48d0-8386-e7993ff97f4d",
     "showTitle": false,
     "title": ""
    }
   },
   "source": [
    "So a regular csv where the first line is the header and the columns are devided with commas. \n",
    "\n",
    "Next let's see how many rows does the file contain."
   ]
  },
  {
   "cell_type": "code",
   "execution_count": null,
   "metadata": {
    "application/vnd.databricks.v1+cell": {
     "cellMetadata": {
      "byteLimit": 2048000,
      "rowLimit": 10000
     },
     "inputWidgets": {},
     "nuid": "46099e87-70cd-47d1-be13-be482dc7fd63",
     "showTitle": false,
     "title": ""
    }
   },
   "outputs": [],
   "source": [
    "%%bash\n",
    "\n",
    "# Your code goes here"
   ]
  },
  {
   "cell_type": "markdown",
   "metadata": {
    "application/vnd.databricks.v1+cell": {
     "cellMetadata": {
      "byteLimit": 2048000,
      "rowLimit": 10000
     },
     "inputWidgets": {},
     "nuid": "b0570fd9-e299-46cc-be32-d5ed3752ecdc",
     "showTitle": false,
     "title": ""
    }
   },
   "source": [
    "How many of these rows are relative to Europe?"
   ]
  },
  {
   "cell_type": "code",
   "execution_count": null,
   "metadata": {
    "application/vnd.databricks.v1+cell": {
     "cellMetadata": {
      "byteLimit": 2048000,
      "rowLimit": 10000
     },
     "inputWidgets": {},
     "nuid": "75a63223-1b2c-4934-87ed-aaf4ce61dfb8",
     "showTitle": false,
     "title": ""
    }
   },
   "outputs": [],
   "source": [
    "%%bash\n",
    "\n",
    "# Your code goes here"
   ]
  },
  {
   "cell_type": "markdown",
   "metadata": {
    "application/vnd.databricks.v1+cell": {
     "cellMetadata": {
      "byteLimit": 2048000,
      "rowLimit": 10000
     },
     "inputWidgets": {},
     "nuid": "b51476b2-1cf3-428f-8315-17e47cae5d93",
     "showTitle": false,
     "title": ""
    }
   },
   "source": [
    "And from the the European ones how many were Online orders?"
   ]
  },
  {
   "cell_type": "code",
   "execution_count": null,
   "metadata": {
    "application/vnd.databricks.v1+cell": {
     "cellMetadata": {
      "byteLimit": 2048000,
      "rowLimit": 10000
     },
     "inputWidgets": {},
     "nuid": "64da9fad-6919-4ee1-aa2e-5c7f5e78331a",
     "showTitle": false,
     "title": ""
    }
   },
   "outputs": [],
   "source": [
    "%%bash\n",
    "\n",
    "# Your code goes here"
   ]
  },
  {
   "cell_type": "markdown",
   "metadata": {
    "application/vnd.databricks.v1+cell": {
     "cellMetadata": {
      "byteLimit": 2048000,
      "rowLimit": 10000
     },
     "inputWidgets": {},
     "nuid": "2fe41cad-7d48-4dfd-99a2-2a1b3e68143a",
     "showTitle": false,
     "title": ""
    }
   },
   "source": [
    "Output to a file the Item Type, the order date and the order priority of orders from Portugal.\n",
    "\n",
    "_Hint:_  \n",
    "_As mentioned on the intro the **>** operator can be used to redirect the output to a file._\n",
    "> echo \"New line\" > new_file.txt\n",
    "\n",
    "_Will create a file called new_file.txt with New line_"
   ]
  },
  {
   "cell_type": "code",
   "execution_count": null,
   "metadata": {
    "application/vnd.databricks.v1+cell": {
     "cellMetadata": {
      "byteLimit": 2048000,
      "rowLimit": 10000
     },
     "inputWidgets": {},
     "nuid": "176b1be6-de15-4864-9d3c-6c3f95c250cb",
     "showTitle": false,
     "title": ""
    }
   },
   "outputs": [],
   "source": [
    "%%bash\n",
    "\n",
    "# Your code goes here"
   ]
  },
  {
   "cell_type": "markdown",
   "metadata": {
    "application/vnd.databricks.v1+cell": {
     "cellMetadata": {
      "byteLimit": 2048000,
      "rowLimit": 10000
     },
     "inputWidgets": {},
     "nuid": "54d21d87-2fa3-43d0-a11f-eb74176f4534",
     "showTitle": false,
     "title": ""
    }
   },
   "source": [
    "Within European Online orders which 5 countries got the highest number of orders? (hint: A combinatation of **sort** and **uniq** will probably help)"
   ]
  },
  {
   "cell_type": "code",
   "execution_count": null,
   "metadata": {
    "application/vnd.databricks.v1+cell": {
     "cellMetadata": {
      "byteLimit": 2048000,
      "rowLimit": 10000
     },
     "inputWidgets": {},
     "nuid": "265445de-9863-4f83-b91d-296aec9f5e25",
     "showTitle": false,
     "title": ""
    }
   },
   "outputs": [],
   "source": [
    "%%bash\n",
    "\n",
    "# Your code goes here\n"
   ]
  },
  {
   "cell_type": "markdown",
   "metadata": {
    "application/vnd.databricks.v1+cell": {
     "cellMetadata": {
      "byteLimit": 2048000,
      "rowLimit": 10000
     },
     "inputWidgets": {},
     "nuid": "ed303bad-3bda-4bb7-b9c5-a06811d215b9",
     "showTitle": false,
     "title": ""
    }
   },
   "source": [
    "We can achieve similar results using ``mlr`` and \"then\"-chaining. Note that this is equivalent to calling ``| ./mlr *verb*`` sequentially."
   ]
  },
  {
   "cell_type": "code",
   "execution_count": null,
   "metadata": {
    "application/vnd.databricks.v1+cell": {
     "cellMetadata": {
      "byteLimit": 2048000,
      "rowLimit": 10000
     },
     "inputWidgets": {},
     "nuid": "7a4ac350-14d3-41dc-a98c-26eafc440102",
     "showTitle": false,
     "title": ""
    }
   },
   "outputs": [],
   "source": [
    "%%bash\n",
    " \n",
    "# Your code goes here"
   ]
  },
  {
   "cell_type": "markdown",
   "metadata": {
    "application/vnd.databricks.v1+cell": {
     "cellMetadata": {
      "byteLimit": 2048000,
      "rowLimit": 10000
     },
     "inputWidgets": {},
     "nuid": "bd02febb-ff88-4f04-9018-882547302350",
     "showTitle": false,
     "title": ""
    }
   },
   "source": [
    "We can also generate summary statistics using ``mlr`` using stats1 for univariate data."
   ]
  },
  {
   "cell_type": "code",
   "execution_count": null,
   "metadata": {
    "application/vnd.databricks.v1+cell": {
     "cellMetadata": {
      "byteLimit": 2048000,
      "rowLimit": 10000
     },
     "inputWidgets": {},
     "nuid": "3dafa522-d5a9-455f-8d04-d19ac6f31bc5",
     "showTitle": false,
     "title": ""
    }
   },
   "outputs": [],
   "source": [
    "%%bash\n",
    "\n",
    "# Your code goes here"
   ]
  },
  {
   "cell_type": "markdown",
   "metadata": {
    "application/vnd.databricks.v1+cell": {
     "cellMetadata": {
      "byteLimit": 2048000,
      "rowLimit": 10000
     },
     "inputWidgets": {},
     "nuid": "cf96d225-b763-47f3-8ef8-8aa492741828",
     "showTitle": false,
     "title": ""
    }
   },
   "source": [
    "We can use the ``csvsql`` utility contained in the ``csvkit`` to run SQL queries on the data."
   ]
  },
  {
   "cell_type": "code",
   "execution_count": null,
   "metadata": {
    "application/vnd.databricks.v1+cell": {
     "cellMetadata": {
      "byteLimit": 2048000,
      "rowLimit": 10000
     },
     "inputWidgets": {},
     "nuid": "efd5e394-972c-46ad-9d0b-964e3b049efb",
     "showTitle": false,
     "title": ""
    }
   },
   "outputs": [],
   "source": [
    "# Your code goes here"
   ]
  },
  {
   "cell_type": "code",
   "execution_count": null,
   "metadata": {
    "application/vnd.databricks.v1+cell": {
     "cellMetadata": {
      "byteLimit": 2048000,
      "rowLimit": 10000
     },
     "inputWidgets": {},
     "nuid": "7e6f173d-1dba-4f3c-b401-aeb1d486d71b",
     "showTitle": false,
     "title": ""
    }
   },
   "outputs": [],
   "source": [
    "# Your code goes here"
   ]
  },
  {
   "cell_type": "markdown",
   "metadata": {
    "application/vnd.databricks.v1+cell": {
     "cellMetadata": {
      "byteLimit": 2048000,
      "rowLimit": 10000
     },
     "inputWidgets": {},
     "nuid": "13d8d4d3-fe33-4c22-b72d-d8c78644c5cb",
     "showTitle": false,
     "title": ""
    }
   },
   "source": [
    "It is also easy to integrate with ``Python``, given the following function can you make an histogram with number of orders per region?"
   ]
  },
  {
   "cell_type": "code",
   "execution_count": null,
   "metadata": {
    "application/vnd.databricks.v1+cell": {
     "cellMetadata": {
      "byteLimit": 2048000,
      "rowLimit": 10000
     },
     "inputWidgets": {},
     "nuid": "1a84b79f-3b1b-440d-b583-ece150cea935",
     "showTitle": false,
     "title": ""
    }
   },
   "outputs": [],
   "source": [
    "%%bash\n",
    "echo '''\n",
    "import math\n",
    "import sys\n",
    "for line in sys.stdin:\n",
    "  width, data = line.strip().split(\" \",1)\n",
    "  print(\"{:<35}{:=<{width}}\".format(data, \"\", width=math.log(int(width))))\n",
    "''' > log_histogram.py"
   ]
  },
  {
   "cell_type": "code",
   "execution_count": null,
   "metadata": {
    "application/vnd.databricks.v1+cell": {
     "cellMetadata": {
      "byteLimit": 2048000,
      "rowLimit": 10000
     },
     "inputWidgets": {},
     "nuid": "c4e61094-82f9-47dc-91f5-dbc9d6e711b1",
     "showTitle": false,
     "title": ""
    }
   },
   "outputs": [],
   "source": [
    "%%bash \n",
    "# Your code goes here"
   ]
  },
  {
   "cell_type": "code",
   "execution_count": null,
   "metadata": {
    "application/vnd.databricks.v1+cell": {
     "cellMetadata": {
      "byteLimit": 2048000,
      "rowLimit": 10000
     },
     "inputWidgets": {},
     "nuid": "20cd21a1-1475-45cf-938d-548b13f4bcdb",
     "showTitle": false,
     "title": ""
    }
   },
   "outputs": [],
   "source": [
    "%%bash\n",
    "\n",
    "# We can also use the \"termgraph\" utility "
   ]
  },
  {
   "cell_type": "markdown",
   "metadata": {
    "application/vnd.databricks.v1+cell": {
     "cellMetadata": {
      "byteLimit": 2048000,
      "rowLimit": 10000
     },
     "inputWidgets": {},
     "nuid": "216fe729-6c3c-4626-8b43-2525292d9670",
     "showTitle": false,
     "title": ""
    }
   },
   "source": [
    "Now let's split the file with:"
   ]
  },
  {
   "cell_type": "code",
   "execution_count": null,
   "metadata": {
    "application/vnd.databricks.v1+cell": {
     "cellMetadata": {
      "byteLimit": 2048000,
      "rowLimit": 10000
     },
     "inputWidgets": {},
     "nuid": "46cfebd7-35ca-4141-97d6-edbb2e8ceb6e",
     "showTitle": false,
     "title": ""
    }
   },
   "outputs": [],
   "source": [
    "%%bash\n",
    "# Your code goes here\n"
   ]
  },
  {
   "cell_type": "markdown",
   "metadata": {
    "application/vnd.databricks.v1+cell": {
     "cellMetadata": {
      "byteLimit": 2048000,
      "rowLimit": 10000
     },
     "inputWidgets": {},
     "nuid": "afbd808a-28ff-46b2-b107-4e2885e94cba",
     "showTitle": false,
     "title": ""
    }
   },
   "source": [
    "Can you run the same operation as previously but now searching through the multiple files created? (_Hint: the **cat** command will probably be usefull here)_"
   ]
  },
  {
   "cell_type": "code",
   "execution_count": null,
   "metadata": {
    "application/vnd.databricks.v1+cell": {
     "cellMetadata": {
      "byteLimit": 2048000,
      "rowLimit": 10000
     },
     "inputWidgets": {},
     "nuid": "52160ee5-ec15-4ad9-9af5-02c9673c75b3",
     "showTitle": false,
     "title": ""
    }
   },
   "outputs": [],
   "source": [
    "%%bash\n",
    "\n",
    "# Your code goes here"
   ]
  },
  {
   "cell_type": "markdown",
   "metadata": {
    "application/vnd.databricks.v1+cell": {
     "cellMetadata": {
      "byteLimit": 2048000,
      "rowLimit": 10000
     },
     "inputWidgets": {},
     "nuid": "59691580-869e-4b8c-b4c1-f18c43fae8a5",
     "showTitle": false,
     "title": ""
    }
   },
   "source": [
    "Which file contains the following entry? And in what line? (_Hint: the **grep** command will probably be usefull here)_\n",
    "`Australia and Oceania,Solomon Islands,Clothes,Offline,H,1/1/2020,562158238,1/20/2020,3970,109.28,35.84,433841.60,142284.80,291556.80`"
   ]
  },
  {
   "cell_type": "code",
   "execution_count": null,
   "metadata": {
    "application/vnd.databricks.v1+cell": {
     "cellMetadata": {
      "byteLimit": 2048000,
      "rowLimit": 10000
     },
     "inputWidgets": {},
     "nuid": "ccad424a-7b8c-4d86-a7a6-6e4c580f7bd5",
     "showTitle": false,
     "title": ""
    }
   },
   "outputs": [],
   "source": [
    "%%bash\n",
    "\n",
    "# Your code goes here"
   ]
  },
  {
   "cell_type": "markdown",
   "metadata": {
    "application/vnd.databricks.v1+cell": {
     "cellMetadata": {
      "byteLimit": 2048000,
      "rowLimit": 10000
     },
     "inputWidgets": {},
     "nuid": "e7d56c0e-9260-4c14-a1d2-1c0b5dd18cf3",
     "showTitle": false,
     "title": ""
    }
   },
   "source": [
    "## Parallel Processing"
   ]
  },
  {
   "cell_type": "markdown",
   "metadata": {
    "application/vnd.databricks.v1+cell": {
     "cellMetadata": {
      "byteLimit": 2048000,
      "rowLimit": 10000
     },
     "inputWidgets": {},
     "nuid": "384e5f02-0331-411f-ac96-be2502b265cd",
     "showTitle": false,
     "title": ""
    }
   },
   "source": [
    "We are going to use \"GNU parallel\", which allows us to run code in parallel using the shell"
   ]
  },
  {
   "cell_type": "code",
   "execution_count": null,
   "metadata": {
    "application/vnd.databricks.v1+cell": {
     "cellMetadata": {
      "byteLimit": 2048000,
      "rowLimit": 10000
     },
     "inputWidgets": {},
     "nuid": "4989cb22-972c-487c-b683-ad2223c24f11",
     "showTitle": false,
     "title": ""
    }
   },
   "outputs": [],
   "source": [
    "!apt-get -y install parallel"
   ]
  },
  {
   "cell_type": "code",
   "execution_count": null,
   "metadata": {
    "application/vnd.databricks.v1+cell": {
     "cellMetadata": {
      "byteLimit": 2048000,
      "rowLimit": 10000
     },
     "inputWidgets": {},
     "nuid": "0522873d-71ed-43fb-8aa8-ddd0a85243a0",
     "showTitle": false,
     "title": ""
    }
   },
   "outputs": [],
   "source": [
    "%%bash\n",
    "# Parallel processing using GNU \"parallel\"\n",
    "seq 0 2 20 | parallel \"echo {}^2\" | head"
   ]
  },
  {
   "cell_type": "markdown",
   "metadata": {
    "application/vnd.databricks.v1+cell": {
     "cellMetadata": {
      "byteLimit": 2048000,
      "rowLimit": 10000
     },
     "inputWidgets": {},
     "nuid": "44d7af39-a5ec-4452-86cb-24203822369b",
     "showTitle": false,
     "title": ""
    }
   },
   "source": [
    "\"Embarassingly parallel\" code can easily be parallelized, such as the following webscraping example. Every call to the website is independent of each other. We first upload the sites.txt file to the file store and confirm that it is there."
   ]
  },
  {
   "cell_type": "code",
   "execution_count": null,
   "metadata": {
    "application/vnd.databricks.v1+cell": {
     "cellMetadata": {
      "byteLimit": 2048000,
      "rowLimit": 10000
     },
     "inputWidgets": {},
     "nuid": "9750e7c3-6bc9-4ff4-9697-cbadf08409e7",
     "showTitle": false,
     "title": ""
    }
   },
   "outputs": [],
   "source": [
    "# dbutils gives us access to some databricks utilities. fs lets us explore the file system\n",
    "dbutils.fs.cp(\"dbfs:/FileStore/sites.txt\", \"file:/tmp/sites.txt\")"
   ]
  },
  {
   "cell_type": "code",
   "execution_count": null,
   "metadata": {
    "application/vnd.databricks.v1+cell": {
     "cellMetadata": {
      "byteLimit": 2048000,
      "rowLimit": 10000
     },
     "inputWidgets": {},
     "nuid": "d9303664-5c6e-4cb0-ba25-8d594526db14",
     "showTitle": false,
     "title": ""
    }
   },
   "outputs": [],
   "source": [
    "%%bash\n",
    "\n",
    "# Your code goes here"
   ]
  },
  {
   "cell_type": "markdown",
   "metadata": {
    "application/vnd.databricks.v1+cell": {
     "cellMetadata": {
      "byteLimit": 2048000,
      "rowLimit": 10000
     },
     "inputWidgets": {},
     "nuid": "7e1a1660-45b1-46be-803d-34e541295bec",
     "showTitle": false,
     "title": ""
    }
   },
   "source": [
    "We can perform HTML parsing from the command line too, using the \"pup\" utility"
   ]
  },
  {
   "cell_type": "code",
   "execution_count": null,
   "metadata": {
    "application/vnd.databricks.v1+cell": {
     "cellMetadata": {
      "byteLimit": 2048000,
      "rowLimit": 10000
     },
     "inputWidgets": {},
     "nuid": "5eeb6811-79a4-4bd3-a5e5-8e148fe0249f",
     "showTitle": false,
     "title": ""
    }
   },
   "outputs": [],
   "source": [
    "%%bash \n",
    "# Installing pup\n",
    "curl -Lo pup.zip \"https://github.com/ericchiang/pup/releases/download/v0.4.0/pup_v0.4.0_linux_amd64.zip\"; unzip pup.zip"
   ]
  },
  {
   "cell_type": "markdown",
   "metadata": {
    "application/vnd.databricks.v1+cell": {
     "cellMetadata": {
      "byteLimit": 2048000,
      "rowLimit": 10000
     },
     "inputWidgets": {},
     "nuid": "20aead56-47a4-4757-83b3-e960267ccb6f",
     "showTitle": false,
     "title": ""
    }
   },
   "source": [
    "Counting the number of rows in the HTML table. Note that we use ./pup in the command since the path is relative to the current directory."
   ]
  },
  {
   "cell_type": "code",
   "execution_count": null,
   "metadata": {
    "application/vnd.databricks.v1+cell": {
     "cellMetadata": {
      "byteLimit": 2048000,
      "rowLimit": 10000
     },
     "inputWidgets": {},
     "nuid": "1b888f4d-6b79-40a8-aba1-95447d02a9ea",
     "showTitle": false,
     "title": ""
    }
   },
   "outputs": [],
   "source": [
    "# Your code goes here"
   ]
  },
  {
   "cell_type": "markdown",
   "metadata": {
    "application/vnd.databricks.v1+cell": {
     "cellMetadata": {
      "byteLimit": 2048000,
      "rowLimit": 10000
     },
     "inputWidgets": {},
     "nuid": "c1d1c42b-5bd3-4bc8-9ace-f1185cecf649",
     "showTitle": false,
     "title": ""
    }
   },
   "source": [
    "We can put all of it together in a single command, using the \";\" delimiter. We first find all the \"html\" files in the current directory and re-direct them into another file. Then, we perform parallel counts of the number of rows contained in any of those files. We use 5 jobs at the same time. Finally, we print the name of the file and use \"pup\" to count the number of rows in the table."
   ]
  },
  {
   "cell_type": "code",
   "execution_count": null,
   "metadata": {
    "application/vnd.databricks.v1+cell": {
     "cellMetadata": {
      "byteLimit": 2048000,
      "rowLimit": 10000
     },
     "inputWidgets": {},
     "nuid": "8161149c-deae-4179-b9f2-646f2eff13c0",
     "showTitle": false,
     "title": ""
    }
   },
   "outputs": [],
   "source": [
    "# Your code goes here"
   ]
  },
  {
   "cell_type": "markdown",
   "metadata": {
    "application/vnd.databricks.v1+cell": {
     "cellMetadata": {
      "byteLimit": 2048000,
      "rowLimit": 10000
     },
     "inputWidgets": {},
     "nuid": "f2cdc056-f9c3-4025-bd10-5e0a0a03070d",
     "showTitle": false,
     "title": ""
    }
   },
   "source": [
    "Want to learn more?  \n",
    "Check the free O’Reilly book here: https://www.datascienceatthecommandline.com/"
   ]
  }
 ],
 "metadata": {
  "application/vnd.databricks.v1+notebook": {
   "dashboards": [],
   "language": "python",
   "notebookMetadata": {
    "mostRecentlyExecutedCommandWithImplicitDF": {
     "commandId": 4328443038189627,
     "dataframes": [
      "_sqldf"
     ]
    },
    "pythonIndentUnit": 4
   },
   "notebookName": "bda_lab2_bash",
   "widgets": {}
  },
  "kernelspec": {
   "display_name": "co_bidding",
   "language": "python",
   "name": "python3"
  },
  "language_info": {
   "codemirror_mode": {
    "name": "ipython",
    "version": 3
   },
   "file_extension": ".py",
   "mimetype": "text/x-python",
   "name": "python",
   "nbconvert_exporter": "python",
   "pygments_lexer": "ipython3",
   "version": "3.11.4"
  }
 },
 "nbformat": 4,
 "nbformat_minor": 0
}
