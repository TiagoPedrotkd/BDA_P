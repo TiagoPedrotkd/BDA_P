{
 "cells": [
  {
   "cell_type": "markdown",
   "metadata": {
    "application/vnd.databricks.v1+cell": {
     "cellMetadata": {
      "byteLimit": 2048000,
      "rowLimit": 10000
     },
     "inputWidgets": {},
     "nuid": "6c101d94-0744-44f3-ac7d-f508f1662a0e",
     "showTitle": false,
     "title": ""
    }
   },
   "source": [
    "# Spark GraphFrames - Solutions\n",
    "\n",
    "Before running present notebook please install the GraphFrames package into your cluster by following the steps in the pdf available with this notebook.  \n",
    "To check you have everything setup correctly run the below code and make sure there are no errors. If you get a message about connecting to a cluster click *ok*."
   ]
  },
  {
   "cell_type": "code",
   "execution_count": 0,
   "metadata": {
    "application/vnd.databricks.v1+cell": {
     "cellMetadata": {
      "byteLimit": 2048000,
      "rowLimit": 10000
     },
     "inputWidgets": {},
     "nuid": "833c09ad-41e2-432c-a910-8de95829a5a3",
     "showTitle": false,
     "title": ""
    }
   },
   "outputs": [],
   "source": [
    "#import the package we just installed\n",
    "from graphframes import *\n",
    "#import data types - All data types of Spark SQL are located in the package of pyspark.sql.types\n",
    "from pyspark.sql.types import *\n",
    "#row can be used to create a row object by using named arguments\n",
    "from pyspark.sql import Row"
   ]
  },
  {
   "cell_type": "markdown",
   "metadata": {
    "application/vnd.databricks.v1+cell": {
     "cellMetadata": {
      "byteLimit": 2048000,
      "rowLimit": 10000
     },
     "inputWidgets": {},
     "nuid": "6f320ffa-f632-4ebe-bc55-9b5122229cd0",
     "showTitle": false,
     "title": ""
    }
   },
   "source": [
    "<b>Graphs:</b> Graphs are mathematical structures used to model pairwise relations between objects. A graph in this context is made up of vertices (also called nodes or points) which are connected by edges (also called links or lines). A distinction is made between undirected graphs, where edges link two vertices symmetrically, and directed graphs, where edges link two vertices asymmetrically; see Graph (discrete mathematics) for more detailed definitions and for other variations in the types of graph that are commonly considered (follow this link: https://en.wikipedia.org/wiki/Graph_(discrete_mathematics)). Graphs are one of the prime objects of study in discrete mathematics.\n",
    "\n",
    "![image](https://mathinsight.org/media/image/image/small_undirected_network_labeled.png)\n",
    "\n",
    "Graph processing is important aspect of analysis that applies to a lot of use cases. Fundamentally graph theory and processing are about defining relationships between different nodes and edges. Nodes or vertices are the units while edges define the relationships between nodes. This works great for social network analysis and running algorithms like PageRank to better understand and weigh relationships.\n",
    "\n",
    "Some business use cases could be to look at central people in social networks [who is most popular in a group of friends], importance of papers in bibliographic networks [which papers are most referenced], and of course ranking web pages.\n",
    "\n",
    "## PageRank\n",
    "\n",
    "For this class we will look into the page rank algorithm again but – this time – from another point of view. As you might remenber, the PageRank of a particular web page indicates its relative importance within a group of web pages. The higher the page rank, the higher up it will appear in a search result list. The importance of a page is defined by the importance of all the web pages that provide an outbound link to the web page in consideration.\n",
    " For example, say that web page X has very high relative importance. Web page X is outbounding to web page Y (webpage X links to Y); hence, web page Y will also have high importance. However, if webpage X links to many webpages, including Y, the importance of Y is lower.\n",
    "\n",
    "For more information on pagerank you either:\n",
    "\n",
    "Follow through the worked example: https://www.cs.princeton.edu/~chazelle/courses/BIB/pagerank.htm\n",
    "\n",
    "Take a look at one of the many youtube explanations, for example (10min): https://www.youtube.com/watch?v=qpIqLjfcabs\n",
    "\n",
    "Part of what is important here is to understand the data format we use to represent a graph. I have commented the steps below:"
   ]
  },
  {
   "cell_type": "code",
   "execution_count": 0,
   "metadata": {
    "application/vnd.databricks.v1+cell": {
     "cellMetadata": {
      "byteLimit": 2048000,
      "rowLimit": 10000
     },
     "inputWidgets": {},
     "nuid": "8e10d01f-b770-4b03-b176-6c35e5e98b0d",
     "showTitle": false,
     "title": ""
    }
   },
   "outputs": [
    {
     "output_type": "stream",
     "name": "stdout",
     "output_type": "stream",
     "text": [
      "+---+\n| id|\n+---+\n|  a|\n|  b|\n|  c|\n|  d|\n+---+\n\n"
     ]
    }
   ],
   "source": [
    "# First we start with the list of vertices, I have 5 vertices here, each named with a letter of the alphabet\n",
    "verticesList = ['a', 'b', 'c', 'd']\n",
    "# We load this list into an RDD as we have seen before\n",
    "verticesListRDD = sc.parallelize(verticesList, 1)\n",
    "# We convert this RDD to a dataframe using row objects and specifying a schema.\n",
    "verticesListRowsRDD = verticesListRDD.map( lambda data : Row(data))\n",
    "verticesSchema = StructType([StructField('id', StringType(), True)])\n",
    "verticesDataFrame = sqlContext.createDataFrame(verticesListRowsRDD, verticesSchema).persist()\n",
    "#Here I show the schema of the Dataframe.\n",
    "verticesDataFrame.show()"
   ]
  },
  {
   "cell_type": "markdown",
   "metadata": {
    "application/vnd.databricks.v1+cell": {
     "cellMetadata": {
      "byteLimit": 2048000,
      "rowLimit": 10000
     },
     "inputWidgets": {},
     "nuid": "fa37f9d9-bc68-413b-be4c-2547c29bfb92",
     "showTitle": false,
     "title": ""
    }
   },
   "source": [
    "Next we need to know how the vertices are connected, a list of edges. The process is very similar to that we just saw.\n",
    "\n",
    "First, we have to create a list of edges. Each edge in the list will be defined by a tuple.\n",
    "\n",
    "Then, we have to create an RDD of edges.\n",
    "\n",
    "Thereafter, we have to transform our RDD to an RDD of row objects. This will be followed by creating a schema and a DataFrame of edges. Let’s perform the steps:"
   ]
  },
  {
   "cell_type": "code",
   "execution_count": 0,
   "metadata": {
    "application/vnd.databricks.v1+cell": {
     "cellMetadata": {
      "byteLimit": 2048000,
      "rowLimit": 10000
     },
     "inputWidgets": {},
     "nuid": "7f4af656-311a-4d2e-9cc1-6f2b7aaeebe2",
     "showTitle": false,
     "title": ""
    }
   },
   "outputs": [
    {
     "output_type": "stream",
     "name": "stdout",
     "output_type": "stream",
     "text": [
      "+---+---+\n|src|dst|\n+---+---+\n|  a|  b|\n|  a|  c|\n|  a|  d|\n|  b|  c|\n|  b|  d|\n|  c|  b|\n|  d|  a|\n|  d|  c|\n+---+---+\n\n"
     ]
    }
   ],
   "source": [
    "edgeDataList = [('a','b'), ('a','c'), ('a','d'), ('b', 'c'),\n",
    "('b', 'd'),('c', 'b'), ('d', 'a'), ('d', 'c')]\n",
    "sourceColumn = StructField('src', StringType(),True)\n",
    "destinationColumn = StructField('dst', StringType(), True)\n",
    "edgeSchema = StructType([sourceColumn, destinationColumn])\n",
    "edgeRDD = sc.parallelize(edgeDataList, 1)\n",
    "edgeRDDRows = edgeRDD.map( lambda data : Row(data[0], data[1]))\n",
    "edgeDataFrame = sqlContext.createDataFrame(edgeRDDRows, edgeSchema).persist()\n",
    "edgeDataFrame.show()"
   ]
  },
  {
   "cell_type": "code",
   "execution_count": 0,
   "metadata": {
    "application/vnd.databricks.v1+cell": {
     "cellMetadata": {
      "byteLimit": 2048000,
      "rowLimit": 10000
     },
     "inputWidgets": {},
     "nuid": "94a370d7-286d-4040-bce2-5acfa6505c6a",
     "showTitle": false,
     "title": ""
    }
   },
   "outputs": [
    {
     "output_type": "stream",
     "name": "stdout",
     "output_type": "stream",
     "text": [
      "Out[4]: [('a', 'b'),\n ('a', 'c'),\n ('a', 'd'),\n ('b', 'c'),\n ('b', 'd'),\n ('c', 'b'),\n ('d', 'a'),\n ('d', 'c')]"
     ]
    }
   ],
   "source": [
    "edgeRDD.take(10)"
   ]
  },
  {
   "cell_type": "code",
   "execution_count": 0,
   "metadata": {
    "application/vnd.databricks.v1+cell": {
     "cellMetadata": {
      "byteLimit": 2048000,
      "rowLimit": 10000
     },
     "inputWidgets": {},
     "nuid": "830a15e4-ae81-47ef-ba7c-381aed06d8cc",
     "showTitle": false,
     "title": ""
    }
   },
   "outputs": [
    {
     "output_type": "stream",
     "name": "stdout",
     "output_type": "stream",
     "text": [
      "Out[5]: [<Row('a', 'b')>,\n <Row('a', 'c')>,\n <Row('a', 'd')>,\n <Row('b', 'c')>,\n <Row('b', 'd')>,\n <Row('c', 'b')>,\n <Row('d', 'a')>,\n <Row('d', 'c')>]"
     ]
    }
   ],
   "source": [
    "edgeRDDRows.take(10)"
   ]
  },
  {
   "cell_type": "markdown",
   "metadata": {
    "application/vnd.databricks.v1+cell": {
     "cellMetadata": {
      "byteLimit": 2048000,
      "rowLimit": 10000
     },
     "inputWidgets": {},
     "nuid": "729a937f-01cd-4539-b550-8ce5d0b2fdbb",
     "showTitle": false,
     "title": ""
    }
   },
   "source": [
    "At this moment, we have `verticesDataFrame`, a DataFrame of vertices; and `edgeDataFrame`, a DataFrames of edges. Using these two, we can create our graph. The GraphFrame Python class is defined under the `graphframes.graphframe` submodule. GraphFrame() takes the vertices and edges DataFrames and returns a GraphFrames object. We have our `GraphFrames` object, `ourGraph`. We can fetch all the vertices as follows: In `GraphFrames`, we can create a graph by using the following code lines:\n",
    "\n",
    "**If you get an error on the below cell make sure you installed the correct version of graphframes**"
   ]
  },
  {
   "cell_type": "code",
   "execution_count": 0,
   "metadata": {
    "application/vnd.databricks.v1+cell": {
     "cellMetadata": {
      "byteLimit": 2048000,
      "rowLimit": 10000
     },
     "inputWidgets": {},
     "nuid": "55e4208a-5791-4aab-b4e0-75d66aba017f",
     "showTitle": false,
     "title": ""
    }
   },
   "outputs": [
    {
     "output_type": "stream",
     "name": "stderr",
     "output_type": "stream",
     "text": [
      "/databricks/spark/python/pyspark/sql/dataframe.py:170: UserWarning: DataFrame.sql_ctx is an internal property, and will be removed in future releases. Use DataFrame.sparkSession instead.\n  warnings.warn(\n"
     ]
    },
    {
     "output_type": "stream",
     "name": "stdout",
     "output_type": "stream",
     "text": [
      "+---+\n| id|\n+---+\n|  a|\n|  b|\n|  c|\n|  d|\n+---+\n\n+---+---+\n|src|dst|\n+---+---+\n|  a|  b|\n|  a|  c|\n|  a|  d|\n|  b|  c|\n|  b|  d|\n|  c|  b|\n|  d|  a|\n|  d|  c|\n+---+---+\n\n"
     ]
    }
   ],
   "source": [
    "from graphframes import *\n",
    "\n",
    "ourGraph = GraphFrame(verticesDataFrame, edgeDataFrame)\n",
    "ourGraph.vertices.show()\n",
    "ourGraph.edges.show()"
   ]
  },
  {
   "cell_type": "markdown",
   "metadata": {
    "application/vnd.databricks.v1+cell": {
     "cellMetadata": {
      "byteLimit": 2048000,
      "rowLimit": 10000
     },
     "inputWidgets": {},
     "nuid": "17416c8b-c0f8-43d8-b741-96400eff5395",
     "showTitle": false,
     "title": ""
    }
   },
   "source": [
    "Page rank for pages can be found by using the `pageRank()` function, which is defined on the GraphFrames object.\n",
    "\n",
    "`pageRank()` function take two arguments: first is resetProbability (is the alpha explained below) and the second is maxIter\n",
    "\n",
    "Informally Page Rank Explanation: consider someone browsing the web (\"surfer\"). At every page, the surfer either follows a link on the page to another page or does something else. When following a link, without any other information, the surfer picks a link from the page at random and follows that one. When “doing something else,” the surfer moves to a random page on the web and restarts the surfing. To generate a simple model, we assume both of these behaviors even though they may seem ridiculous. When stated mathematically, this random surfer model is called a Markov chain because the behavior of the surfer only depends upon the current page and not the history of previous pages. Let α be the probability that the surfer follows a link; then 1 − α is the probability that the surfer “does something else.” \n",
    "\n",
    "Now imagine that we let the surfer run for a long time. The PageRank of a page is the probability of finding the surfer at that page as the surfing time becomes infinite. A key assumption behind PageRank is that pages where we are more likely to find the random surfer are more important pages and thus we can view the PageRank as a measure of the page’s importance.\n",
    "\n",
    "*Source: https://web.stanford.edu/group/SOL/dissertations/pagerank-sensitivity-thesis-online.pdf*"
   ]
  },
  {
   "cell_type": "code",
   "execution_count": 0,
   "metadata": {
    "application/vnd.databricks.v1+cell": {
     "cellMetadata": {
      "byteLimit": 2048000,
      "rowLimit": 10000
     },
     "inputWidgets": {},
     "nuid": "5d8ba3f3-a6f5-4192-940b-2adec23675b3",
     "showTitle": false,
     "title": ""
    }
   },
   "outputs": [
    {
     "output_type": "stream",
     "name": "stderr",
     "output_type": "stream",
     "text": [
      "/databricks/spark/python/pyspark/sql/dataframe.py:149: UserWarning: DataFrame constructor is internal. Do not directly use it.\n  warnings.warn(\"DataFrame constructor is internal. Do not directly use it.\")\n"
     ]
    }
   ],
   "source": [
    "pageRanks = ourGraph.pageRank(resetProbability=0.15, maxIter = 5)"
   ]
  },
  {
   "cell_type": "code",
   "execution_count": 0,
   "metadata": {
    "application/vnd.databricks.v1+cell": {
     "cellMetadata": {
      "byteLimit": 2048000,
      "rowLimit": 10000
     },
     "inputWidgets": {},
     "nuid": "0330191c-a9ec-4d89-846e-15285b3e249f",
     "showTitle": false,
     "title": ""
    }
   },
   "outputs": [
    {
     "output_type": "stream",
     "name": "stdout",
     "output_type": "stream",
     "text": [
      "+---+------------------+\n| id|          pagerank|\n+---+------------------+\n|  a|0.5169666927083334|\n|  d|0.8798845717592593|\n|  b|1.3562974710648146|\n|  c|1.2468512644675924|\n+---+------------------+\n\n"
     ]
    }
   ],
   "source": [
    "pageRanks.vertices.show()"
   ]
  },
  {
   "cell_type": "markdown",
   "metadata": {
    "application/vnd.databricks.v1+cell": {
     "cellMetadata": {
      "byteLimit": 2048000,
      "rowLimit": 10000
     },
     "inputWidgets": {},
     "nuid": "21aee473-493d-40eb-8bc1-2903a608ec57",
     "showTitle": false,
     "title": ""
    }
   },
   "source": [
    "## More graphframes applications"
   ]
  },
  {
   "cell_type": "markdown",
   "metadata": {
    "application/vnd.databricks.v1+cell": {
     "cellMetadata": {
      "byteLimit": 2048000,
      "rowLimit": 10000
     },
     "inputWidgets": {},
     "nuid": "d43984a6-1986-43e6-9344-74aad5688c2a",
     "showTitle": false,
     "title": ""
    }
   },
   "source": [
    "Let's look at a slightly more interesting dataset. Look at the code below, you should see we are loading a number of people as vertices, then they can either connect as friends (bi-directional) or one can follow another (uni directional)."
   ]
  },
  {
   "cell_type": "code",
   "execution_count": 0,
   "metadata": {
    "application/vnd.databricks.v1+cell": {
     "cellMetadata": {
      "byteLimit": 2048000,
      "rowLimit": 10000
     },
     "inputWidgets": {},
     "nuid": "ab58f5e5-5ae1-4d3d-9343-19a88c59d8f5",
     "showTitle": false,
     "title": ""
    }
   },
   "outputs": [
    {
     "output_type": "stream",
     "name": "stdout",
     "output_type": "stream",
     "text": [
      "+---+------+---------+---+\n| id|  name|firstname|age|\n+---+------+---------+---+\n|  1|Carter|  Derrick| 50|\n|  2|   May|  Derrick| 26|\n|  3| Mills|     Jeff| 80|\n|  4|  Hood|   Robert| 65|\n|  5| Banks|     Mike| 93|\n| 98|  Berg|      Tim| 28|\n| 99|  Page|    Allan| 16|\n+---+------+---------+---+\n\n+---+---+-------+\n|src|dst|   type|\n+---+---+-------+\n|  1|  2| friend|\n|  2|  1| friend|\n|  3|  1| friend|\n|  1|  3| friend|\n|  2|  3|follows|\n|  1|  4|follows|\n|  4|  5|follows|\n|  3|  4| friend|\n|  4|  3| friend|\n|  5|  3| friend|\n|  3|  5| friend|\n|  4|  5|follows|\n| 98| 99| friend|\n| 99| 98| friend|\n+---+---+-------+\n\n+---+------+\n| id|degree|\n+---+------+\n|  1|     5|\n|  2|     3|\n|  3|     7|\n|  5|     4|\n|  4|     5|\n| 98|     2|\n| 99|     2|\n+---+------+\n\n"
     ]
    }
   ],
   "source": [
    "\n",
    "vertices = spark.createDataFrame([('1', 'Carter', 'Derrick', 50), \n",
    "                                  ('2', 'May', 'Derrick', 26),\n",
    "                                 ('3', 'Mills', 'Jeff', 80),\n",
    "                                  ('4', 'Hood', 'Robert', 65),\n",
    "                                  ('5', 'Banks', 'Mike', 93),\n",
    "                                 ('98', 'Berg', 'Tim', 28),\n",
    "                                 ('99', 'Page', 'Allan', 16)],\n",
    "                                 ['id', 'name', 'firstname', 'age'])\n",
    "edges = spark.createDataFrame([('1', '2', 'friend'), \n",
    "                               ('2', '1', 'friend'),\n",
    "                              ('3', '1', 'friend'),\n",
    "                              ('1', '3', 'friend'),\n",
    "                               ('2', '3', 'follows'),\n",
    "                               ('1', '4', 'follows'),\n",
    "                               ('4', '5', 'follows'),\n",
    "                               ('3', '4', 'friend'),\n",
    "                               ('4', '3', 'friend'),\n",
    "                               ('5', '3', 'friend'),\n",
    "                               ('3', '5', 'friend'),\n",
    "                               ('4', '5', 'follows'),\n",
    "                              ('98', '99', 'friend'),\n",
    "                              ('99', '98', 'friend')],\n",
    "                              ['src', 'dst', 'type'])\n",
    "g = GraphFrame(vertices, edges)\n",
    "## Take a look at the DataFrames\n",
    "g.vertices.show()\n",
    "g.edges.show()\n",
    "## Check the number of edges of each vertex\n",
    "g.degrees.show()"
   ]
  },
  {
   "cell_type": "markdown",
   "metadata": {
    "application/vnd.databricks.v1+cell": {
     "cellMetadata": {
      "byteLimit": 2048000,
      "rowLimit": 10000
     },
     "inputWidgets": {},
     "nuid": "abb354b3-c6c9-4673-97b1-4a5b3b748542",
     "showTitle": false,
     "title": ""
    }
   },
   "source": [
    "Undirected graphs have edges that do not have a direction. The edges indicate a two-way relationship, in that each edge can be traversed in both directions. If your DataFrame only consist of two-way directed edges, you may be interested in analyzing undirected edges. You can convert your graph by mapping a function over the edges DataFrame that deletes the row if src ≥ dst (or the other way around). Then each edge is only included once.\n",
    "\n",
    "Start from the dataframe called edges, notice that directional edges are listed [a,b, follows] where a < b (so the lowest number edge is listed first), unidirectional edges are listed twice. Create a new dataframe edgesUnidirectional that only contains edges in one direction but includes both the previously unidirectional friends links and the directional follows links."
   ]
  },
  {
   "cell_type": "code",
   "execution_count": 0,
   "metadata": {
    "application/vnd.databricks.v1+cell": {
     "cellMetadata": {
      "byteLimit": 2048000,
      "rowLimit": 10000
     },
     "inputWidgets": {},
     "nuid": "5bf3a06f-b3bc-4515-b28d-6f4e4f997280",
     "showTitle": false,
     "title": ""
    }
   },
   "outputs": [
    {
     "output_type": "stream",
     "name": "stdout",
     "output_type": "stream",
     "text": [
      "+---+---+-------+\n|src|dst|   type|\n+---+---+-------+\n|  1|  2| friend|\n|  1|  3| friend|\n|  2|  3|follows|\n|  1|  4|follows|\n|  4|  5|follows|\n|  3|  4| friend|\n|  3|  5| friend|\n|  4|  5|follows|\n| 98| 99| friend|\n+---+---+-------+\n\n"
     ]
    }
   ],
   "source": [
    "edgesUnidirectional = edges.where(edges.src < edges.dst)\n",
    "edgesUnidirectional.show()"
   ]
  },
  {
   "cell_type": "markdown",
   "metadata": {
    "application/vnd.databricks.v1+cell": {
     "cellMetadata": {
      "byteLimit": 2048000,
      "rowLimit": 10000
     },
     "inputWidgets": {},
     "nuid": "e1a8952d-eab8-417a-acc8-6db9cb9804a8",
     "showTitle": false,
     "title": ""
    }
   },
   "source": [
    "We can filter edges and vertices directly as well. If we want to work with a GraphFrame with only follows and people over 30 for example we can use a subgraph, for example:"
   ]
  },
  {
   "cell_type": "code",
   "execution_count": 0,
   "metadata": {
    "application/vnd.databricks.v1+cell": {
     "cellMetadata": {
      "byteLimit": 2048000,
      "rowLimit": 10000
     },
     "inputWidgets": {},
     "nuid": "e4569a4a-f6ae-4480-8311-46e0c9ae32b1",
     "showTitle": false,
     "title": ""
    }
   },
   "outputs": [
    {
     "output_type": "stream",
     "name": "stdout",
     "output_type": "stream",
     "text": [
      "+---+---+-------+\n|src|dst|   type|\n+---+---+-------+\n|  1|  4|follows|\n|  4|  5|follows|\n|  4|  5|follows|\n+---+---+-------+\n\n"
     ]
    }
   ],
   "source": [
    "g.filterEdges(\"type = 'follows'\").filterVertices(\"age > 30\").edges.show()"
   ]
  },
  {
   "cell_type": "markdown",
   "metadata": {
    "application/vnd.databricks.v1+cell": {
     "cellMetadata": {
      "byteLimit": 2048000,
      "rowLimit": 10000
     },
     "inputWidgets": {},
     "nuid": "8e3bdda0-2b81-4d74-a921-5687641f7084",
     "showTitle": false,
     "title": ""
    }
   },
   "source": [
    "<b> Degrees </b> One question we might be interested in is how many inbound and outbound connections each vertices has, we can use the inDegrees and outDegrees functions to calculate this:"
   ]
  },
  {
   "cell_type": "code",
   "execution_count": 0,
   "metadata": {
    "application/vnd.databricks.v1+cell": {
     "cellMetadata": {
      "byteLimit": 2048000,
      "rowLimit": 10000
     },
     "inputWidgets": {},
     "nuid": "49f6b681-a2a6-4bae-b660-862aa1c74585",
     "showTitle": false,
     "title": ""
    }
   },
   "outputs": [
    {
     "output_type": "stream",
     "name": "stdout",
     "output_type": "stream",
     "text": [
      "+---+--------+\n| id|inDegree|\n+---+--------+\n|  2|       1|\n|  1|       2|\n|  3|       4|\n|  5|       3|\n|  4|       2|\n| 98|       1|\n| 99|       1|\n+---+--------+\n\n+---+---------+\n| id|outDegree|\n+---+---------+\n|  1|        3|\n|  3|        3|\n|  2|        2|\n|  4|        3|\n|  5|        1|\n| 98|        1|\n| 99|        1|\n+---+---------+\n\n"
     ]
    }
   ],
   "source": [
    "g.inDegrees.show()\n",
    "g.outDegrees.show()"
   ]
  },
  {
   "cell_type": "markdown",
   "metadata": {
    "application/vnd.databricks.v1+cell": {
     "cellMetadata": {
      "byteLimit": 2048000,
      "rowLimit": 10000
     },
     "inputWidgets": {},
     "nuid": "39e91cd9-0444-4c7b-8e8d-b27150c03a64",
     "showTitle": false,
     "title": ""
    }
   },
   "source": [
    "<b>Connected components</b> A connected component of a graph is a subgraph in which any two vertices are connected to each other by one or more edges, and which is connected to no additional vertices in the supergraph. In the graph below there would be 3 connected component subgraphs:\n",
    "\n",
    "![image](https://www.google.com/imgres?imgurl=https%3A%2F%2Ftutorialspoint.dev%2Fimage%2FSCC.png&imgrefurl=https%3A%2F%2Ftutorialspoint.dev%2Fdata-structure%2Fgraph-data-structure%2Fstrongly-connected-components&tbnid=5e31TFF3uPb4IM&vet=12ahUKEwivjuSxlKX2AhVn_bsIHYNiBlIQMygBegQIARAe..i&docid=WBvcXT3tPVeF_M&w=757&h=424&q=https%3A%2F%2Ftutorialspoint.dev%2Fimage%2Fconnectedcomponents.png&hl=en&ved=2ahUKEwivjuSxlKX2AhVn_bsIHYNiBlIQMygBegQIARAe)\n",
    "\n",
    "\n",
    "\n",
    "Graphframes can compute the connected component membership of each vertex and return a DataFrame with each vertex assigned a component ID. The GraphFrames connected components implementation can take advantage of checkpointing to improve performance. This will take up tp 10 min to run."
   ]
  },
  {
   "cell_type": "code",
   "execution_count": 0,
   "metadata": {
    "application/vnd.databricks.v1+cell": {
     "cellMetadata": {
      "byteLimit": 2048000,
      "rowLimit": 10000
     },
     "inputWidgets": {},
     "nuid": "32e7c154-d8da-40fe-b6e9-e315c6f762c5",
     "showTitle": false,
     "title": ""
    }
   },
   "outputs": [
    {
     "output_type": "stream",
     "name": "stdout",
     "output_type": "stream",
     "text": [
      "+---+------+---------+---+------------+\n| id|  name|firstname|age|   component|\n+---+------+---------+---+------------+\n|  1|Carter|  Derrick| 50|154618822656|\n|  2|   May|  Derrick| 26|154618822656|\n|  3| Mills|     Jeff| 80|154618822656|\n|  4|  Hood|   Robert| 65|154618822656|\n|  5| Banks|     Mike| 93|154618822656|\n| 98|  Berg|      Tim| 28|317827579904|\n| 99|  Page|    Allan| 16|317827579904|\n+---+------+---------+---+------------+\n\n"
     ]
    }
   ],
   "source": [
    "# Note that this takes some time to run\n",
    "# The resulting dataframe adds a \"component\" column to the dataset\n",
    "sc.setCheckpointDir(\"/tmp/graphframes-example-connected-components\")\n",
    "g.connectedComponents().show()"
   ]
  },
  {
   "cell_type": "markdown",
   "metadata": {
    "application/vnd.databricks.v1+cell": {
     "cellMetadata": {
      "byteLimit": 2048000,
      "rowLimit": 10000
     },
     "inputWidgets": {},
     "nuid": "566a6ef9-8768-4bae-b5ce-a86dad867def",
     "showTitle": false,
     "title": ""
    }
   },
   "source": [
    "What does the result say about how are people connected in our graph? Take a look at who is connected to who in the data and see if you can match a pattern to what is being reported (the component number is not important, only which nodes have the same component).\n",
    "\n",
    "<b> Shortest path </b> Graphframes includes a simple shortest path algorithm, it finds the distance between all nodes and a given set of landmarks.\n",
    "\n",
    "In the example below we will see from each node how many steps does it take to get to a landmark. So for example [5 -> 1, 1 -> 1] would means that to get to vertice named 5 takes 1 edge, to get to a vertice named 1 also takes 1 step."
   ]
  },
  {
   "cell_type": "code",
   "execution_count": 0,
   "metadata": {
    "application/vnd.databricks.v1+cell": {
     "cellMetadata": {
      "byteLimit": 2048000,
      "rowLimit": 10000
     },
     "inputWidgets": {},
     "nuid": "75baa30a-f56c-4ac9-ae6e-f355b94545b5",
     "showTitle": false,
     "title": ""
    }
   },
   "outputs": [
    {
     "output_type": "stream",
     "name": "stdout",
     "output_type": "stream",
     "text": [
      "+---+------+---------+---+----------------+\n| id|  name|firstname|age|       distances|\n+---+------+---------+---+----------------+\n|  3| Mills|     Jeff| 80|{5 -> 1, 1 -> 1}|\n| 98|  Berg|      Tim| 28|              {}|\n| 99|  Page|    Allan| 16|              {}|\n|  5| Banks|     Mike| 93|{5 -> 0, 1 -> 2}|\n|  1|Carter|  Derrick| 50|{5 -> 2, 1 -> 0}|\n|  4|  Hood|   Robert| 65|{5 -> 1, 1 -> 2}|\n|  2|   May|  Derrick| 26|{5 -> 2, 1 -> 1}|\n+---+------+---------+---+----------------+\n\n"
     ]
    }
   ],
   "source": [
    "g.shortestPaths(landmarks=[\"1\", \"5\"]).show()"
   ]
  },
  {
   "cell_type": "markdown",
   "metadata": {
    "application/vnd.databricks.v1+cell": {
     "cellMetadata": {
      "byteLimit": 2048000,
      "rowLimit": 10000
     },
     "inputWidgets": {},
     "nuid": "ae5bd154-2a8c-409e-a6ed-0abf041cfbf9",
     "showTitle": false,
     "title": ""
    }
   },
   "source": [
    "<b>Search</b> Breadth-first search (BFS) is an algorithm for traversing or searching tree or graph data structures. It starts at the tree root (or some arbitrary node of a graph, sometimes referred to as a 'search key'[1]), and explores all of the neighbor nodes at the present depth prior to moving on to the nodes at the next depth level.\n",
    "\n",
    "It uses the opposite strategy as depth-first search, which instead explores the highest-depth nodes first before being forced to backtrack and expand shallower nodes.\n",
    "\n",
    "For more information on these alogrithms: https://en.wikipedia.org/wiki/Breadth-first_search\n",
    "\n",
    "Take a look at the examples below."
   ]
  },
  {
   "cell_type": "code",
   "execution_count": 0,
   "metadata": {
    "application/vnd.databricks.v1+cell": {
     "cellMetadata": {
      "byteLimit": 2048000,
      "rowLimit": 10000
     },
     "inputWidgets": {},
     "nuid": "17b90bd3-8295-491b-b370-bccbded8392f",
     "showTitle": false,
     "title": ""
    }
   },
   "outputs": [
    {
     "output_type": "stream",
     "name": "stdout",
     "output_type": "stream",
     "text": [
      "+------------------------+---------------+---------------------+---------------+--------------------+\n|from                    |e0             |v1                   |e1             |to                  |\n+------------------------+---------------+---------------------+---------------+--------------------+\n|{1, Carter, Derrick, 50}|{1, 3, friend} |{3, Mills, Jeff, 80} |{3, 5, friend} |{5, Banks, Mike, 93}|\n|{1, Carter, Derrick, 50}|{1, 4, follows}|{4, Hood, Robert, 65}|{4, 5, follows}|{5, Banks, Mike, 93}|\n|{1, Carter, Derrick, 50}|{1, 4, follows}|{4, Hood, Robert, 65}|{4, 5, follows}|{5, Banks, Mike, 93}|\n+------------------------+---------------+---------------------+---------------+--------------------+\n\n"
     ]
    }
   ],
   "source": [
    "g.bfs(fromExpr=\"id='1'\", toExpr = \"id='5'\").show(10,False)"
   ]
  },
  {
   "cell_type": "code",
   "execution_count": 0,
   "metadata": {
    "application/vnd.databricks.v1+cell": {
     "cellMetadata": {
      "byteLimit": 2048000,
      "rowLimit": 10000
     },
     "inputWidgets": {},
     "nuid": "472e4c3f-b520-46e0-88ca-e2fc5bdf5fc0",
     "showTitle": false,
     "title": ""
    }
   },
   "outputs": [
    {
     "output_type": "display_data",
     "data": {
      "text/html": [
       "<style scoped>\n",
       "  .table-result-container {\n",
       "    max-height: 300px;\n",
       "    overflow: auto;\n",
       "  }\n",
       "  table, th, td {\n",
       "    border: 1px solid black;\n",
       "    border-collapse: collapse;\n",
       "  }\n",
       "  th, td {\n",
       "    padding: 5px;\n",
       "  }\n",
       "  th {\n",
       "    text-align: left;\n",
       "  }\n",
       "</style><div class='table-result-container'><table class='table-result'><thead style='background-color: white'><tr><th>from</th><th>e0</th><th>to</th></tr></thead><tbody><tr><td>List(1, Carter, Derrick, 50)</td><td>List(1, 4, follows)</td><td>List(4, Hood, Robert, 65)</td></tr></tbody></table></div>"
      ]
     },
     "metadata": {
      "application/vnd.databricks.v1+output": {
       "addedWidgets": {},
       "aggData": [],
       "aggError": "",
       "aggOverflow": false,
       "aggSchema": [],
       "aggSeriesLimitReached": false,
       "aggType": "",
       "arguments": {},
       "columnCustomDisplayInfos": {},
       "data": [
        [
         [
          "1",
          "Carter",
          "Derrick",
          50
         ],
         [
          "1",
          "4",
          "follows"
         ],
         [
          "4",
          "Hood",
          "Robert",
          65
         ]
        ]
       ],
       "datasetInfos": [],
       "dbfsResultPath": null,
       "isJsonSchema": true,
       "metadata": {},
       "overflow": false,
       "plotOptions": {
        "customPlotOptions": {},
        "displayType": "table",
        "pivotAggregation": null,
        "pivotColumns": [],
        "xColumns": [],
        "yColumns": []
       },
       "removedWidgets": [],
       "schema": [
        {
         "metadata": "{}",
         "name": "from",
         "type": "{\"type\":\"struct\",\"fields\":[{\"name\":\"id\",\"type\":\"string\",\"nullable\":true,\"metadata\":{}},{\"name\":\"name\",\"type\":\"string\",\"nullable\":true,\"metadata\":{}},{\"name\":\"firstname\",\"type\":\"string\",\"nullable\":true,\"metadata\":{}},{\"name\":\"age\",\"type\":\"long\",\"nullable\":true,\"metadata\":{}}]}"
        },
        {
         "metadata": "{}",
         "name": "e0",
         "type": "{\"type\":\"struct\",\"fields\":[{\"name\":\"src\",\"type\":\"string\",\"nullable\":true,\"metadata\":{}},{\"name\":\"dst\",\"type\":\"string\",\"nullable\":true,\"metadata\":{}},{\"name\":\"type\",\"type\":\"string\",\"nullable\":true,\"metadata\":{}}]}"
        },
        {
         "metadata": "{}",
         "name": "to",
         "type": "{\"type\":\"struct\",\"fields\":[{\"name\":\"id\",\"type\":\"string\",\"nullable\":true,\"metadata\":{}},{\"name\":\"name\",\"type\":\"string\",\"nullable\":true,\"metadata\":{}},{\"name\":\"firstname\",\"type\":\"string\",\"nullable\":true,\"metadata\":{}},{\"name\":\"age\",\"type\":\"long\",\"nullable\":true,\"metadata\":{}}]}"
        }
       ],
       "type": "table"
      }
     },
     "output_type": "display_data"
    }
   ],
   "source": [
    "filteredPaths = g.bfs(\n",
    "  fromExpr = \"id = 1\",\n",
    "  toExpr = \"age >= 65\",\n",
    "  edgeFilter = \"type != 'friend'\",\n",
    "  maxPathLength = 4).dropDuplicates()\n",
    "display(filteredPaths)"
   ]
  },
  {
   "cell_type": "markdown",
   "metadata": {
    "application/vnd.databricks.v1+cell": {
     "cellMetadata": {
      "byteLimit": 2048000,
      "rowLimit": 10000
     },
     "inputWidgets": {},
     "nuid": "f73b2804-bee6-4523-9e49-a8116dc3577e",
     "showTitle": false,
     "title": ""
    }
   },
   "source": [
    "<b> Motif </b> All networks, including biological networks, social networks, technological networks (e.g., computer networks and electrical circuits) and more, can be represented as graphs, which include a wide variety of subgraphs. One important local property of networks are so-called network motifs, which are defined as recurrent and statistically significant sub-graphs or patterns.\n",
    "\n",
    "Network motifs are sub-graphs that repeat themselves in a specific network or even among various networks. Each of these sub-graphs, defined by a particular pattern of interactions between vertices, may reflect a framework in which particular functions are achieved efficiently. Indeed, motifs are of notable importance largely because they may reflect functional properties. They have recently gathered much attention as a useful concept to uncover structural design principles of complex networks. Although network motifs may provide a deep insight into the network’s functional abilities, their detection is computationally challenging.\n",
    "\n",
    "GraphFrame motif finding uses a simple Domain-Specific Language (DSL) for expressing structural queries. For example, graph.find(\"(a)-[e]->(b); (b)-[e2]->(a)\") will search for pairs of vertices a,b connected by edges in both directions. It will return a DataFrame of all such structures in the graph, with columns for each of the named elements (vertices or edges) in the motif. In this case, the returned columns will be “a, b, e, e2.”\n",
    "\n",
    "DSL for expressing structural patterns:\n",
    "\n",
    "The basic unit of a pattern is an edge. For example, \"(a)-[e]->(b)\" expresses an edge e from vertex a to vertex b. Note that vertices are denoted by parentheses (a), while edges are denoted by square brackets [e].\n",
    "\n",
    "A pattern is expressed as a union of edges. Edge patterns can be joined with semicolons. Motif \"(a)-[e]->(b); (b)-[e2]->(c)\" specifies two edges from a to b to c.\n",
    "\n",
    "Within a pattern, names can be assigned to vertices and edges. For example, \"(a)-[e]->(b)\" has three named elements: vertices a,b and edge e. These names serve two purposes:\n",
    "\n",
    "*  The names can identify common elements among edges. For example, \"(a)-[e]->(b); (b)-[e2]->(c)\" specifies that the same vertex b is the destination of edge e and source of edge e2.\n",
    "\n",
    "*  The names are used as column names in the result DataFrame. If a motif contains named vertex a, then the result DataFrame will contain a column “a” which is a StructType with sub-fields equivalent to the schema (columns) of GraphFrame.vertices. Similarly, an edge e in a motif will produce a column “e” in the result DataFrame with sub-fields equivalent to the schema (columns) of GraphFrame.edges.\n",
    "\n",
    "*  Be aware that names do not identify distinct elements: two elements with different names may refer to the same graph element. For example, in the motif \"(a)-[e]->(b); (b)-[e2]->(c)\", the names a and c could refer to the same vertex. To restrict named elements to be distinct vertices or edges, use post-hoc filters such as resultDataframe.filter(\"a.id != c.id\").\n",
    "\n",
    "It is acceptable to omit names for vertices or edges in motifs when not needed. E.g., \"(a)-[]->(b)\" expresses an edge between vertices a,b but does not assign a name to the edge. There will be no column for the anonymous edge in the result DataFrame. Similarly, \"(a)-[e]->()\" indicates an out-edge of vertex a but does not name the destination vertex. These are called anonymous vertices and edges.\n",
    "\n",
    "An edge can be negated to indicate that the edge should not be present in the graph. E.g., \"(a)-[]->(b); !(b)-[]->(a)\" finds edges from a to b for which there is no edge from b to a.\n",
    "\n",
    "For more information: http://graphframes.github.io/graphframes/docs/_site/user-guide.html#motif-finding\n",
    "\n",
    "A worked example is available here with a few motif patterns applied. They use Scala as opposed to Python but you can ignore the code outside of the patterns they use: http://www.twesdai.com/2017/09/15/motif-analysis-using-apache-spark-graphframes/\n",
    "\n",
    "Let's look at a simple example to try to make how this works clear. Imagine we might want to find all people that have a common friend with person 1, but are not friends with person one. First we find all common friends. Take a look at the find method, we look for where a is connected to b, b connected to c, but a not connected to c. In the next step we filter for results with person 1."
   ]
  },
  {
   "cell_type": "code",
   "execution_count": 0,
   "metadata": {
    "application/vnd.databricks.v1+cell": {
     "cellMetadata": {
      "byteLimit": 2048000,
      "rowLimit": 10000
     },
     "inputWidgets": {},
     "nuid": "e8066eb7-4722-4290-8503-9c52669baddb",
     "showTitle": false,
     "title": ""
    }
   },
   "outputs": [],
   "source": [
    "motifs = g.find(\"(a)-[]->(b); (b)-[]->(c); !(a)-[]->(c) \").dropDuplicates()"
   ]
  },
  {
   "cell_type": "code",
   "execution_count": 0,
   "metadata": {
    "application/vnd.databricks.v1+cell": {
     "cellMetadata": {
      "byteLimit": 2048000,
      "rowLimit": 10000
     },
     "inputWidgets": {},
     "nuid": "b0d0e01b-fcf3-4561-9874-8c9124fb1719",
     "showTitle": false,
     "title": ""
    }
   },
   "outputs": [
    {
     "output_type": "stream",
     "name": "stdout",
     "output_type": "stream",
     "text": [
      "+--------------------+--------------------+--------------------+\n|                   a|                   b|                   c|\n+--------------------+--------------------+--------------------+\n|{4, Hood, Robert,...|{3, Mills, Jeff, 80}|{1, Carter, Derri...|\n|{5, Banks, Mike, 93}|{3, Mills, Jeff, 80}|{1, Carter, Derri...|\n|{1, Carter, Derri...|{2, May, Derrick,...|{1, Carter, Derri...|\n|{1, Carter, Derri...|{3, Mills, Jeff, 80}|{1, Carter, Derri...|\n|{3, Mills, Jeff, 80}|{1, Carter, Derri...|{2, May, Derrick,...|\n|{2, May, Derrick,...|{1, Carter, Derri...|{2, May, Derrick,...|\n|{3, Mills, Jeff, 80}|{1, Carter, Derri...|{3, Mills, Jeff, 80}|\n|{3, Mills, Jeff, 80}|{5, Banks, Mike, 93}|{3, Mills, Jeff, 80}|\n|{3, Mills, Jeff, 80}|{4, Hood, Robert,...|{3, Mills, Jeff, 80}|\n|{4, Hood, Robert,...|{3, Mills, Jeff, 80}|{4, Hood, Robert,...|\n|{2, May, Derrick,...|{3, Mills, Jeff, 80}|{4, Hood, Robert,...|\n|{5, Banks, Mike, 93}|{3, Mills, Jeff, 80}|{4, Hood, Robert,...|\n|{2, May, Derrick,...|{1, Carter, Derri...|{4, Hood, Robert,...|\n|{1, Carter, Derri...|{4, Hood, Robert,...|{5, Banks, Mike, 93}|\n|{5, Banks, Mike, 93}|{3, Mills, Jeff, 80}|{5, Banks, Mike, 93}|\n|{1, Carter, Derri...|{3, Mills, Jeff, 80}|{5, Banks, Mike, 93}|\n|{2, May, Derrick,...|{3, Mills, Jeff, 80}|{5, Banks, Mike, 93}|\n| {98, Berg, Tim, 28}|{99, Page, Allan,...| {98, Berg, Tim, 28}|\n|{99, Page, Allan,...| {98, Berg, Tim, 28}|{99, Page, Allan,...|\n+--------------------+--------------------+--------------------+\n\n"
     ]
    }
   ],
   "source": [
    "motifs.show()"
   ]
  },
  {
   "cell_type": "code",
   "execution_count": 0,
   "metadata": {
    "application/vnd.databricks.v1+cell": {
     "cellMetadata": {
      "byteLimit": 2048000,
      "rowLimit": 10000
     },
     "inputWidgets": {},
     "nuid": "c198c68a-0a49-42bd-8c71-1c39161dfa7a",
     "showTitle": false,
     "title": ""
    }
   },
   "outputs": [],
   "source": [
    "filteredMotif = motifs.filter(\"a.id = 1\")"
   ]
  },
  {
   "cell_type": "code",
   "execution_count": 0,
   "metadata": {
    "application/vnd.databricks.v1+cell": {
     "cellMetadata": {
      "byteLimit": 2048000,
      "rowLimit": 10000
     },
     "inputWidgets": {},
     "nuid": "66a61482-dc94-4e62-a906-4da51ce8f036",
     "showTitle": false,
     "title": ""
    }
   },
   "outputs": [
    {
     "output_type": "stream",
     "name": "stdout",
     "output_type": "stream",
     "text": [
      "+--------------------+--------------------+--------------------+\n|                   a|                   b|                   c|\n+--------------------+--------------------+--------------------+\n|{1, Carter, Derri...|{2, May, Derrick,...|{1, Carter, Derri...|\n|{1, Carter, Derri...|{3, Mills, Jeff, 80}|{1, Carter, Derri...|\n|{1, Carter, Derri...|{4, Hood, Robert,...|{5, Banks, Mike, 93}|\n|{1, Carter, Derri...|{3, Mills, Jeff, 80}|{5, Banks, Mike, 93}|\n+--------------------+--------------------+--------------------+\n\n"
     ]
    }
   ],
   "source": [
    "filteredMotif.show()"
   ]
  },
  {
   "cell_type": "markdown",
   "metadata": {
    "application/vnd.databricks.v1+cell": {
     "cellMetadata": {
      "byteLimit": 2048000,
      "rowLimit": 10000
     },
     "inputWidgets": {},
     "nuid": "71f20127-c2b4-40f0-8e5e-d7ea57e913dc",
     "showTitle": false,
     "title": ""
    }
   },
   "source": [
    "## Bonus Exercise: Bikeshare"
   ]
  },
  {
   "cell_type": "markdown",
   "metadata": {
    "application/vnd.databricks.v1+cell": {
     "cellMetadata": {
      "byteLimit": 2048000,
      "rowLimit": 10000
     },
     "inputWidgets": {},
     "nuid": "5907e6eb-4cca-4517-b87c-dd701a0452a0",
     "showTitle": false,
     "title": ""
    }
   },
   "source": [
    "Here is your chance to apply what you have learned to some real data. We will be using a bike sharing dataset, but a very different one from last class\n",
    "\n",
    "Here you’re going to be working with publicly available bike data from the Bay Area Bike Share portal, specifically analyzing the 2017 year of data. First we will download the data and read it into spark, we will also rename some of the columns to meet the requirements of graphframes."
   ]
  },
  {
   "cell_type": "code",
   "execution_count": 0,
   "metadata": {
    "application/vnd.databricks.v1+cell": {
     "cellMetadata": {
      "byteLimit": 2048000,
      "rowLimit": 10000
     },
     "inputWidgets": {},
     "nuid": "eb528782-59e1-43d7-8f0e-56ea76967074",
     "showTitle": false,
     "title": ""
    }
   },
   "outputs": [
    {
     "output_type": "stream",
     "name": "stdout",
     "output_type": "stream",
     "text": [
      "--2024-05-10 11:04:24--  https://raw.githubusercontent.com/udacity/data-analyst/master/projects/bike_sharing/201508_trip_data.csv\nResolving raw.githubusercontent.com (raw.githubusercontent.com)... 185.199.108.133, 185.199.109.133, 185.199.110.133, ...\nConnecting to raw.githubusercontent.com (raw.githubusercontent.com)|185.199.108.133|:443... connected.\nHTTP request sent, awaiting response... 200 OK\nLength: 43012650 (41M) [text/plain]\nSaving to: ‘201508_trip_data.csv’\n\n     0K .......... .......... .......... .......... ..........  0% 7.52M 5s\n    50K .......... .......... .......... .......... ..........  0% 4.98M 7s\n   100K .......... .......... .......... .......... ..........  0% 3.80M 8s\n   150K .......... .......... .......... .......... ..........  0% 50.0M 6s\n   200K .......... .......... .......... .......... ..........  0% 4.68M 7s\n   250K .......... .......... .......... .......... ..........  0% 14.7M 6s\n   300K .......... .......... .......... .......... ..........  0% 35.7M 5s\n   350K .......... .......... .......... .......... ..........  0% 10.8M 5s\n   400K .......... .......... .......... .......... ..........  1% 14.0M 5s\n   450K .......... .......... .......... .......... ..........  1%  161M 4s\n   500K .......... .......... .......... .......... ..........  1% 24.5M 4s\n   550K .......... .......... .......... .......... ..........  1%  145M 4s\n   600K .......... .......... .......... .......... ..........  1% 15.9M 4s\n   650K .......... .......... .......... .......... ..........  1%  160M 3s\n   700K .......... .......... .......... .......... ..........  1% 16.2M 3s\n   750K .......... .......... .......... .......... ..........  1%  115M 3s\n   800K .......... .......... .......... .......... ..........  2% 25.3M 3s\n   850K .......... .......... .......... .......... ..........  2%  160M 3s\n   900K .......... .......... .......... .......... ..........  2% 20.8M 3s\n   950K .......... .......... .......... .......... ..........  2% 32.1M 3s\n  1000K .......... .......... .......... .......... ..........  2% 24.0M 3s\n  1050K .......... .......... .......... .......... ..........  2%  170M 3s\n  1100K .......... .......... .......... .......... ..........  2% 20.8M 3s\n  1150K .......... .......... .......... .......... ..........  2%  147M 3s\n  1200K .......... .......... .......... .......... ..........  2% 24.3M 2s\n  1250K .......... .......... .......... .......... ..........  3%  151M 2s\n  1300K .......... .......... .......... .......... ..........  3% 30.0M 2s\n  1350K .......... .......... .......... .......... ..........  3% 46.8M 2s\n  1400K .......... .......... .......... .......... ..........  3% 22.4M 2s\n  1450K .......... .......... .......... .......... ..........  3% 44.1M 2s\n  1500K .......... .......... .......... .......... ..........  3% 59.1M 2s\n  1550K .......... .......... .......... .......... ..........  3% 27.0M 2s\n  1600K .......... .......... .......... .......... ..........  3% 41.3M 2s\n  1650K .......... .......... .......... .......... ..........  4% 31.8M 2s\n  1700K .......... .......... .......... .......... ..........  4% 50.1M 2s\n  1750K .......... .......... .......... .......... ..........  4%  157M 2s\n  1800K .......... .......... .......... .......... ..........  4% 22.5M 2s\n  1850K .......... .......... .......... .......... ..........  4% 41.1M 2s\n  1900K .......... .......... .......... .......... ..........  4% 46.8M 2s\n  1950K .......... .......... .......... .......... ..........  4% 12.9M 2s\n  2000K .......... .......... .......... .......... ..........  4% 43.8M 2s\n  2050K .......... .......... .......... .......... ..........  4% 32.6M 2s\n  2100K .......... .......... .......... .......... ..........  5%  120M 2s\n  2150K .......... .......... .......... .......... ..........  5% 24.4M 2s\n  2200K .......... .......... .......... .......... ..........  5%  166M 2s\n  2250K .......... .......... .......... .......... ..........  5% 20.2M 2s\n  2300K .......... .......... .......... .......... ..........  5% 26.0M 2s\n  2350K .......... .......... .......... .......... ..........  5% 48.9M 2s\n  2400K .......... .......... .......... .......... ..........  5% 33.7M 2s\n  2450K .......... .......... .......... .......... ..........  5% 28.5M 2s\n  2500K .......... .......... .......... .......... ..........  6%  142M 2s\n  2550K .......... .......... .......... .......... ..........  6% 25.4M 2s\n  2600K .......... .......... .......... .......... ..........  6%  141M 2s\n  2650K .......... .......... .......... .......... ..........  6% 23.8M 2s\n  2700K .......... .......... .......... .......... ..........  6%  131M 2s\n  2750K .......... .......... .......... .......... ..........  6% 19.5M 2s\n  2800K .......... .......... .......... .......... ..........  6% 28.2M 2s\n  2850K .......... .......... .......... .......... ..........  6% 31.7M 2s\n  2900K .......... .......... .......... .......... ..........  7%  152M 2s\n  2950K .......... .......... .......... .......... ..........  7% 48.4M 2s\n  3000K .......... .......... .......... .......... ..........  7% 31.9M 2s\n  3050K .......... .......... .......... .......... ..........  7%  162M 2s\n  3100K .......... .......... .......... .......... ..........  7% 20.8M 2s\n  3150K .......... .......... .......... .......... ..........  7% 35.6M 2s\n  3200K .......... .......... .......... .......... ..........  7% 38.2M 2s\n  3250K .......... .......... .......... .......... ..........  7% 33.4M 2s\n  3300K .......... .......... .......... .......... ..........  7%  137M 2s\n  3350K .......... .......... .......... .......... ..........  8% 18.0M 2s\n  3400K .......... .......... .......... .......... ..........  8% 32.8M 2s\n  3450K .......... .......... .......... .......... ..........  8%  157M 1s\n  3500K .......... .......... .......... .......... ..........  8% 32.1M 1s\n  3550K .......... .......... .......... .......... ..........  8% 31.5M 1s\n  3600K .......... .......... .......... .......... ..........  8%  134M 1s\n  3650K .......... .......... .......... .......... ..........  8% 19.2M 1s\n  3700K .......... .......... .......... .......... ..........  8% 31.7M 1s\n  3750K .......... .......... .......... .......... ..........  9%  153M 1s\n  3800K .......... .......... .......... .......... ..........  9% 24.2M 1s\n  3850K .......... .......... .......... .......... ..........  9%  149M 1s\n  3900K .......... .......... .......... .......... ..........  9% 20.2M 1s\n  3950K .......... .......... .......... .......... ..........  9% 31.5M 1s\n  4000K .......... .......... .......... .......... ..........  9%  132M 1s\n  4050K .......... .......... .......... .......... ..........  9% 18.0M 1s\n  4100K .......... .......... .......... .......... ..........  9% 60.1M 1s\n  4150K .......... .......... .......... .......... ..........  9% 42.1M 1s\n  4200K .......... .......... .......... .......... .......... 10% 59.6M 1s\n  4250K .......... .......... .......... .......... .......... 10% 23.7M 1s\n  4300K .......... .......... .......... .......... .......... 10% 24.9M 1s\n  4350K .......... .......... .......... .......... .......... 10% 97.3M 1s\n  4400K .......... .......... .......... .......... .......... 10% 50.9M 1s\n  4450K .......... .......... .......... .......... .......... 10%  133M 1s\n  4500K .......... .......... .......... .......... .......... 10% 21.8M 1s\n  4550K .......... .......... .......... .......... .......... 10% 26.3M 1s\n  4600K .......... .......... .......... .......... .......... 11%  159M 1s\n  4650K .......... .......... .......... .......... .......... 11% 26.0M 1s\n  4700K .......... .......... .......... .......... .......... 11% 33.0M 1s\n  4750K .......... .......... .......... .......... .......... 11%  154M 1s\n  4800K .......... .......... .......... .......... .......... 11% 22.4M 1s\n  4850K .......... .......... .......... .......... .......... 11% 57.3M 1s\n  4900K .......... .......... .......... .......... .......... 11% 24.4M 1s\n  4950K .......... .......... .......... .......... .......... 11%  154M 1s\n  5000K .......... .......... .......... .......... .......... 12% 23.6M 1s\n  5050K .......... .......... .......... .......... .......... 12%  158M 1s\n  5100K .......... .......... .......... .......... .......... 12% 22.0M 1s\n  5150K .......... .......... .......... .......... .......... 12% 50.0M 1s\n  5200K .......... .......... .......... .......... .......... 12% 25.3M 1s\n  5250K .......... .......... .......... .......... .......... 12%  165M 1s\n  5300K .......... .......... .......... .......... .......... 12% 25.5M 1s\n  5350K .......... .......... .......... .......... .......... 12%  148M 1s\n  5400K .......... .......... .......... .......... .......... 12% 27.1M 1s\n  5450K .......... .......... .......... .......... .......... 13% 27.4M 1s\n  5500K .......... .......... .......... .......... .......... 13% 26.8M 1s\n  5550K .......... .......... .......... .......... .......... 13%  165M 1s\n  5600K .......... .......... .......... .......... .......... 13% 24.4M 1s\n  5650K .......... .......... .......... .......... .......... 13%  142M 1s\n  5700K .......... .......... .......... .......... .......... 13% 25.6M 1s\n  5750K .......... .......... .......... .......... .......... 13%  161M 1s\n  5800K .......... .......... .......... .......... .......... 13% 10.7M 1s\n  5850K .......... .......... .......... .......... .......... 14% 27.6M 1s\n  5900K .......... .......... .......... .......... .......... 14%  162M 1s\n  5950K .......... .......... .......... .......... .......... 14% 29.0M 1s\n  6000K .......... .......... .......... .......... .......... 14% 20.3M 1s\n  6050K .......... .......... .......... .......... .......... 14%  158M 1s\n  6100K .......... .......... .......... .......... .......... 14% 47.1M 1s\n  6150K .......... .......... .......... .......... .......... 14%  167M 1s\n  6200K .......... .......... .......... .......... .......... 14% 20.8M 1s\n  6250K .......... .......... .......... .......... .......... 14% 46.4M 1s\n  6300K .......... .......... .......... .......... .......... 15% 20.1M 1s\n  6350K .......... .......... .......... .......... .......... 15% 66.4M 1s\n  6400K .......... .......... .......... .......... .......... 15% 27.4M 1s\n  6450K .......... .......... .......... .......... .......... 15% 33.4M 1s\n  6500K .......... .......... .......... .......... .......... 15%  164M 1s\n  6550K .......... .......... .......... .......... .......... 15% 23.2M 1s\n  6600K .......... .......... .......... .......... .......... 15% 27.6M 1s\n  6650K .......... .......... .......... .......... .......... 15% 30.4M 1s\n  6700K .......... .......... .......... .......... .......... 16%  142M 1s\n  6750K .......... .......... .......... .......... .......... 16% 52.2M 1s\n  6800K .......... .......... .......... .......... .......... 16% 25.6M 1s\n  6850K .......... .......... .......... .......... .......... 16%  144M 1s\n  6900K .......... .......... .......... .......... .......... 16% 16.5M 1s\n  6950K .......... .......... .......... .......... .......... 16%  154M 1s\n  7000K .......... .......... .......... .......... .......... 16% 20.3M 1s\n  7050K .......... .......... .......... .......... .......... 16% 93.2M 1s\n  7100K .......... .......... .......... .......... .......... 17% 27.6M 1s\n  7150K .......... .......... .......... .......... .......... 17% 44.7M 1s\n  7200K .......... .......... .......... .......... .......... 17% 24.8M 1s\n  7250K .......... .......... .......... .......... .......... 17%  170M 1s\n  7300K .......... .......... .......... .......... .......... 17% 24.5M 1s\n  7350K .......... .......... .......... .......... .......... 17%  149M 1s\n  7400K .......... .......... .......... .......... .......... 17% 21.2M 1s\n  7450K .......... .......... .......... .......... .......... 17% 61.5M 1s\n  7500K .......... .......... .......... .......... .......... 17%  168M 1s\n  7550K .......... .......... .......... .......... .......... 18% 20.8M 1s\n  7600K .......... .......... .......... .......... .......... 18% 15.2M 1s\n  7650K .......... .......... .......... .......... .......... 18%  173M 1s\n  7700K .......... .......... .......... .......... .......... 18%  170M 1s\n  7750K .......... .......... .......... .......... .......... 18% 12.8M 1s\n  7800K .......... .......... .......... .......... .......... 18%  132M 1s\n  7850K .......... .......... .......... .......... .......... 18%  165M 1s\n  7900K .......... .......... .......... .......... .......... 18% 25.7M 1s\n  7950K .......... .......... .......... .......... .......... 19%  166M 1s\n  8000K .......... .......... .......... .......... .......... 19% 19.5M 1s\n  8050K .......... .......... .......... .......... .......... 19% 37.8M 1s\n  8100K .......... .......... .......... .......... .......... 19%  130M 1s\n  8150K .......... .......... .......... .......... .......... 19%  146M 1s\n  8200K .......... .......... .......... .......... .......... 19%  143M 1s\n  8250K .......... .......... .......... .......... .......... 19% 13.7M 1s\n  8300K .......... .......... .......... .......... .......... 19%  132M 1s\n  8350K .......... .......... .......... .......... .......... 19%  165M 1s\n  8400K .......... .......... .......... .......... .......... 20%  160M 1s\n  8450K .......... .......... .......... .......... .......... 20% 12.8M 1s\n  8500K .......... .......... .......... .......... .......... 20%  127M 1s\n  8550K .......... .......... .......... .......... .......... 20%  167M 1s\n  8600K .......... .......... .......... .......... .......... 20% 16.0M 1s\n  8650K .......... .......... .......... .......... .......... 20%  166M 1s\n  8700K .......... .......... .......... .......... .......... 20% 25.4M 1s\n  8750K .......... .......... .......... .......... .......... 20%  153M 1s\n  8800K .......... .......... .......... .......... .......... 21% 15.8M 1s\n  8850K .......... .......... .......... .......... .......... 21% 54.9M 1s\n  8900K .......... .......... .......... .......... .......... 21%  154M 1s\n  8950K .......... .......... .......... .......... .......... 21%  174M 1s\n  9000K .......... .......... .......... .......... .......... 21% 12.6M 1s\n  9050K .......... .......... .......... .......... .......... 21%  150M 1s\n  9100K .......... .......... .......... .......... .......... 21%  145M 1s\n  9150K .......... .......... .......... .......... .......... 21% 16.5M 1s\n  9200K .......... .......... .......... .......... .......... 22%  135M 1s\n  9250K .......... .......... .......... .......... .......... 22%  154M 1s\n  9300K .......... .......... .......... .......... .......... 22% 18.1M 1s\n  9350K .......... .......... .......... .......... .......... 22%  135M 1s\n  9400K .......... .......... .......... .......... .......... 22%  137M 1s\n  9450K .......... .......... .......... .......... .......... 22% 12.5M 1s\n  9500K .......... .......... .......... .......... .......... 22% 44.9M 1s\n  9550K .......... .......... .......... .......... .......... 22%  152M 1s\n  9600K .......... .......... .......... .......... .......... 22%  165M 1s\n  9650K .......... .......... .......... .......... .......... 23% 12.2M 1s\n  9700K .......... .......... .......... .......... .......... 23%  131M 1s\n  9750K .......... .......... .......... .......... .......... 23% 31.9M 1s\n  9800K .......... .......... .......... .......... .......... 23%  162M 1s\n  9850K .......... .......... .......... .......... .......... 23%  144M 1s\n  9900K .......... .......... .......... .......... .......... 23% 16.0M 1s\n  9950K .......... .......... .......... .......... .......... 23%  141M 1s\n 10000K .......... .......... .......... .......... .......... 23% 21.6M 1s\n 10050K .......... .......... .......... .......... .......... 24% 38.6M 1s\n 10100K .......... .......... .......... .......... .......... 24% 22.5M 1s\n 10150K .......... .......... .......... .......... .......... 24% 62.0M 1s\n 10200K .......... .......... .......... .......... .......... 24%  156M 1s\n 10250K .......... .......... .......... .......... .......... 24% 16.2M 1s\n 10300K .......... .......... .......... .......... .......... 24%  131M 1s\n 10350K .......... .......... .......... .......... .......... 24% 31.6M 1s\n 10400K .......... .......... .......... .......... .......... 24%  147M 1s\n 10450K .......... .......... .......... .......... .......... 24% 32.5M 1s\n 10500K .......... .......... .......... .......... .......... 25% 21.0M 1s\n 10550K .......... .......... .......... .......... .......... 25% 41.0M 1s\n 10600K .......... .......... .......... .......... .......... 25% 22.4M 1s\n 10650K .......... .......... .......... .......... .......... 25%  154M 1s\n 10700K .......... .......... .......... .......... .......... 25%  139M 1s\n 10750K .......... .......... .......... .......... .......... 25% 16.5M 1s\n 10800K .......... .......... .......... .......... .......... 25%  162M 1s\n 10850K .......... .......... .......... .......... .......... 25%  138M 1s\n 10900K .......... .......... .......... .......... .......... 26% 15.7M 1s\n 10950K .......... .......... .......... .......... .......... 26%  157M 1s\n 11000K .......... .......... .......... .......... .......... 26% 24.4M 1s\n 11050K .......... .......... .......... .......... .......... 26% 24.0M 1s\n 11100K .......... .......... .......... .......... .......... 26%  140M 1s\n 11150K .......... .......... .......... .......... .......... 26% 24.1M 1s\n 11200K .......... .......... .......... .......... .......... 26%  181M 1s\n 11250K .......... .......... .......... .......... .......... 26% 11.4M 1s\n 11300K .......... .......... .......... .......... .......... 27% 36.7M 1s\n 11350K .......... .......... .......... .......... .......... 27% 41.7M 1s\n 11400K .......... .......... .......... .......... .......... 27%  116M 1s\n 11450K .......... .......... .......... .......... .......... 27%  128M 1s\n 11500K .......... .......... .......... .......... .......... 27%  128M 1s\n 11550K .......... .......... .......... .......... .......... 27% 22.5M 1s\n 11600K .......... .......... .......... .......... .......... 27%  118M 1s\n 11650K .......... .......... .......... .......... .......... 27%  144M 1s\n 11700K .......... .......... .......... .......... .......... 27%  111M 1s\n 11750K .......... .......... .......... .......... .......... 28% 31.9M 1s\n 11800K .......... .......... .......... .......... .......... 28%  136M 1s\n 11850K .......... .......... .......... .......... .......... 28%  163M 1s\n 11900K .......... .......... .......... .......... .......... 28% 5.68M 1s\n 11950K .......... .......... .......... .......... .......... 28%  160M 1s\n 12000K .......... .......... .......... .......... .......... 28%  163M 1s\n 12050K .......... .......... .......... .......... .......... 28% 20.5M 1s\n 12100K .......... .......... .......... .......... .......... 28%  112M 1s\n 12150K .......... .......... .......... .......... .......... 29%  165M 1s\n 12200K .......... .......... .......... .......... .......... 29%  172M 1s\n 12250K .......... .......... .......... .......... .......... 29% 18.4M 1s\n 12300K .......... .......... .......... .......... .......... 29% 22.8M 1s\n 12350K .......... .......... .......... .......... .......... 29%  134M 1s\n 12400K .......... .......... .......... .......... .......... 29%  140M 1s\n 12450K .......... .......... .......... .......... .......... 29%  160M 1s\n 12500K .......... .......... .......... .......... .......... 29% 29.3M 1s\n 12550K .......... .......... .......... .......... .......... 29%  161M 1s\n 12600K .......... .......... .......... .......... .......... 30%  174M 1s\n 12650K .......... .......... .......... .......... .......... 30% 17.8M 1s\n 12700K .......... .......... .......... .......... .......... 30%  115M 1s\n 12750K .......... .......... .......... .......... .......... 30% 41.3M 1s\n 12800K .......... .......... .......... .......... .......... 30% 47.3M 1s\n 12850K .......... .......... .......... .......... .......... 30%  162M 1s\n 12900K .......... .......... .......... .......... .......... 30% 27.0M 1s\n 12950K .......... .......... .......... .......... .......... 30%  160M 1s\n 13000K .......... .......... .......... .......... .......... 31%  129M 1s\n 13050K .......... .......... .......... .......... .......... 31% 45.2M 1s\n 13100K .......... .......... .......... .......... .......... 31% 39.5M 1s\n 13150K .......... .......... .......... .......... .......... 31%  157M 1s\n 13200K .......... .......... .......... .......... .......... 31%  163M 1s\n 13250K .......... .......... .......... .......... .......... 31% 32.4M 1s\n 13300K .......... .......... .......... .......... .......... 31%  218M 1s\n 13350K .......... .......... .......... .......... .......... 31%  238M 1s\n 13400K .......... .......... .......... .......... .......... 32%  221M 1s\n 13450K .......... .......... .......... .......... .......... 32%  188M 1s\n 13500K .......... .......... .......... .......... .......... 32% 27.1M 1s\n 13550K .......... .......... .......... .......... .......... 32%  191M 1s\n 13600K .......... .......... .......... .......... .......... 32%  190M 1s\n 13650K .......... .......... .......... .......... .......... 32%  218M 1s\n 13700K .......... .......... .......... .......... .......... 32%  187M 1s\n 13750K .......... .......... .......... .......... .......... 32%  125M 1s\n 13800K .......... .......... .......... .......... .......... 32%  194M 1s\n 13850K .......... .......... .......... .......... .......... 33%  220M 1s\n 13900K .......... .......... .......... .......... .......... 33%  193M 1s\n 13950K .......... .......... .......... .......... .......... 33%  256M 1s\n 14000K .......... .......... .......... .......... .......... 33%  194M 1s\n 14050K .......... .......... .......... .......... .......... 33%  180M 1s\n 14100K .......... .......... .......... .......... .......... 33%  132M 1s\n 14150K .......... .......... .......... .......... .......... 33%  169M 1s\n 14200K .......... .......... .......... .......... .......... 33%  226M 1s\n 14250K .......... .......... .......... .......... .......... 34%  229M 1s\n 14300K .......... .......... .......... .......... .......... 34%  243M 1s\n 14350K .......... .......... .......... .......... .......... 34%  206M 1s\n 14400K .......... .......... .......... .......... .......... 34%  231M 1s\n 14450K .......... .......... .......... .......... .......... 34%  238M 1s\n 14500K .......... .......... .......... .......... .......... 34%  214M 1s\n 14550K .......... .......... .......... .......... .......... 34%  232M 1s\n 14600K .......... .......... .......... .......... .......... 34%  225M 1s\n 14650K .......... .......... .......... .......... .......... 34%  148M 1s\n 14700K .......... .......... .......... .......... .......... 35%  136M 1s\n 14750K .......... .......... .......... .......... .......... 35%  196M 1s\n 14800K .......... .......... .......... .......... .......... 35%  232M 1s\n 14850K .......... .......... .......... .......... .......... 35%  262M 1s\n 14900K .......... .......... .......... .......... .......... 35%  268M 1s\n 14950K .......... .......... .......... .......... .......... 35%  240M 1s\n 15000K .......... .......... .......... .......... .......... 35%  209M 1s\n 15050K .......... .......... .......... .......... .......... 35%  231M 1s\n 15100K .......... .......... .......... .......... .......... 36%  213M 1s\n 15150K .......... .......... .......... .......... .......... 36%  126M 1s\n 15200K .......... .......... .......... .......... .......... 36%  146M 1s\n 15250K .......... .......... .......... .......... .......... 36% 3.55M 1s\n 15300K .......... .......... .......... .......... .......... 36% 81.6M 1s\n 15350K .......... .......... .......... .......... .......... 36% 94.5M 1s\n 15400K .......... .......... .......... .......... .......... 36% 81.5M 1s\n 15450K .......... .......... .......... .......... .......... 36% 87.5M 1s\n 15500K .......... .......... .......... .......... .......... 37% 44.3M 1s\n 15550K .......... .......... .......... .......... .......... 37% 97.2M 1s\n 15600K .......... .......... .......... .......... .......... 37%  169M 1s\n 15650K .......... .......... .......... .......... .......... 37%  183M 1s\n 15700K .......... .......... .......... .......... .......... 37%  124M 1s\n 15750K .......... .......... .......... .......... .......... 37%  161M 1s\n 15800K .......... .......... .......... .......... .......... 37%  184M 1s\n 15850K .......... .......... .......... .......... .......... 37%  180M 1s\n 15900K .......... .......... .......... .......... .......... 37%  134M 1s\n 15950K .......... .......... .......... .......... .......... 38%  152M 1s\n 16000K .......... .......... .......... .......... .......... 38% 10.7M 1s\n 16050K .......... .......... .......... .......... .......... 38% 57.3M 1s\n 16100K .......... .......... .......... .......... ...\n\n*** WARNING: max output size exceeded, skipping output. ***\n\n... .......... .......... .......... .......... 61%  118M 0s\n 25700K .......... .......... .......... .......... .......... 61%  146M 0s\n 25750K .......... .......... .......... .......... .......... 61%  152M 0s\n 25800K .......... .......... .......... .......... .......... 61%  161M 0s\n 25850K .......... .......... .......... .......... .......... 61%  123M 0s\n 25900K .......... .......... .......... .......... .......... 61%  170M 0s\n 25950K .......... .......... .......... .......... .......... 61%  151M 0s\n 26000K .......... .......... .......... .......... .......... 62%  165M 0s\n 26050K .......... .......... .......... .......... .......... 62%  140M 0s\n 26100K .......... .......... .......... .......... .......... 62%  128M 0s\n 26150K .......... .......... .......... .......... .......... 62%  171M 0s\n 26200K .......... .......... .......... .......... .......... 62%  162M 0s\n 26250K .......... .......... .......... .......... .......... 62%  144M 0s\n 26300K .......... .......... .......... .......... .......... 62%  111M 0s\n 26350K .......... .......... .......... .......... .......... 62%  161M 0s\n 26400K .......... .......... .......... .......... .......... 62%  175M 0s\n 26450K .......... .......... .......... .......... .......... 63%  101M 0s\n 26500K .......... .......... .......... .......... .......... 63% 36.3M 0s\n 26550K .......... .......... .......... .......... .......... 63%  165M 0s\n 26600K .......... .......... .......... .......... .......... 63%  173M 0s\n 26650K .......... .......... .......... .......... .......... 63%  155M 0s\n 26700K .......... .......... .......... .......... .......... 63%  172M 0s\n 26750K .......... .......... .......... .......... .......... 63%  164M 0s\n 26800K .......... .......... .......... .......... .......... 63%  161M 0s\n 26850K .......... .......... .......... .......... .......... 64%  137M 0s\n 26900K .......... .......... .......... .......... .......... 64%  136M 0s\n 26950K .......... .......... .......... .......... .......... 64%  158M 0s\n 27000K .......... .......... .......... .......... .......... 64%  138M 0s\n 27050K .......... .......... .......... .......... .......... 64%  112M 0s\n 27100K .......... .......... .......... .......... .......... 64%  162M 0s\n 27150K .......... .......... .......... .......... .......... 64%  152M 0s\n 27200K .......... .......... .......... .......... .......... 64%  155M 0s\n 27250K .......... .......... .......... .......... .......... 64%  145M 0s\n 27300K .......... .......... .......... .......... .......... 65%  150M 0s\n 27350K .......... .......... .......... .......... .......... 65%  144M 0s\n 27400K .......... .......... .......... .......... .......... 65%  146M 0s\n 27450K .......... .......... .......... .......... .......... 65%  111M 0s\n 27500K .......... .......... .......... .......... .......... 65%  140M 0s\n 27550K .......... .......... .......... .......... .......... 65%  130M 0s\n 27600K .......... .......... .......... .......... .......... 65%  120M 0s\n 27650K .......... .......... .......... .......... .......... 65%  161M 0s\n 27700K .......... .......... .......... .......... .......... 66%  160M 0s\n 27750K .......... .......... .......... .......... .......... 66%  131M 0s\n 27800K .......... .......... .......... .......... .......... 66%  109M 0s\n 27850K .......... .......... .......... .......... .......... 66%  158M 0s\n 27900K .......... .......... .......... .......... .......... 66%  161M 0s\n 27950K .......... .......... .......... .......... .......... 66%  144M 0s\n 28000K .......... .......... .......... .......... .......... 66%  156M 0s\n 28050K .......... .......... .......... .......... .......... 66%  163M 0s\n 28100K .......... .......... .......... .......... .......... 67%  150M 0s\n 28150K .......... .......... .......... .......... .......... 67%  120M 0s\n 28200K .......... .......... .......... .......... .......... 67%  153M 0s\n 28250K .......... .......... .......... .......... .......... 67%  149M 0s\n 28300K .......... .......... .......... .......... .......... 67%  140M 0s\n 28350K .......... .......... .......... .......... .......... 67%  116M 0s\n 28400K .......... .......... .......... .......... .......... 67%  103M 0s\n 28450K .......... .......... .......... .......... .......... 67%  145M 0s\n 28500K .......... .......... .......... .......... .......... 67%  151M 0s\n 28550K .......... .......... .......... .......... .......... 68%  158M 0s\n 28600K .......... .......... .......... .......... .......... 68%  133M 0s\n 28650K .......... .......... .......... .......... .......... 68%  154M 0s\n 28700K .......... .......... .......... .......... .......... 68%  141M 0s\n 28750K .......... .......... .......... .......... .......... 68%  156M 0s\n 28800K .......... .......... .......... .......... .......... 68% 92.2M 0s\n 28850K .......... .......... .......... .......... .......... 68%  145M 0s\n 28900K .......... .......... .......... .......... .......... 68%  143M 0s\n 28950K .......... .......... .......... .......... .......... 69%  156M 0s\n 29000K .......... .......... .......... .......... .......... 69%  154M 0s\n 29050K .......... .......... .......... .......... .......... 69%  143M 0s\n 29100K .......... .......... .......... .......... .......... 69%  115M 0s\n 29150K .......... .......... .......... .......... .......... 69%  152M 0s\n 29200K .......... .......... .......... .......... .......... 69%  154M 0s\n 29250K .......... .......... .......... .......... .......... 69%  108M 0s\n 29300K .......... .......... .......... .......... .......... 69%  115M 0s\n 29350K .......... .......... .......... .......... .......... 69%  142M 0s\n 29400K .......... .......... .......... .......... .......... 70%  147M 0s\n 29450K .......... .......... .......... .......... .......... 70%  161M 0s\n 29500K .......... .......... .......... .......... .......... 70%  126M 0s\n 29550K .......... .......... .......... .......... .......... 70%  156M 0s\n 29600K .......... .......... .......... .......... .......... 70%  155M 0s\n 29650K .......... .......... .......... .......... .......... 70%  150M 0s\n 29700K .......... .......... .......... .......... .......... 70%  139M 0s\n 29750K .......... .......... .......... .......... .......... 70%  150M 0s\n 29800K .......... .......... .......... .......... .......... 71%  135M 0s\n 29850K .......... .......... .......... .......... .......... 71%  136M 0s\n 29900K .......... .......... .......... .......... .......... 71%  117M 0s\n 29950K .......... .......... .......... .......... .......... 71%  137M 0s\n 30000K .......... .......... .......... .......... .......... 71%  131M 0s\n 30050K .......... .......... .......... .......... .......... 71%  145M 0s\n 30100K .......... .......... .......... .......... .......... 71% 20.0M 0s\n 30150K .......... .......... .......... .......... .......... 71%  147M 0s\n 30200K .......... .......... .......... .......... .......... 72%  144M 0s\n 30250K .......... .......... .......... .......... .......... 72%  155M 0s\n 30300K .......... .......... .......... .......... .......... 72%  131M 0s\n 30350K .......... .......... .......... .......... .......... 72%  155M 0s\n 30400K .......... .......... .......... .......... .......... 72%  126M 0s\n 30450K .......... .......... .......... .......... .......... 72%  187M 0s\n 30500K .......... .......... .......... .......... .......... 72%  156M 0s\n 30550K .......... .......... .......... .......... .......... 72%  133M 0s\n 30600K .......... .......... .......... .......... .......... 72%  134M 0s\n 30650K .......... .......... .......... .......... .......... 73%  142M 0s\n 30700K .......... .......... .......... .......... .......... 73% 19.4M 0s\n 30750K .......... .......... .......... .......... .......... 73%  142M 0s\n 30800K .......... .......... .......... .......... .......... 73% 31.6M 0s\n 30850K .......... .......... .......... .......... .......... 73%  163M 0s\n 30900K .......... .......... .......... .......... .......... 73%  144M 0s\n 30950K .......... .......... .......... .......... .......... 73%  125M 0s\n 31000K .......... .......... .......... .......... .......... 73%  158M 0s\n 31050K .......... .......... .......... .......... .......... 74%  140M 0s\n 31100K .......... .......... .......... .......... .......... 74%  141M 0s\n 31150K .......... .......... .......... .......... .......... 74%  118M 0s\n 31200K .......... .......... .......... .......... .......... 74%  149M 0s\n 31250K .......... .......... .......... .......... .......... 74%  171M 0s\n 31300K .......... .......... .......... .......... .......... 74% 2.91M 0s\n 31350K .......... .......... .......... .......... .......... 74%  140M 0s\n 31400K .......... .......... .......... .......... .......... 74%  175M 0s\n 31450K .......... .......... .......... .......... .......... 74%  176M 0s\n 31500K .......... .......... .......... .......... .......... 75%  172M 0s\n 31550K .......... .......... .......... .......... .......... 75%  141M 0s\n 31600K .......... .......... .......... .......... .......... 75%  157M 0s\n 31650K .......... .......... .......... .......... .......... 75% 5.13M 0s\n 31700K .......... .......... .......... .......... .......... 75%  155M 0s\n 31750K .......... .......... .......... .......... .......... 75%  121M 0s\n 31800K .......... .......... .......... .......... .......... 75%  156M 0s\n 31850K .......... .......... .......... .......... .......... 75%  159M 0s\n 31900K .......... .......... .......... .......... .......... 76%  159M 0s\n 31950K .......... .......... .......... .......... .......... 76%  136M 0s\n 32000K .......... .......... .......... .......... .......... 76%  163M 0s\n 32050K .......... .......... .......... .......... .......... 76%  157M 0s\n 32100K .......... .......... .......... .......... .......... 76% 3.17M 0s\n 32150K .......... .......... .......... .......... .......... 76%  107M 0s\n 32200K .......... .......... .......... .......... .......... 76%  161M 0s\n 32250K .......... .......... .......... .......... .......... 76%  158M 0s\n 32300K .......... .......... .......... .......... .......... 77%  162M 0s\n 32350K .......... .......... .......... .......... .......... 77%  142M 0s\n 32400K .......... .......... .......... .......... .......... 77%  162M 0s\n 32450K .......... .......... .......... .......... .......... 77%  162M 0s\n 32500K .......... .......... .......... .......... .......... 77%  143M 0s\n 32550K .......... .......... .......... .......... .......... 77%  135M 0s\n 32600K .......... .......... .......... .......... .......... 77%  163M 0s\n 32650K .......... .......... .......... .......... .......... 77%  161M 0s\n 32700K .......... .......... .......... .......... .......... 77%  151M 0s\n 32750K .......... .......... .......... .......... .......... 78% 2.36M 0s\n 32800K .......... .......... .......... .......... .......... 78%  154M 0s\n 32850K .......... .......... .......... .......... .......... 78%  151M 0s\n 32900K .......... .......... .......... .......... .......... 78%  158M 0s\n 32950K .......... .......... .......... .......... .......... 78%  136M 0s\n 33000K .......... .......... .......... .......... .......... 78%  158M 0s\n 33050K .......... .......... .......... .......... .......... 78% 5.81M 0s\n 33100K .......... .......... .......... .......... .......... 78%  149M 0s\n 33150K .......... .......... .......... .......... .......... 79%  143M 0s\n 33200K .......... .......... .......... .......... .......... 79%  158M 0s\n 33250K .......... .......... .......... .......... .......... 79%  160M 0s\n 33300K .......... .......... .......... .......... .......... 79%  164M 0s\n 33350K .......... .......... .......... .......... .......... 79% 13.0M 0s\n 33400K .......... .......... .......... .......... .......... 79%  150M 0s\n 33450K .......... .......... .......... .......... .......... 79%  157M 0s\n 33500K .......... .......... .......... .......... .......... 79%  160M 0s\n 33550K .......... .......... .......... .......... .......... 79%  138M 0s\n 33600K .......... .......... .......... .......... .......... 80%  157M 0s\n 33650K .......... .......... .......... .......... .......... 80%  156M 0s\n 33700K .......... .......... .......... .......... .......... 80%  157M 0s\n 33750K .......... .......... .......... .......... .......... 80%  123M 0s\n 33800K .......... .......... .......... .......... .......... 80%  160M 0s\n 33850K .......... .......... .......... .......... .......... 80%  160M 0s\n 33900K .......... .......... .......... .......... .......... 80%  157M 0s\n 33950K .......... .......... .......... .......... .......... 80%  140M 0s\n 34000K .......... .......... .......... .......... .......... 81%  158M 0s\n 34050K .......... .......... .......... .......... .......... 81%  160M 0s\n 34100K .......... .......... .......... .......... .......... 81%  159M 0s\n 34150K .......... .......... .......... .......... .......... 81%  131M 0s\n 34200K .......... .......... .......... .......... .......... 81%  161M 0s\n 34250K .......... .......... .......... .......... .......... 81%  162M 0s\n 34300K .......... .......... .......... .......... .......... 81%  161M 0s\n 34350K .......... .......... .......... .......... .......... 81%  141M 0s\n 34400K .......... .......... .......... .......... .......... 82% 2.00M 0s\n 34450K .......... .......... .......... .......... .......... 82%  133M 0s\n 34500K .......... .......... .......... .......... .......... 82%  160M 0s\n 34550K .......... .......... .......... .......... .......... 82%  160M 0s\n 34600K .......... .......... .......... .......... .......... 82%  158M 0s\n 34650K .......... .......... .......... .......... .......... 82%  135M 0s\n 34700K .......... .......... .......... .......... .......... 82%  161M 0s\n 34750K .......... .......... .......... .......... .......... 82%  160M 0s\n 34800K .......... .......... .......... .......... .......... 82%  159M 0s\n 34850K .......... .......... .......... .......... .......... 83%  133M 0s\n 34900K .......... .......... .......... .......... .......... 83%  169M 0s\n 34950K .......... .......... .......... .......... .......... 83%  132M 0s\n 35000K .......... .......... .......... .......... .......... 83% 3.08M 0s\n 35050K .......... .......... .......... .......... .......... 83% 42.1M 0s\n 35100K .......... .......... .......... .......... .......... 83%  126M 0s\n 35150K .......... .......... .......... .......... .......... 83%  137M 0s\n 35200K .......... .......... .......... .......... .......... 83%  163M 0s\n 35250K .......... .......... .......... .......... .......... 84%  162M 0s\n 35300K .......... .......... .......... .......... .......... 84%  158M 0s\n 35350K .......... .......... .......... .......... .......... 84%  136M 0s\n 35400K .......... .......... .......... .......... .......... 84%  161M 0s\n 35450K .......... .......... .......... .......... .......... 84%  159M 0s\n 35500K .......... .......... .......... .......... .......... 84% 13.9M 0s\n 35550K .......... .......... .......... .......... .......... 84%  145M 0s\n 35600K .......... .......... .......... .......... .......... 84%  131M 0s\n 35650K .......... .......... .......... .......... .......... 84% 7.34M 0s\n 35700K .......... .......... .......... .......... .......... 85%  156M 0s\n 35750K .......... .......... .......... .......... .......... 85%  162M 0s\n 35800K .......... .......... .......... .......... .......... 85%  160M 0s\n 35850K .......... .......... .......... .......... .......... 85%  145M 0s\n 35900K .......... .......... .......... .......... .......... 85% 4.41M 0s\n 35950K .......... .......... .......... .......... .......... 85%  151M 0s\n 36000K .......... .......... .......... .......... .......... 85%  126M 0s\n 36050K .......... .......... .......... .......... .......... 85%  133M 0s\n 36100K .......... .......... .......... .......... .......... 86%  151M 0s\n 36150K .......... .......... .......... .......... .......... 86%  158M 0s\n 36200K .......... .......... .......... .......... .......... 86%  154M 0s\n 36250K .......... .......... .......... .......... .......... 86%  140M 0s\n 36300K .......... .......... .......... .......... .......... 86%  162M 0s\n 36350K .......... .......... .......... .......... .......... 86%  164M 0s\n 36400K .......... .......... .......... .......... .......... 86%  160M 0s\n 36450K .......... .......... .......... .......... .......... 86%  134M 0s\n 36500K .......... .......... .......... .......... .......... 87% 10.6M 0s\n 36550K .......... .......... .......... .......... .......... 87% 4.03M 0s\n 36600K .......... .......... .......... .......... .......... 87% 7.04M 0s\n 36650K .......... .......... .......... .......... .......... 87% 21.9M 0s\n 36700K .......... .......... .......... .......... .......... 87% 78.3M 0s\n 36750K .......... .......... .......... .......... .......... 87% 71.7M 0s\n 36800K .......... .......... .......... .......... .......... 87%  116M 0s\n 36850K .......... .......... .......... .......... .......... 87% 52.2M 0s\n 36900K .......... .......... .......... .......... .......... 87% 65.3M 0s\n 36950K .......... .......... .......... .......... .......... 88% 45.4M 0s\n 37000K .......... .......... .......... .......... .......... 88% 11.2M 0s\n 37050K .......... .......... .......... .......... .......... 88% 77.3M 0s\n 37100K .......... .......... .......... .......... .......... 88% 81.1M 0s\n 37150K .......... .......... .......... .......... .......... 88% 44.6M 0s\n 37200K .......... .......... .......... .......... .......... 88% 27.4M 0s\n 37250K .......... .......... .......... .......... .......... 88% 18.0M 0s\n 37300K .......... .......... .......... .......... .......... 88%  142M 0s\n 37350K .......... .......... .......... .......... .......... 89%  101M 0s\n 37400K .......... .......... .......... .......... .......... 89%  164M 0s\n 37450K .......... .......... .......... .......... .......... 89% 93.3M 0s\n 37500K .......... .......... .......... .......... .......... 89%  134M 0s\n 37550K .......... .......... .......... .......... .......... 89%  124M 0s\n 37600K .......... .......... .......... .......... .......... 89%  126M 0s\n 37650K .......... .......... .......... .......... .......... 89%  123M 0s\n 37700K .......... .......... .......... .......... .......... 89%  124M 0s\n 37750K .......... .......... .......... .......... .......... 89%  126M 0s\n 37800K .......... .......... .......... .......... .......... 90% 78.7M 0s\n 37850K .......... .......... .......... .......... .......... 90%  102M 0s\n 37900K .......... .......... .......... .......... .......... 90%  136M 0s\n 37950K .......... .......... .......... .......... .......... 90%  125M 0s\n 38000K .......... .......... .......... .......... .......... 90% 31.1M 0s\n 38050K .......... .......... .......... .......... .......... 90% 4.22M 0s\n 38100K .......... .......... .......... .......... .......... 90%  140M 0s\n 38150K .......... .......... .......... .......... .......... 90%  112M 0s\n 38200K .......... .......... .......... .......... .......... 91% 34.0M 0s\n 38250K .......... .......... .......... .......... .......... 91%  120M 0s\n 38300K .......... .......... .......... .......... .......... 91%  165M 0s\n 38350K .......... .......... .......... .......... .......... 91%  120M 0s\n 38400K .......... .......... .......... .......... .......... 91%  101M 0s\n 38450K .......... .......... .......... .......... .......... 91%  143M 0s\n 38500K .......... .......... .......... .......... .......... 91% 94.4M 0s\n 38550K .......... .......... .......... .......... .......... 91%  148M 0s\n 38600K .......... .......... .......... .......... .......... 92%  119M 0s\n 38650K .......... .......... .......... .......... .......... 92% 93.5M 0s\n 38700K .......... .......... .......... .......... .......... 92%  172M 0s\n 38750K .......... .......... .......... .......... .......... 92%  107M 0s\n 38800K .......... .......... .......... .......... .......... 92% 4.87M 0s\n 38850K .......... .......... .......... .......... .......... 92% 31.1M 0s\n 38900K .......... .......... .......... .......... .......... 92% 38.6M 0s\n 38950K .......... .......... .......... .......... .......... 92% 34.7M 0s\n 39000K .......... .......... .......... .......... .......... 92% 34.0M 0s\n 39050K .......... .......... .......... .......... .......... 93% 20.7M 0s\n 39100K .......... .......... .......... .......... .......... 93% 51.3M 0s\n 39150K .......... .......... .......... .......... .......... 93% 20.7M 0s\n 39200K .......... .......... .......... .......... .......... 93% 49.7M 0s\n 39250K .......... .......... .......... .......... .......... 93% 41.8M 0s\n 39300K .......... .......... .......... .......... .......... 93% 47.3M 0s\n 39350K .......... .......... .......... .......... .......... 93%  164M 0s\n 39400K .......... .......... .......... .......... .......... 93% 41.0M 0s\n 39450K .......... .......... .......... .......... .......... 94% 24.1M 0s\n 39500K .......... .......... .......... .......... .......... 94% 34.2M 0s\n 39550K .......... .......... .......... .......... .......... 94% 43.9M 0s\n 39600K .......... .......... .......... .......... .......... 94% 49.5M 0s\n 39650K .......... .......... .......... .......... .......... 94% 79.3M 0s\n 39700K .......... .......... .......... .......... .......... 94%  125M 0s\n 39750K .......... .......... .......... .......... .......... 94%  127M 0s\n 39800K .......... .......... .......... .......... .......... 94%  113M 0s\n 39850K .......... .......... .......... .......... .......... 94% 89.7M 0s\n 39900K .......... .......... .......... .......... .......... 95% 90.7M 0s\n 39950K .......... .......... .......... .......... .......... 95%  100M 0s\n 40000K .......... .......... .......... .......... .......... 95% 4.23M 0s\n 40050K .......... .......... .......... .......... .......... 95% 35.5M 0s\n 40100K .......... .......... .......... .......... .......... 95% 55.5M 0s\n 40150K .......... .......... .......... .......... .......... 95% 46.9M 0s\n 40200K .......... .......... .......... .......... .......... 95% 36.8M 0s\n 40250K .......... .......... .......... .......... .......... 95%  127M 0s\n 40300K .......... .......... .......... .......... .......... 96% 37.8M 0s\n 40350K .......... .......... .......... .......... .......... 96% 40.8M 0s\n 40400K .......... .......... .......... .......... .......... 96% 36.2M 0s\n 40450K .......... .......... .......... .......... .......... 96%  132M 0s\n 40500K .......... .......... .......... .......... .......... 96% 52.3M 0s\n 40550K .......... .......... .......... .......... .......... 96% 56.8M 0s\n 40600K .......... .......... .......... .......... .......... 96% 53.9M 0s\n 40650K .......... .......... .......... .......... .......... 96%  159M 0s\n 40700K .......... .......... .......... .......... .......... 97% 44.6M 0s\n 40750K .......... .......... .......... .......... .......... 97% 4.25M 0s\n 40800K .......... .......... .......... .......... .......... 97% 16.8M 0s\n 40850K .......... .......... .......... .......... .......... 97%  149M 0s\n 40900K .......... .......... .......... .......... .......... 97%  161M 0s\n 40950K .......... .......... .......... .......... .......... 97%  159M 0s\n 41000K .......... .......... .......... .......... .......... 97%  138M 0s\n 41050K .......... .......... .......... .......... .......... 97%  157M 0s\n 41100K .......... .......... .......... .......... .......... 97%  160M 0s\n 41150K .......... .......... .......... .......... .......... 98%  160M 0s\n 41200K .......... .......... .......... .......... .......... 98%  138M 0s\n 41250K .......... .......... .......... .......... .......... 98%  158M 0s\n 41300K .......... .......... .......... .......... .......... 98%  161M 0s\n 41350K .......... .......... .......... .......... .......... 98%  162M 0s\n 41400K .......... .......... .......... .......... .......... 98%  150M 0s\n 41450K .......... .......... .......... .......... .......... 98% 3.12M 0s\n 41500K .......... .......... .......... .......... .......... 98%  119M 0s\n 41550K .......... .......... .......... .......... .......... 99%  149M 0s\n 41600K .......... .......... .......... .......... .......... 99%  159M 0s\n 41650K .......... .......... .......... .......... .......... 99%  158M 0s\n 41700K .......... .......... .......... .......... .......... 99%  153M 0s\n 41750K .......... .......... .......... .......... .......... 99%  135M 0s\n 41800K .......... .......... .......... .......... .......... 99%  163M 0s\n 41850K .......... .......... .......... .......... .......... 99%  162M 0s\n 41900K .......... .......... .......... .......... .......... 99%  163M 0s\n 41950K .......... .......... .......... .......... .......... 99%  143M 0s\n 42000K ....                                                  100% 74.8M=1.0s\n\n2024-05-10 11:04:26 (41.4 MB/s) - ‘201508_trip_data.csv’ saved [43012650/43012650]\n\n"
     ]
    }
   ],
   "source": [
    "%sh wget https://raw.githubusercontent.com/udacity/data-analyst/master/projects/bike_sharing/201508_trip_data.csv"
   ]
  },
  {
   "cell_type": "code",
   "execution_count": 0,
   "metadata": {
    "application/vnd.databricks.v1+cell": {
     "cellMetadata": {
      "byteLimit": 2048000,
      "rowLimit": 10000
     },
     "inputWidgets": {},
     "nuid": "45cfbe56-4296-4dae-831d-aba7ea9d10d5",
     "showTitle": false,
     "title": ""
    }
   },
   "outputs": [
    {
     "output_type": "stream",
     "name": "stdout",
     "output_type": "stream",
     "text": [
      "--2024-05-10 11:04:28--  https://raw.githubusercontent.com/udacity/data-analyst/master/projects/bike_sharing/201508_station_data.csv\nResolving raw.githubusercontent.com (raw.githubusercontent.com)... 185.199.111.133, 185.199.108.133, 185.199.109.133, ...\nConnecting to raw.githubusercontent.com (raw.githubusercontent.com)|185.199.111.133|:443... connected.\nHTTP request sent, awaiting response... 200 OK\nLength: 5272 (5.1K) [text/plain]\nSaving to: ‘201508_station_data.csv’\n\n     0K .....                                                 100% 32.4M=0s\n\n2024-05-10 11:04:28 (32.4 MB/s) - ‘201508_station_data.csv’ saved [5272/5272]\n\n"
     ]
    }
   ],
   "source": [
    "%sh wget https://raw.githubusercontent.com/udacity/data-analyst/master/projects/bike_sharing/201508_station_data.csv"
   ]
  },
  {
   "cell_type": "code",
   "execution_count": 0,
   "metadata": {
    "application/vnd.databricks.v1+cell": {
     "cellMetadata": {
      "byteLimit": 2048000,
      "rowLimit": 10000
     },
     "inputWidgets": {},
     "nuid": "294a81ec-4de4-43f4-8eb7-87ae87a213b9",
     "showTitle": false,
     "title": ""
    }
   },
   "outputs": [
    {
     "output_type": "stream",
     "name": "stdout",
     "output_type": "stream",
     "text": [
      "root\n |-- Trip ID: integer (nullable = true)\n |-- Duration: integer (nullable = true)\n |-- Start Date: string (nullable = true)\n |-- Start Station: string (nullable = true)\n |-- Start Terminal: integer (nullable = true)\n |-- End Date: string (nullable = true)\n |-- End Station: string (nullable = true)\n |-- End Terminal: integer (nullable = true)\n |-- Bike #: integer (nullable = true)\n |-- Subscriber Type: string (nullable = true)\n |-- Zip Code: string (nullable = true)\n\n"
     ]
    }
   ],
   "source": [
    "tripDF = spark.read.csv('file:/databricks/driver/201508_trip_data.csv',header=True, inferSchema = True)\n",
    "tripDF.printSchema()"
   ]
  },
  {
   "cell_type": "code",
   "execution_count": 0,
   "metadata": {
    "application/vnd.databricks.v1+cell": {
     "cellMetadata": {
      "byteLimit": 2048000,
      "rowLimit": 10000
     },
     "inputWidgets": {},
     "nuid": "12e0f690-aa44-4bc7-b032-97fdc271a292",
     "showTitle": false,
     "title": ""
    }
   },
   "outputs": [
    {
     "output_type": "stream",
     "name": "stdout",
     "output_type": "stream",
     "text": [
      "root\n |-- station_id: integer (nullable = true)\n |-- name: string (nullable = true)\n |-- lat: double (nullable = true)\n |-- long: double (nullable = true)\n |-- dockcount: integer (nullable = true)\n |-- landmark: string (nullable = true)\n |-- installation: date (nullable = true)\n\n"
     ]
    }
   ],
   "source": [
    "stationDF = spark.read.csv('file:/databricks/driver/201508_station_data.csv',header=True, inferSchema = True)\n",
    "stationDF.printSchema()"
   ]
  },
  {
   "cell_type": "code",
   "execution_count": 0,
   "metadata": {
    "application/vnd.databricks.v1+cell": {
     "cellMetadata": {
      "byteLimit": 2048000,
      "rowLimit": 10000
     },
     "inputWidgets": {},
     "nuid": "48c8dbb5-875a-414b-80fa-700aff5c9e57",
     "showTitle": false,
     "title": ""
    }
   },
   "outputs": [],
   "source": [
    "stationVertices = stationDF.withColumnRenamed(\"name\", \"id\").distinct()\n",
    "tripEdges = tripDF.withColumnRenamed(\"Start Station\", \"src\").withColumnRenamed(\"End Station\", \"dst\")"
   ]
  },
  {
   "cell_type": "code",
   "execution_count": 0,
   "metadata": {
    "application/vnd.databricks.v1+cell": {
     "cellMetadata": {
      "byteLimit": 2048000,
      "rowLimit": 10000
     },
     "inputWidgets": {},
     "nuid": "43829314-2df1-4843-85ee-e4160a1cb052",
     "showTitle": false,
     "title": ""
    }
   },
   "outputs": [
    {
     "output_type": "stream",
     "name": "stdout",
     "output_type": "stream",
     "text": [
      "+-------+--------+---------------+---------------------------------------------+--------------+---------------+---------------------------------------------+------------+------+---------------+--------+\n|Trip ID|Duration|Start Date     |src                                          |Start Terminal|End Date       |dst                                          |End Terminal|Bike #|Subscriber Type|Zip Code|\n+-------+--------+---------------+---------------------------------------------+--------------+---------------+---------------------------------------------+------------+------+---------------+--------+\n|913460 |765     |8/31/2015 23:26|Harry Bridges Plaza (Ferry Building)         |50            |8/31/2015 23:39|San Francisco Caltrain (Townsend at 4th)     |70          |288   |Subscriber     |2139    |\n|913459 |1036    |8/31/2015 23:11|San Antonio Shopping Center                  |31            |8/31/2015 23:28|Mountain View City Hall                      |27          |35    |Subscriber     |95032   |\n|913455 |307     |8/31/2015 23:13|Post at Kearny                               |47            |8/31/2015 23:18|2nd at South Park                            |64          |468   |Subscriber     |94107   |\n|913454 |409     |8/31/2015 23:10|San Jose City Hall                           |10            |8/31/2015 23:17|San Salvador at 1st                          |8           |68    |Subscriber     |95113   |\n|913453 |789     |8/31/2015 23:09|Embarcadero at Folsom                        |51            |8/31/2015 23:22|Embarcadero at Sansome                       |60          |487   |Customer       |9069    |\n|913452 |293     |8/31/2015 23:07|Yerba Buena Center of the Arts (3rd @ Howard)|68            |8/31/2015 23:12|San Francisco Caltrain (Townsend at 4th)     |70          |538   |Subscriber     |94118   |\n|913451 |896     |8/31/2015 23:07|Embarcadero at Folsom                        |51            |8/31/2015 23:22|Embarcadero at Sansome                       |60          |363   |Customer       |92562   |\n|913450 |255     |8/31/2015 22:16|Embarcadero at Sansome                       |60            |8/31/2015 22:20|Steuart at Market                            |74          |470   |Subscriber     |94111   |\n|913449 |126     |8/31/2015 22:12|Beale at Market                              |56            |8/31/2015 22:15|Temporary Transbay Terminal (Howard at Beale)|55          |439   |Subscriber     |94130   |\n|913448 |932     |8/31/2015 21:57|Post at Kearny                               |47            |8/31/2015 22:12|South Van Ness at Market                     |66          |472   |Subscriber     |94702   |\n+-------+--------+---------------+---------------------------------------------+--------------+---------------+---------------------------------------------+------------+------+---------------+--------+\nonly showing top 10 rows\n\n"
     ]
    }
   ],
   "source": [
    "tripEdges.show(10, False)"
   ]
  },
  {
   "cell_type": "code",
   "execution_count": 0,
   "metadata": {
    "application/vnd.databricks.v1+cell": {
     "cellMetadata": {
      "byteLimit": 2048000,
      "rowLimit": 10000
     },
     "inputWidgets": {},
     "nuid": "d022fd89-9664-456f-b3fe-85aa56f7b732",
     "showTitle": false,
     "title": ""
    }
   },
   "outputs": [
    {
     "output_type": "stream",
     "name": "stdout",
     "output_type": "stream",
     "text": [
      "+----------+---------------------------------+---------+-----------+---------+--------+------------+\n|station_id|id                               |lat      |long       |dockcount|landmark|installation|\n+----------+---------------------------------+---------+-----------+---------+--------+------------+\n|10        |San Jose City Hall               |37.337391|-121.886995|15       |San Jose|2013-08-06  |\n|12        |SJSU 4th at San Carlos           |37.332808|-121.883891|19       |San Jose|2013-08-07  |\n|3         |San Jose Civic Center            |37.330698|-121.888979|15       |San Jose|2013-08-05  |\n|7         |Paseo de San Antonio             |37.333798|-121.886943|15       |San Jose|2013-08-07  |\n|4         |Santa Clara at Almaden           |37.333988|-121.894902|11       |San Jose|2013-08-06  |\n|5         |Adobe on Almaden                 |37.331415|-121.8932  |19       |San Jose|2013-08-05  |\n|2         |San Jose Diridon Caltrain Station|37.329732|-121.901782|27       |San Jose|2013-08-06  |\n|8         |San Salvador at 1st              |37.330165|-121.885831|15       |San Jose|2013-08-05  |\n|9         |Japantown                        |37.348742|-121.894715|15       |San Jose|2013-08-05  |\n|6         |San Pedro Square                 |37.336721|-121.894074|15       |San Jose|2013-08-07  |\n+----------+---------------------------------+---------+-----------+---------+--------+------------+\nonly showing top 10 rows\n\n"
     ]
    }
   ],
   "source": [
    "stationVertices.show(10, False)"
   ]
  },
  {
   "cell_type": "markdown",
   "metadata": {
    "application/vnd.databricks.v1+cell": {
     "cellMetadata": {
      "byteLimit": 2048000,
      "rowLimit": 10000
     },
     "inputWidgets": {},
     "nuid": "ff2f80f7-91bd-4943-b8e9-2f405866a4f7",
     "showTitle": false,
     "title": ""
    }
   },
   "source": [
    "Alright you now have the data formatted as you need to perform analysis. Take a look to make sure you understand what the data is. Basically you have bike stations (verticies) and trips between the stations (edges). \n",
    "\n",
    "Hint: in the cell above I used 'False' in the `show()`, this will be useful for you to prevent truncating station names. The highest ranked station should be San Jose Diridon Caltrain Station.\n",
    "\n",
    "#####Create a graphframe and perform a pagerank to find the most import stations (make sure to set the maxIterations to 5)."
   ]
  },
  {
   "cell_type": "code",
   "execution_count": 0,
   "metadata": {
    "application/vnd.databricks.v1+cell": {
     "cellMetadata": {
      "byteLimit": 2048000,
      "rowLimit": 10000
     },
     "inputWidgets": {},
     "nuid": "550f6be8-6d9f-4c89-ab2d-67395d47508a",
     "showTitle": false,
     "title": ""
    }
   },
   "outputs": [],
   "source": [
    "#take the vertices and edges DataFrames and returns a GraphFrames object.\n",
    "gbs = GraphFrame(stationVertices, tripEdges)"
   ]
  },
  {
   "cell_type": "code",
   "execution_count": 0,
   "metadata": {
    "application/vnd.databricks.v1+cell": {
     "cellMetadata": {
      "byteLimit": 2048000,
      "rowLimit": 10000
     },
     "inputWidgets": {},
     "nuid": "d8d9212e-9fa1-4465-ab9e-ef1610de5106",
     "showTitle": false,
     "title": ""
    }
   },
   "outputs": [
    {
     "output_type": "stream",
     "name": "stdout",
     "output_type": "stream",
     "text": [
      "+-------+--------+---------------+---------------------------------------------+--------------+---------------+---------------------------------------------+------------+------+---------------+--------+\n|Trip ID|Duration|Start Date     |src                                          |Start Terminal|End Date       |dst                                          |End Terminal|Bike #|Subscriber Type|Zip Code|\n+-------+--------+---------------+---------------------------------------------+--------------+---------------+---------------------------------------------+------------+------+---------------+--------+\n|913460 |765     |8/31/2015 23:26|Harry Bridges Plaza (Ferry Building)         |50            |8/31/2015 23:39|San Francisco Caltrain (Townsend at 4th)     |70          |288   |Subscriber     |2139    |\n|913459 |1036    |8/31/2015 23:11|San Antonio Shopping Center                  |31            |8/31/2015 23:28|Mountain View City Hall                      |27          |35    |Subscriber     |95032   |\n|913455 |307     |8/31/2015 23:13|Post at Kearny                               |47            |8/31/2015 23:18|2nd at South Park                            |64          |468   |Subscriber     |94107   |\n|913454 |409     |8/31/2015 23:10|San Jose City Hall                           |10            |8/31/2015 23:17|San Salvador at 1st                          |8           |68    |Subscriber     |95113   |\n|913453 |789     |8/31/2015 23:09|Embarcadero at Folsom                        |51            |8/31/2015 23:22|Embarcadero at Sansome                       |60          |487   |Customer       |9069    |\n|913452 |293     |8/31/2015 23:07|Yerba Buena Center of the Arts (3rd @ Howard)|68            |8/31/2015 23:12|San Francisco Caltrain (Townsend at 4th)     |70          |538   |Subscriber     |94118   |\n|913451 |896     |8/31/2015 23:07|Embarcadero at Folsom                        |51            |8/31/2015 23:22|Embarcadero at Sansome                       |60          |363   |Customer       |92562   |\n|913450 |255     |8/31/2015 22:16|Embarcadero at Sansome                       |60            |8/31/2015 22:20|Steuart at Market                            |74          |470   |Subscriber     |94111   |\n|913449 |126     |8/31/2015 22:12|Beale at Market                              |56            |8/31/2015 22:15|Temporary Transbay Terminal (Howard at Beale)|55          |439   |Subscriber     |94130   |\n|913448 |932     |8/31/2015 21:57|Post at Kearny                               |47            |8/31/2015 22:12|South Van Ness at Market                     |66          |472   |Subscriber     |94702   |\n+-------+--------+---------------+---------------------------------------------+--------------+---------------+---------------------------------------------+------------+------+---------------+--------+\nonly showing top 10 rows\n\n"
     ]
    }
   ],
   "source": [
    "#show the edges\n",
    "gbs.edges.show(10, False)"
   ]
  },
  {
   "cell_type": "code",
   "execution_count": 0,
   "metadata": {
    "application/vnd.databricks.v1+cell": {
     "cellMetadata": {
      "byteLimit": 2048000,
      "rowLimit": 10000
     },
     "inputWidgets": {},
     "nuid": "b9584cdf-03e0-4b4d-95c4-8f4c2445415a",
     "showTitle": false,
     "title": ""
    }
   },
   "outputs": [],
   "source": [
    "#Run the pageRank()\n",
    "pageRanks = gbs.pageRank(resetProbability=0.15, maxIter = 5)"
   ]
  },
  {
   "cell_type": "code",
   "execution_count": 0,
   "metadata": {
    "application/vnd.databricks.v1+cell": {
     "cellMetadata": {
      "byteLimit": 2048000,
      "rowLimit": 10000
     },
     "inputWidgets": {},
     "nuid": "b6da7cf0-b5a5-47a4-94e3-de55c7b58794",
     "showTitle": false,
     "title": ""
    }
   },
   "outputs": [
    {
     "output_type": "stream",
     "name": "stdout",
     "output_type": "stream",
     "text": [
      "+----------+----------------------------------------+---------+-----------+---------+-------------+------------+------------------+\n|station_id|id                                      |lat      |long       |dockcount|landmark     |installation|pagerank          |\n+----------+----------------------------------------+---------+-----------+---------+-------------+------------+------------------+\n|2         |San Jose Diridon Caltrain Station       |37.329732|-121.901782|27       |San Jose     |2013-08-06  |4.084086216116643 |\n|70        |San Francisco Caltrain (Townsend at 4th)|37.776617|-122.39526 |19       |San Francisco|2013-08-23  |3.3515435057991234|\n|28        |Mountain View Caltrain Station          |37.394358|-122.076713|23       |Mountain View|2013-08-15  |2.5531183688195793|\n|22        |Redwood City Caltrain Station           |37.486078|-122.232089|25       |Redwood City |2013-08-15  |2.4734490963466937|\n|69        |San Francisco Caltrain 2 (330 Townsend) |37.7766  |-122.39547 |23       |San Francisco|2013-08-23  |2.2319817069585572|\n|50        |Harry Bridges Plaza (Ferry Building)    |37.795392|-122.394203|23       |San Francisco|2013-08-20  |1.822931948945983 |\n|61        |2nd at Townsend                         |37.780526|-122.390288|27       |San Francisco|2013-08-22  |1.581542980246667 |\n|65        |Townsend at 7th                         |37.771058|-122.402717|15       |San Francisco|2013-08-22  |1.5670854088611745|\n|4         |Santa Clara at Almaden                  |37.333988|-121.894902|11       |San Jose     |2013-08-06  |1.5573558226793591|\n|60        |Embarcadero at Sansome                  |37.80477 |-122.403234|15       |San Francisco|2013-08-21  |1.5406293689617847|\n+----------+----------------------------------------+---------+-----------+---------+-------------+------------+------------------+\nonly showing top 10 rows\n\n"
     ]
    }
   ],
   "source": [
    "#Show() the vertices, ranked\n",
    "pageRanks.vertices.orderBy(pageRanks.vertices.pagerank,ascending=False).show(10,False)"
   ]
  },
  {
   "cell_type": "markdown",
   "metadata": {
    "application/vnd.databricks.v1+cell": {
     "cellMetadata": {
      "byteLimit": 2048000,
      "rowLimit": 10000
     },
     "inputWidgets": {},
     "nuid": "6c7b0e1a-c9aa-4c85-8637-6ad16d18cf88",
     "showTitle": false,
     "title": ""
    }
   },
   "source": [
    "One question is: what are the most common trip paths? You can do this by performing a grouping operator and adding the edge counts together, think of how we used sparkSQL to implement SQL like queries last week. Remember the list of edges is just a dataframe so you can use SQL queries to find a result like this. In case you have forgotten this link has some information on groupBy:\n",
    "\n",
    "https://sparkbyexamples.com/spark/using-groupby-on-dataframe/\n",
    "\n",
    "The most common trip should be:\n",
    "\n",
    "San Francisco Caltrain 2 (330 Townsend)  ->    Townsend at 7th."
   ]
  },
  {
   "cell_type": "code",
   "execution_count": 0,
   "metadata": {
    "application/vnd.databricks.v1+cell": {
     "cellMetadata": {
      "byteLimit": 2048000,
      "rowLimit": 10000
     },
     "inputWidgets": {},
     "nuid": "696c562b-32a5-449b-a7d5-f04f412da187",
     "showTitle": false,
     "title": ""
    }
   },
   "outputs": [
    {
     "output_type": "stream",
     "name": "stdout",
     "output_type": "stream",
     "text": [
      "+---------------------------------------------+----------------------------------------+-----+\n|src                                          |dst                                     |count|\n+---------------------------------------------+----------------------------------------+-----+\n|San Francisco Caltrain 2 (330 Townsend)      |Townsend at 7th                         |3748 |\n|Harry Bridges Plaza (Ferry Building)         |Embarcadero at Sansome                  |3145 |\n|2nd at Townsend                              |Harry Bridges Plaza (Ferry Building)    |2973 |\n|Townsend at 7th                              |San Francisco Caltrain 2 (330 Townsend) |2734 |\n|Harry Bridges Plaza (Ferry Building)         |2nd at Townsend                         |2640 |\n|Embarcadero at Folsom                        |San Francisco Caltrain (Townsend at 4th)|2439 |\n|Steuart at Market                            |2nd at Townsend                         |2356 |\n|Embarcadero at Sansome                       |Steuart at Market                       |2330 |\n|Townsend at 7th                              |San Francisco Caltrain (Townsend at 4th)|2192 |\n|Temporary Transbay Terminal (Howard at Beale)|San Francisco Caltrain (Townsend at 4th)|2184 |\n+---------------------------------------------+----------------------------------------+-----+\nonly showing top 10 rows\n\n"
     ]
    }
   ],
   "source": [
    "tripEdgesSum = tripEdges.groupBy(tripEdges.src, tripEdges.dst).count()\n",
    "tripEdgesSum.orderBy(\"count\",ascending=False).show(10, False)"
   ]
  },
  {
   "cell_type": "markdown",
   "metadata": {
    "application/vnd.databricks.v1+cell": {
     "cellMetadata": {
      "byteLimit": 2048000,
      "rowLimit": 10000
     },
     "inputWidgets": {},
     "nuid": "94570efb-dbc9-441c-aa5c-f5a38aeba766",
     "showTitle": false,
     "title": ""
    }
   },
   "source": [
    "Create a new graphframe with only unique edges and check if all stations are connected (i.e. whether there are any stations without trips)"
   ]
  },
  {
   "cell_type": "code",
   "execution_count": 0,
   "metadata": {
    "application/vnd.databricks.v1+cell": {
     "cellMetadata": {
      "byteLimit": 2048000,
      "rowLimit": 10000
     },
     "inputWidgets": {},
     "nuid": "71426f4a-2994-4208-b12e-7282c893d591",
     "showTitle": false,
     "title": ""
    }
   },
   "outputs": [],
   "source": [
    "#Create tripEdgesUnique graphframe\n",
    "tripEdgesUnique = tripEdges.dropDuplicates([\"src\", \"dst\"])"
   ]
  },
  {
   "cell_type": "code",
   "execution_count": 0,
   "metadata": {
    "application/vnd.databricks.v1+cell": {
     "cellMetadata": {
      "byteLimit": 2048000,
      "rowLimit": 10000
     },
     "inputWidgets": {},
     "nuid": "e2a9f55d-30e3-41f7-be77-6d860367ae22",
     "showTitle": false,
     "title": ""
    }
   },
   "outputs": [
    {
     "output_type": "stream",
     "name": "stdout",
     "output_type": "stream",
     "text": [
      "+-------+--------------------+\n|Trip ID|             src_dst|\n+-------+--------------------+\n| 913460|San Francisco Cal...|\n| 913448|South Van Ness at...|\n| 913451|Embarcadero at Fo...|\n| 913455|      Post at Kearny|\n| 913449|     Beale at Market|\n| 913443|   Market at Sansome|\n| 913459|San Antonio Shopp...|\n| 913452|Yerba Buena Cente...|\n| 913460|Harry Bridges Pla...|\n| 913452|San Francisco Cal...|\n| 913450|Embarcadero at Sa...|\n| 913449|Temporary Transba...|\n| 913459|Mountain View Cit...|\n| 913453|Embarcadero at Fo...|\n| 913448|      Post at Kearny|\n| 913443|Embarcadero at Sa...|\n| 913453|Embarcadero at Sa...|\n| 913455|   2nd at South Park|\n| 913451|Embarcadero at Sa...|\n| 913450|   Steuart at Market|\n+-------+--------------------+\nonly showing top 20 rows\n\n"
     ]
    }
   ],
   "source": [
    "# We compute a union, all the edges (regardless of in/out) in the edges DataFrame\n",
    "all_stations_with_edges = tripEdges \\\n",
    ".selectExpr(\"`Trip ID`\", 'explode(array(src, dst)) AS src_dst') \\\n",
    ".dropDuplicates()\n",
    "\n",
    "all_stations_with_edges.show()"
   ]
  },
  {
   "cell_type": "code",
   "execution_count": 0,
   "metadata": {
    "application/vnd.databricks.v1+cell": {
     "cellMetadata": {
      "byteLimit": 2048000,
      "rowLimit": 10000
     },
     "inputWidgets": {},
     "nuid": "bd8ef421-c1d5-4f8c-b04c-408560049871",
     "showTitle": false,
     "title": ""
    }
   },
   "outputs": [],
   "source": [
    "# We find the set difference between all the vertices in the edges DataFrame and the vertices\n",
    "stations_with_no_trips = stationVertices.select(\"id\").subtract(all_stations_with_edges.select(\"src_dst\")).collect()"
   ]
  },
  {
   "cell_type": "code",
   "execution_count": 0,
   "metadata": {
    "application/vnd.databricks.v1+cell": {
     "cellMetadata": {
      "byteLimit": 2048000,
      "rowLimit": 10000
     },
     "inputWidgets": {},
     "nuid": "a2a73aac-f5ca-46e6-93bd-c1528f20eb72",
     "showTitle": false,
     "title": ""
    }
   },
   "outputs": [],
   "source": [
    "# We extract the \"id\" from each filtered row\n",
    "stations_with_no_trips_ls = list(map(lambda x: x[\"id\"], stations_with_no_trips))"
   ]
  },
  {
   "cell_type": "code",
   "execution_count": 0,
   "metadata": {
    "application/vnd.databricks.v1+cell": {
     "cellMetadata": {
      "byteLimit": 2048000,
      "rowLimit": 10000
     },
     "inputWidgets": {},
     "nuid": "9a8b076a-e149-47fc-8e3c-b91647dee63f",
     "showTitle": false,
     "title": ""
    }
   },
   "outputs": [],
   "source": [
    "# Finally, we filter for all stations that are present in both datasets\n",
    "from pyspark.sql.functions import col\n",
    "connected_stations = stationVertices.filter(~col(\"id\").isin(stations_with_no_trips_ls))"
   ]
  },
  {
   "cell_type": "code",
   "execution_count": 0,
   "metadata": {
    "application/vnd.databricks.v1+cell": {
     "cellMetadata": {
      "byteLimit": 2048000,
      "rowLimit": 10000
     },
     "inputWidgets": {},
     "nuid": "1fff9666-dce3-454a-a14c-1decec049479",
     "showTitle": false,
     "title": ""
    }
   },
   "outputs": [],
   "source": [
    "gbsUnique = GraphFrame(connected_stations, tripEdgesUnique)"
   ]
  },
  {
   "cell_type": "code",
   "execution_count": 0,
   "metadata": {
    "application/vnd.databricks.v1+cell": {
     "cellMetadata": {
      "byteLimit": 2048000,
      "rowLimit": 10000
     },
     "inputWidgets": {},
     "nuid": "9275fd5b-03cc-4e6e-890b-e9af0eb07c6b",
     "showTitle": false,
     "title": ""
    }
   },
   "outputs": [
    {
     "output_type": "stream",
     "name": "stdout",
     "output_type": "stream",
     "text": [
      "+--------------------+--------------------+\n|                 src|                 dst|\n+--------------------+--------------------+\n|     Beale at Market|Temporary Transba...|\n|Embarcadero at Sa...|   Steuart at Market|\n|      Post at Kearny|   2nd at South Park|\n|Harry Bridges Pla...|San Francisco Cal...|\n|Temporary Transba...|San Francisco Cal...|\n|     Spear at Folsom|San Francisco Cal...|\n|      Post at Kearny|South Van Ness at...|\n|   Market at Sansome|Broadway St at Ba...|\n|San Antonio Shopp...|Mountain View Cit...|\n|      Market at 10th|San Francisco Cal...|\n|San Francisco Cal...|       Market at 4th|\n|Mountain View Cal...|Castro Street and...|\n|University and Em...|Cowper at University|\n|  San Jose City Hall| San Salvador at 1st|\n|       Market at 4th|Grant Avenue at C...|\n|Embarcadero at Sa...|   Market at Sansome|\n|Temporary Transba...|Grant Avenue at C...|\n|Yerba Buena Cente...|San Francisco Cal...|\n|San Francisco Cal...|Broadway St at Ba...|\n|San Francisco Cal...|     Townsend at 7th|\n+--------------------+--------------------+\nonly showing top 20 rows\n\n"
     ]
    }
   ],
   "source": [
    "tripEdgesUnique.select(\"src\", \"dst\").show()"
   ]
  },
  {
   "cell_type": "code",
   "execution_count": 0,
   "metadata": {
    "application/vnd.databricks.v1+cell": {
     "cellMetadata": {
      "byteLimit": 2048000,
      "rowLimit": 10000
     },
     "inputWidgets": {},
     "nuid": "60cb4a5a-e9a1-47f8-968e-4da061e17f8b",
     "showTitle": false,
     "title": ""
    }
   },
   "outputs": [],
   "source": [
    "\n",
    "gbsUnique = GraphFrame(stationVertices, tripEdgesSum)"
   ]
  },
  {
   "cell_type": "code",
   "execution_count": 0,
   "metadata": {
    "application/vnd.databricks.v1+cell": {
     "cellMetadata": {
      "byteLimit": 2048000,
      "rowLimit": 10000
     },
     "inputWidgets": {},
     "nuid": "1eb0b0e9-9cab-42a9-b963-2a63066f2588",
     "showTitle": false,
     "title": ""
    }
   },
   "outputs": [],
   "source": [
    "#Computes the connected component membership of each vertex and returns a graph with each vertex assigned a component ID.\n",
    "cc = gbsUnique.connectedComponents()"
   ]
  },
  {
   "cell_type": "code",
   "execution_count": 0,
   "metadata": {
    "application/vnd.databricks.v1+cell": {
     "cellMetadata": {
      "byteLimit": 2048000,
      "rowLimit": 10000
     },
     "inputWidgets": {},
     "nuid": "8dbb95c9-167c-4210-9604-ca90f8827edb",
     "showTitle": false,
     "title": ""
    }
   },
   "outputs": [
    {
     "output_type": "stream",
     "name": "stdout",
     "output_type": "stream",
     "text": [
      "+--------------------+---------+\n|                  id|component|\n+--------------------+---------+\n|Cowper at University|        0|\n|  San Jose City Hall|        0|\n|California Ave Ca...|        0|\n|South Van Ness at...|        0|\n|   Market at Sansome|        0|\n|SJSU 4th at San C...|        0|\n|     Townsend at 7th|        0|\n|Castro Street and...|        0|\n|Embarcadero at Fo...|        0|\n|Embarcadero at Sa...|        0|\n|         Ryland Park|        0|\n|Mechanics Plaza (...|        0|\n|San Antonio Shopp...|        0|\n|          Mezes Park|        0|\n|SJSU - San Salvad...|        0|\n|Harry Bridges Pla...|        0|\n|Embarcadero at Br...|        0|\n|       5th at Howard|        0|\n|Commercial at Mon...|        0|\n|Temporary Transba...|        0|\n+--------------------+---------+\nonly showing top 20 rows\n\n"
     ]
    }
   ],
   "source": [
    "#show the graphframe with component\n",
    "cc.select(\"id\",\"component\").orderBy(\"component\").show()"
   ]
  },
  {
   "cell_type": "code",
   "execution_count": 0,
   "metadata": {
    "application/vnd.databricks.v1+cell": {
     "cellMetadata": {
      "byteLimit": 2048000,
      "rowLimit": 10000
     },
     "inputWidgets": {},
     "nuid": "dbea88c3-c18e-40e7-afe5-865afcc82434",
     "showTitle": false,
     "title": ""
    }
   },
   "outputs": [
    {
     "output_type": "stream",
     "name": "stdout",
     "output_type": "stream",
     "text": [
      "+----------+--------------------+---------+-----------+---------+-------------+------------+------------+\n|station_id|                  id|      lat|       long|dockcount|     landmark|installation|   component|\n+----------+--------------------+---------+-----------+---------+-------------+------------+------------+\n|        47|     Post at Kearney|37.788975|-122.403452|       19|San Francisco|  2013-08-19|317827579904|\n|        46|Washington at Kea...|37.795425|-122.404767|       15|San Francisco|  2013-08-19| 17179869184|\n+----------+--------------------+---------+-----------+---------+-------------+------------+------------+\n\n"
     ]
    }
   ],
   "source": [
    "#It seems a lot of stations are in component 0. Try to filter where component > 0\n",
    "cc.where(cc.component > 0).show(10)"
   ]
  },
  {
   "cell_type": "markdown",
   "metadata": {
    "application/vnd.databricks.v1+cell": {
     "cellMetadata": {
      "byteLimit": 2048000,
      "rowLimit": 10000
     },
     "inputWidgets": {},
     "nuid": "c22d6647-8e59-4e80-9cca-91bece3f3337",
     "showTitle": false,
     "title": ""
    }
   },
   "source": [
    "Remember that in this instance you’ve got a directed graph. That means that your trips are directional - from one location to another. Therefore you get access to a wealth of analysis that you can use. You can find the number of trips that go into a specific station and leave from a specific station.\n",
    "\n",
    "One interesting question you could ask is what is the station with the highest ratio of in degrees to out degrees. As in, what station acts as a pure trip sink. A station where trips end at but rarely start from. This station will end up with a lot of excess bikes that will need to be re-distributed."
   ]
  },
  {
   "cell_type": "code",
   "execution_count": 0,
   "metadata": {
    "application/vnd.databricks.v1+cell": {
     "cellMetadata": {
      "byteLimit": 2048000,
      "rowLimit": 10000
     },
     "inputWidgets": {},
     "nuid": "67e77aaf-5f8b-4579-935d-bf82a26371a6",
     "showTitle": false,
     "title": ""
    }
   },
   "outputs": [],
   "source": [
    "gbsOut = gbs.outDegrees\n",
    "gbsIn = gbs.inDegrees\n",
    "# Note you may find it easier to use q SQL query here if that is what you are used to\n",
    "gbsJoin = gbsIn.join(gbsOut, [\"id\"])\n",
    "gbsDeg = gbsJoin.withColumn(\"Ratio\", col(\"inDegree\") / col(\"outDegree\"))"
   ]
  },
  {
   "cell_type": "code",
   "execution_count": 0,
   "metadata": {
    "application/vnd.databricks.v1+cell": {
     "cellMetadata": {
      "byteLimit": 2048000,
      "rowLimit": 10000
     },
     "inputWidgets": {},
     "nuid": "6f0a2dba-fe76-491c-9c4e-eeb564fb5ad9",
     "showTitle": false,
     "title": ""
    }
   },
   "outputs": [
    {
     "output_type": "stream",
     "name": "stdout",
     "output_type": "stream",
     "text": [
      "root\n |-- id: string (nullable = true)\n |-- inDegree: integer (nullable = false)\n |-- outDegree: integer (nullable = false)\n\n"
     ]
    }
   ],
   "source": [
    "gbsJoin.printSchema()"
   ]
  },
  {
   "cell_type": "code",
   "execution_count": 0,
   "metadata": {
    "application/vnd.databricks.v1+cell": {
     "cellMetadata": {
      "byteLimit": 2048000,
      "rowLimit": 10000
     },
     "inputWidgets": {},
     "nuid": "1d64ee7d-307a-4dec-b3e7-a4c8a0ababdd",
     "showTitle": false,
     "title": ""
    }
   },
   "outputs": [
    {
     "output_type": "stream",
     "name": "stdout",
     "output_type": "stream",
     "text": [
      "+--------------------+--------+---------+------------------+\n|                  id|inDegree|outDegree|             Ratio|\n+--------------------+--------+---------+------------------+\n|Redwood City Medi...|     230|      150|1.5333333333333334|\n|San Mateo County ...|     187|      127|1.4724409448818898|\n|SJSU 4th at San C...|     647|      475|1.3621052631578947|\n|San Francisco Cal...|   34810|    26304|1.3233728710462287|\n|Washington at Kearny|    3481|     2660|1.3086466165413533|\n|Paseo de San Antonio|    1073|      856|1.2535046728971964|\n|California Ave Ca...|     496|      400|              1.24|\n|   Franklin at Maple|     100|       81|1.2345679012345678|\n|Embarcadero at Va...|    6146|     5037|1.2201707365495336|\n|   Market at Sansome|   13916|    11431|1.2173913043478262|\n+--------------------+--------+---------+------------------+\nonly showing top 10 rows\n\n"
     ]
    }
   ],
   "source": [
    "gbsDeg.orderBy(\"Ratio\",ascending=False).show(10)"
   ]
  },
  {
   "cell_type": "markdown",
   "metadata": {
    "application/vnd.databricks.v1+cell": {
     "cellMetadata": {
      "byteLimit": 2048000,
      "rowLimit": 10000
     },
     "inputWidgets": {},
     "nuid": "6fa2589f-236e-483e-8a77-c680bf092afa",
     "showTitle": false,
     "title": ""
    }
   },
   "source": [
    "Consider the station with the highest ratio of intrips to outtrips, find all stations connected by 1 or 2 trips to this station using motifs."
   ]
  },
  {
   "cell_type": "code",
   "execution_count": 0,
   "metadata": {
    "application/vnd.databricks.v1+cell": {
     "cellMetadata": {
      "byteLimit": 2048000,
      "rowLimit": 10000
     },
     "inputWidgets": {},
     "nuid": "275f232b-b01a-4cdd-b608-1dd50245509c",
     "showTitle": false,
     "title": ""
    }
   },
   "outputs": [],
   "source": [
    "#search for pairs of vertices a,b connected by edges in both directions\n",
    "motifsBS = gbsUnique.find(\"(a)-[]->(b); (b)-[]->(c)\").dropDuplicates()"
   ]
  },
  {
   "cell_type": "code",
   "execution_count": 0,
   "metadata": {
    "application/vnd.databricks.v1+cell": {
     "cellMetadata": {
      "byteLimit": 2048000,
      "rowLimit": 10000
     },
     "inputWidgets": {},
     "nuid": "c05c7924-3da3-43eb-952c-3a8f250dad39",
     "showTitle": false,
     "title": ""
    }
   },
   "outputs": [
    {
     "output_type": "stream",
     "name": "stdout",
     "output_type": "stream",
     "text": [
      "+--------------------+--------------------+--------------------+\n|                   a|                   b|                   c|\n+--------------------+--------------------+--------------------+\n|{26, Redwood City...|{23, San Mateo Co...|{25, Stanford in ...|\n|{26, Redwood City...|{23, San Mateo Co...|{21, Franklin at ...|\n|{26, Redwood City...|{24, Redwood City...|{34, Palo Alto Ca...|\n|{26, Redwood City...|{23, San Mateo Co...|{26, Redwood City...|\n|{26, Redwood City...|{24, Redwood City...|{22, Redwood City...|\n|{26, Redwood City...|{24, Redwood City...|{21, Franklin at ...|\n|{26, Redwood City...|{24, Redwood City...|{26, Redwood City...|\n|{26, Redwood City...|{24, Redwood City...|{24, Redwood City...|\n|{26, Redwood City...|{24, Redwood City...|{25, Stanford in ...|\n|{26, Redwood City...|{23, San Mateo Co...|{37, Cowper at Un...|\n+--------------------+--------------------+--------------------+\nonly showing top 10 rows\n\n"
     ]
    }
   ],
   "source": [
    "# Find stations connected by two trips\n",
    "filteredBS = motifsBS.filter(\"a.id = 'Redwood City Medical Center'\")\n",
    "filteredBS.show(10)"
   ]
  },
  {
   "cell_type": "code",
   "execution_count": 0,
   "metadata": {
    "application/vnd.databricks.v1+cell": {
     "cellMetadata": {
      "byteLimit": 2048000,
      "rowLimit": 10000
     },
     "inputWidgets": {},
     "nuid": "ee2b963e-68d6-450d-b57f-83facf514180",
     "showTitle": false,
     "title": ""
    }
   },
   "outputs": [
    {
     "output_type": "stream",
     "name": "stdout",
     "output_type": "stream",
     "text": [
      "Out[49]: DataFrame[a: struct<station_id:int,id:string,lat:double,long:double,dockcount:int,landmark:string,installation:date>, b: struct<station_id:int,id:string,lat:double,long:double,dockcount:int,landmark:string,installation:date>, c: struct<station_id:int,id:string,lat:double,long:double,dockcount:int,landmark:string,installation:date>]"
     ]
    }
   ],
   "source": [
    "#store the intermediate computation so they can be reused in subsequent actions.\n",
    "filteredBS.persist()"
   ]
  },
  {
   "cell_type": "code",
   "execution_count": 0,
   "metadata": {
    "application/vnd.databricks.v1+cell": {
     "cellMetadata": {
      "byteLimit": 2048000,
      "rowLimit": 10000
     },
     "inputWidgets": {},
     "nuid": "ab438231-5378-4bfd-85b8-9510e54f7935",
     "showTitle": false,
     "title": ""
    }
   },
   "outputs": [
    {
     "output_type": "stream",
     "name": "stdout",
     "output_type": "stream",
     "text": [
      "Out[50]: 64"
     ]
    }
   ],
   "source": [
    "#count the number of connections\n",
    "filteredBS.count()"
   ]
  },
  {
   "cell_type": "code",
   "execution_count": 0,
   "metadata": {
    "application/vnd.databricks.v1+cell": {
     "cellMetadata": {
      "byteLimit": 2048000,
      "rowLimit": 10000
     },
     "inputWidgets": {},
     "nuid": "aaa87f2c-3225-41dd-be10-24b3ff9f012b",
     "showTitle": false,
     "title": ""
    }
   },
   "outputs": [
    {
     "output_type": "stream",
     "name": "stdout",
     "output_type": "stream",
     "text": [
      "Out[51]: 7"
     ]
    }
   ],
   "source": [
    "# Find stations connected by one trip\n",
    "motifsBS1 = gbsUnique.find(\"(a)-[]->(b)\").dropDuplicates()\n",
    "motifsBS1.filter(\"a.id = 'Redwood City Medical Center'\").count()"
   ]
  }
 ],
 "metadata": {
  "application/vnd.databricks.v1+notebook": {
   "dashboards": [],
   "language": "python",
   "notebookMetadata": {
    "mostRecentlyExecutedCommandWithImplicitDF": {
     "commandId": 292738065917432,
     "dataframes": [
      "_sqldf"
     ]
    },
    "pythonIndentUnit": 4
   },
   "notebookName": "lab9_bda_solved",
   "widgets": {}
  }
 },
 "nbformat": 4,
 "nbformat_minor": 0
}
