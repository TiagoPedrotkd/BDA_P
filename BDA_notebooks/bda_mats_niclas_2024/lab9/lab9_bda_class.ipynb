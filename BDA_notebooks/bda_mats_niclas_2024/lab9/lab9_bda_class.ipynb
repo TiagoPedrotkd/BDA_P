{
 "cells": [
  {
   "cell_type": "markdown",
   "metadata": {
    "application/vnd.databricks.v1+cell": {
     "cellMetadata": {},
     "inputWidgets": {},
     "nuid": "6c101d94-0744-44f3-ac7d-f508f1662a0e",
     "showTitle": false,
     "title": ""
    }
   },
   "source": [
    "# Spark GraphFrames\n",
    "\n",
    "Before running present notebook please install the GraphFrames package into your cluster by following the steps in the pdf available with this notebook.  \n",
    "To check you have everything setup correctly run the below code and make sure there are no errors. If you get a message about connecting to a cluster click *ok*."
   ]
  },
  {
   "cell_type": "code",
   "execution_count": 0,
   "metadata": {
    "application/vnd.databricks.v1+cell": {
     "cellMetadata": {},
     "inputWidgets": {},
     "nuid": "833c09ad-41e2-432c-a910-8de95829a5a3",
     "showTitle": false,
     "title": ""
    }
   },
   "outputs": [],
   "source": [
    "#import the package we just installed\n",
    "from graphframes import *\n",
    "#import data types - All data types of Spark SQL are located in the package of pyspark.sql.types\n",
    "from pyspark.sql.types import *\n",
    "#row can be used to create a row object by using named arguments\n",
    "from pyspark.sql import Row"
   ]
  },
  {
   "cell_type": "markdown",
   "metadata": {
    "application/vnd.databricks.v1+cell": {
     "cellMetadata": {},
     "inputWidgets": {},
     "nuid": "6f320ffa-f632-4ebe-bc55-9b5122229cd0",
     "showTitle": false,
     "title": ""
    }
   },
   "source": [
    "<b>Graphs:</b> Graphs are mathematical structures used to model pairwise relations between objects. A graph in this context is made up of vertices (also called nodes or points) which are connected by edges (also called links or lines). A distinction is made between undirected graphs, where edges link two vertices symmetrically, and directed graphs, where edges link two vertices asymmetrically; see Graph (discrete mathematics) for more detailed definitions and for other variations in the types of graph that are commonly considered (follow this link: https://en.wikipedia.org/wiki/Graph_(discrete_mathematics)). Graphs are one of the prime objects of study in discrete mathematics.\n",
    "\n",
    "![image](https://mathinsight.org/media/image/image/small_undirected_network_labeled.png)\n",
    "\n",
    "Graph processing is important aspect of analysis that applies to a lot of use cases. Fundamentally graph theory and processing are about defining relationships between different nodes and edges. Nodes or vertices are the units while edges define the relationships between nodes. This works great for social network analysis and running algorithms like PageRank to better understand and weigh relationships.\n",
    "\n",
    "Some business use cases could be to look at central people in social networks [who is most popular in a group of friends], importance of papers in bibliographic networks [which papers are most referenced], and of course ranking web pages.\n",
    "\n",
    "## PageRank\n",
    "\n",
    "For this class we will look into the page rank algorithm again but – this time – from another point of view. As you might remenber, the PageRank of a particular web page indicates its relative importance within a group of web pages. The higher the page rank, the higher up it will appear in a search result list. The importance of a page is defined by the importance of all the web pages that provide an outbound link to the web page in consideration.\n",
    " For example, say that web page X has very high relative importance. Web page X is outbounding to web page Y (webpage X links to Y); hence, web page Y will also have high importance. However, if webpage X links to many webpages, including Y, the importance of Y is lower.\n",
    "\n",
    "For more information on pagerank you either:\n",
    "\n",
    "Follow through the worked example: https://www.cs.princeton.edu/~chazelle/courses/BIB/pagerank.htm\n",
    "\n",
    "Take a look at one of the many youtube explanations, for example (10min): https://www.youtube.com/watch?v=qpIqLjfcabs\n",
    "\n",
    "Part of what is important here is to understand the data format we use to represent a graph. I have commented the steps below:"
   ]
  },
  {
   "cell_type": "code",
   "execution_count": 0,
   "metadata": {
    "application/vnd.databricks.v1+cell": {
     "cellMetadata": {},
     "inputWidgets": {},
     "nuid": "8e10d01f-b770-4b03-b176-6c35e5e98b0d",
     "showTitle": false,
     "title": ""
    }
   },
   "outputs": [],
   "source": [
    "# First we start with the list of vertices, I have 5 vertices here, each named with a letter of the alphabet\n",
    "verticesList = ['a', 'b', 'c', 'd']\n",
    "# We load this list into an RDD as we have seen before\n",
    "verticesListRDD = sc.parallelize(verticesList, 1)\n",
    "# We convert this RDD to a dataframe using row objects and specifying a schema.\n",
    "verticesListRowsRDD = verticesListRDD.map( lambda data : Row(data))\n",
    "verticesSchema = StructType([StructField('id', StringType(), True)])\n",
    "verticesDataFrame = sqlContext.createDataFrame(verticesListRowsRDD, verticesSchema).persist()\n",
    "#Here I show the schema of the Dataframe.\n",
    "verticesDataFrame.show()"
   ]
  },
  {
   "cell_type": "markdown",
   "metadata": {
    "application/vnd.databricks.v1+cell": {
     "cellMetadata": {},
     "inputWidgets": {},
     "nuid": "fa37f9d9-bc68-413b-be4c-2547c29bfb92",
     "showTitle": false,
     "title": ""
    }
   },
   "source": [
    "Next we need to know how the vertices are connected, a list of edges. The process is very similar to that we just saw.\n",
    "\n",
    "First, we have to create a list of edges. Each edge in the list will be defined by a tuple.\n",
    "\n",
    "Then, we have to create an RDD of edges.\n",
    "\n",
    "Thereafter, we have to transform our RDD to an RDD of row objects. This will be followed by creating a schema and a DataFrame of edges. Let’s perform the steps:"
   ]
  },
  {
   "cell_type": "code",
   "execution_count": 0,
   "metadata": {
    "application/vnd.databricks.v1+cell": {
     "cellMetadata": {},
     "inputWidgets": {},
     "nuid": "7f4af656-311a-4d2e-9cc1-6f2b7aaeebe2",
     "showTitle": false,
     "title": ""
    }
   },
   "outputs": [],
   "source": [
    "edgeDataList = [('a','b'), ('a','c'), ('a','d'), ('b', 'c'),\n",
    "('b', 'd'),('c', 'b'), ('d', 'a'), ('d', 'c')]\n",
    "sourceColumn = StructField('src', StringType(),True)\n",
    "destinationColumn = StructField('dst', StringType(), True)\n",
    "edgeSchema = StructType([sourceColumn, destinationColumn])\n",
    "edgeRDD = sc.parallelize(edgeDataList, 1)\n",
    "edgeRDDRows = edgeRDD.map( lambda data : Row(data[0], data[1]))\n",
    "edgeDataFrame = sqlContext.createDataFrame(edgeRDDRows, edgeSchema).persist()\n",
    "edgeDataFrame.show()"
   ]
  },
  {
   "cell_type": "code",
   "execution_count": 0,
   "metadata": {
    "application/vnd.databricks.v1+cell": {
     "cellMetadata": {},
     "inputWidgets": {},
     "nuid": "94a370d7-286d-4040-bce2-5acfa6505c6a",
     "showTitle": false,
     "title": ""
    }
   },
   "outputs": [],
   "source": [
    "edgeRDD.take(10)"
   ]
  },
  {
   "cell_type": "code",
   "execution_count": 0,
   "metadata": {
    "application/vnd.databricks.v1+cell": {
     "cellMetadata": {},
     "inputWidgets": {},
     "nuid": "830a15e4-ae81-47ef-ba7c-381aed06d8cc",
     "showTitle": false,
     "title": ""
    }
   },
   "outputs": [],
   "source": [
    "edgeRDDRows.take(10)"
   ]
  },
  {
   "cell_type": "markdown",
   "metadata": {
    "application/vnd.databricks.v1+cell": {
     "cellMetadata": {},
     "inputWidgets": {},
     "nuid": "729a937f-01cd-4539-b550-8ce5d0b2fdbb",
     "showTitle": false,
     "title": ""
    }
   },
   "source": [
    "At this moment, we have `verticesDataFrame`, a DataFrame of vertices; and `edgeDataFrame`, a DataFrames of edges. Using these two, we can create our graph. The GraphFrame Python class is defined under the `graphframes.graphframe` submodule. GraphFrame() takes the vertices and edges DataFrames and returns a GraphFrames object. We have our `GraphFrames` object, `ourGraph`. We can fetch all the vertices as follows: In `GraphFrames`, we can create a graph by using the following code lines:\n",
    "\n",
    "**If you get an error on the below cell make sure you installed the correct version of graphframes**"
   ]
  },
  {
   "cell_type": "code",
   "execution_count": 0,
   "metadata": {
    "application/vnd.databricks.v1+cell": {
     "cellMetadata": {},
     "inputWidgets": {},
     "nuid": "55e4208a-5791-4aab-b4e0-75d66aba017f",
     "showTitle": false,
     "title": ""
    }
   },
   "outputs": [],
   "source": [
    "from graphframes import *\n",
    "\n",
    "ourGraph = GraphFrame(verticesDataFrame, edgeDataFrame)\n",
    "ourGraph.vertices.show()\n",
    "ourGraph.edges.show()"
   ]
  },
  {
   "cell_type": "markdown",
   "metadata": {
    "application/vnd.databricks.v1+cell": {
     "cellMetadata": {},
     "inputWidgets": {},
     "nuid": "17416c8b-c0f8-43d8-b741-96400eff5395",
     "showTitle": false,
     "title": ""
    }
   },
   "source": [
    "Page rank for pages can be found by using the `pageRank()` function, which is defined on the GraphFrames object.\n",
    "\n",
    "`pageRank()` function take two arguments: first is resetProbability (is the alpha explained below) and the second is maxIter\n",
    "\n",
    "Informally Page Rank Explanation: consider someone browsing the web (\"surfer\"). At every page, the surfer either follows a link on the page to another page or does something else. When following a link, without any other information, the surfer picks a link from the page at random and follows that one. When “doing something else,” the surfer moves to a random page on the web and restarts the surfing. To generate a simple model, we assume both of these behaviors even though they may seem ridiculous. When stated mathematically, this random surfer model is called a Markov chain because the behavior of the surfer only depends upon the current page and not the history of previous pages. Let α be the probability that the surfer follows a link; then 1 − α is the probability that the surfer “does something else.” \n",
    "\n",
    "Now imagine that we let the surfer run for a long time. The PageRank of a page is the probability of finding the surfer at that page as the surfing time becomes infinite. A key assumption behind PageRank is that pages where we are more likely to find the random surfer are more important pages and thus we can view the PageRank as a measure of the page’s importance.\n",
    "\n",
    "*Source: https://web.stanford.edu/group/SOL/dissertations/pagerank-sensitivity-thesis-online.pdf*"
   ]
  },
  {
   "cell_type": "code",
   "execution_count": 0,
   "metadata": {
    "application/vnd.databricks.v1+cell": {
     "cellMetadata": {},
     "inputWidgets": {},
     "nuid": "5d8ba3f3-a6f5-4192-940b-2adec23675b3",
     "showTitle": false,
     "title": ""
    }
   },
   "outputs": [],
   "source": [
    "pageRanks = ourGraph.pageRank(resetProbability=0.15, maxIter = 5)"
   ]
  },
  {
   "cell_type": "code",
   "execution_count": 0,
   "metadata": {
    "application/vnd.databricks.v1+cell": {
     "cellMetadata": {},
     "inputWidgets": {},
     "nuid": "0330191c-a9ec-4d89-846e-15285b3e249f",
     "showTitle": false,
     "title": ""
    }
   },
   "outputs": [],
   "source": [
    "pageRanks.vertices.show()"
   ]
  },
  {
   "cell_type": "markdown",
   "metadata": {
    "application/vnd.databricks.v1+cell": {
     "cellMetadata": {},
     "inputWidgets": {},
     "nuid": "21aee473-493d-40eb-8bc1-2903a608ec57",
     "showTitle": false,
     "title": ""
    }
   },
   "source": [
    "## More graphframes applications"
   ]
  },
  {
   "cell_type": "markdown",
   "metadata": {
    "application/vnd.databricks.v1+cell": {
     "cellMetadata": {},
     "inputWidgets": {},
     "nuid": "d43984a6-1986-43e6-9344-74aad5688c2a",
     "showTitle": false,
     "title": ""
    }
   },
   "source": [
    "Let's look at a slightly more interesting dataset. Look at the code below, you should see we are loading a number of people as vertices, then they can either connect as friends (bi-directional) or one can follow another (uni directional)."
   ]
  },
  {
   "cell_type": "code",
   "execution_count": 0,
   "metadata": {
    "application/vnd.databricks.v1+cell": {
     "cellMetadata": {},
     "inputWidgets": {},
     "nuid": "ab58f5e5-5ae1-4d3d-9343-19a88c59d8f5",
     "showTitle": false,
     "title": ""
    }
   },
   "outputs": [],
   "source": [
    "vertices = spark.createDataFrame([('1', 'Carter', 'Derrick', 50), \n",
    "                                  ('2', 'May', 'Derrick', 26),\n",
    "                                 ('3', 'Mills', 'Jeff', 80),\n",
    "                                  ('4', 'Hood', 'Robert', 65),\n",
    "                                  ('5', 'Banks', 'Mike', 93),\n",
    "                                 ('98', 'Berg', 'Tim', 28),\n",
    "                                 ('99', 'Page', 'Allan', 16)],\n",
    "                                 ['id', 'name', 'firstname', 'age'])\n",
    "                                 \n",
    "edges = spark.createDataFrame([('1', '2', 'friend'), \n",
    "                               ('2', '1', 'friend'),\n",
    "                              ('3', '1', 'friend'),\n",
    "                              ('1', '3', 'friend'),\n",
    "                               ('2', '3', 'follows'),\n",
    "                               ('1', '4', 'follows'),\n",
    "                               ('4', '5', 'follows'),\n",
    "                               ('3', '4', 'friend'),\n",
    "                               ('4', '3', 'friend'),\n",
    "                               ('5', '3', 'friend'),\n",
    "                               ('3', '5', 'friend'),\n",
    "                               ('4', '5', 'follows'),\n",
    "                              ('98', '99', 'friend'),\n",
    "                              ('99', '98', 'friend')],\n",
    "                              ['src', 'dst', 'type'])\n",
    "g = GraphFrame(vertices, edges)\n",
    "## Take a look at the DataFrames\n",
    "g.vertices.show()\n",
    "g.edges.show()\n",
    "## Check the number of edges of each vertex\n",
    "g.degrees.show()"
   ]
  },
  {
   "cell_type": "markdown",
   "metadata": {
    "application/vnd.databricks.v1+cell": {
     "cellMetadata": {},
     "inputWidgets": {},
     "nuid": "abb354b3-c6c9-4673-97b1-4a5b3b748542",
     "showTitle": false,
     "title": ""
    }
   },
   "source": [
    "Undirected graphs have edges that do not have a direction. The edges indicate a two-way relationship, in that each edge can be traversed in both directions. If your DataFrame only consist of two-way directed edges, you may be interested in analyzing undirected edges. You can convert your graph by mapping a function over the edges DataFrame that deletes the row if src ≥ dst (or the other way around). Then each edge is only included once.\n",
    "\n",
    "Start from the dataframe called edges, notice that directional edges are listed [a,b, follows] where a < b (so the lowest number edge is listed first), uniderctional edges are listed twice. Create a new dataframe edgesDirected that only contains edges in one direction but includes both the previously uniderctional friends links and the directional follows links (think about the operations we can perform on dataframes from last week)."
   ]
  },
  {
   "cell_type": "code",
   "execution_count": 0,
   "metadata": {
    "application/vnd.databricks.v1+cell": {
     "cellMetadata": {},
     "inputWidgets": {},
     "nuid": "5bf3a06f-b3bc-4515-b28d-6f4e4f997280",
     "showTitle": false,
     "title": ""
    }
   },
   "outputs": [],
   "source": [
    "edgesUnidirectional = edges.where(edges.src < edges.dst)\n",
    "edgesUnidirectional.show()"
   ]
  },
  {
   "cell_type": "markdown",
   "metadata": {
    "application/vnd.databricks.v1+cell": {
     "cellMetadata": {},
     "inputWidgets": {},
     "nuid": "e1a8952d-eab8-417a-acc8-6db9cb9804a8",
     "showTitle": false,
     "title": ""
    }
   },
   "source": [
    "We can filter edges and vertices directly as well. If we want to work with a GraphFrame with only follows and people over 30 for example we can use a subgraph, for example:"
   ]
  },
  {
   "cell_type": "code",
   "execution_count": 0,
   "metadata": {
    "application/vnd.databricks.v1+cell": {
     "cellMetadata": {},
     "inputWidgets": {},
     "nuid": "e4569a4a-f6ae-4480-8311-46e0c9ae32b1",
     "showTitle": false,
     "title": ""
    }
   },
   "outputs": [],
   "source": [
    "# Code here"
   ]
  },
  {
   "cell_type": "markdown",
   "metadata": {
    "application/vnd.databricks.v1+cell": {
     "cellMetadata": {},
     "inputWidgets": {},
     "nuid": "8e3bdda0-2b81-4d74-a921-5687641f7084",
     "showTitle": false,
     "title": ""
    }
   },
   "source": [
    "<b> Degrees </b> One question we might be interested in is how many inbound and outbound connections each vertices has, we can use the inDegrees and outDegrees functions to calculate this:"
   ]
  },
  {
   "cell_type": "code",
   "execution_count": 0,
   "metadata": {
    "application/vnd.databricks.v1+cell": {
     "cellMetadata": {},
     "inputWidgets": {},
     "nuid": "49f6b681-a2a6-4bae-b660-862aa1c74585",
     "showTitle": false,
     "title": ""
    }
   },
   "outputs": [],
   "source": [
    "g.inDegrees.show()\n",
    "g.outDegrees.show()"
   ]
  },
  {
   "cell_type": "markdown",
   "metadata": {
    "application/vnd.databricks.v1+cell": {
     "cellMetadata": {},
     "inputWidgets": {},
     "nuid": "39e91cd9-0444-4c7b-8e8d-b27150c03a64",
     "showTitle": false,
     "title": ""
    }
   },
   "source": [
    "<b>Connected components</b> A connected component of a graph is a subgraph in which any two vertices are connected to each other by one or more edges, and which is connected to no additional vertices in the supergraph. In the graph below there would be 3 connected component subgraphs:\n",
    "\n",
    "![image](https://www.google.com/imgres?imgurl=https%3A%2F%2Ftutorialspoint.dev%2Fimage%2FSCC.png&imgrefurl=https%3A%2F%2Ftutorialspoint.dev%2Fdata-structure%2Fgraph-data-structure%2Fstrongly-connected-components&tbnid=5e31TFF3uPb4IM&vet=12ahUKEwivjuSxlKX2AhVn_bsIHYNiBlIQMygBegQIARAe..i&docid=WBvcXT3tPVeF_M&w=757&h=424&q=https%3A%2F%2Ftutorialspoint.dev%2Fimage%2Fconnectedcomponents.png&hl=en&ved=2ahUKEwivjuSxlKX2AhVn_bsIHYNiBlIQMygBegQIARAe)\n",
    "\n",
    "\n",
    "\n",
    "Graphframes can compute the connected component membership of each vertex and return a DataFrame with each vertex assigned a component ID. The GraphFrames connected components implementation can take advantage of checkpointing to improve performance. This will take up tp 10 min to run."
   ]
  },
  {
   "cell_type": "code",
   "execution_count": 0,
   "metadata": {
    "application/vnd.databricks.v1+cell": {
     "cellMetadata": {},
     "inputWidgets": {},
     "nuid": "32e7c154-d8da-40fe-b6e9-e315c6f762c5",
     "showTitle": false,
     "title": ""
    }
   },
   "outputs": [],
   "source": [
    "sc.setCheckpointDir(\"/tmp/graphframes-example-connected-components\")\n",
    "g.connectedComponents().show()"
   ]
  },
  {
   "cell_type": "markdown",
   "metadata": {
    "application/vnd.databricks.v1+cell": {
     "cellMetadata": {},
     "inputWidgets": {},
     "nuid": "566a6ef9-8768-4bae-b5ce-a86dad867def",
     "showTitle": false,
     "title": ""
    }
   },
   "source": [
    "What does the result say about how are people connected in our graph? Take a look at who is connected to who in the data and see if you can match a pattern to what is being reported (the component number is not important, only which nodes have the same component).\n",
    "\n",
    "<b> Shortest path </b> Graphframes includes a simple shortest path algorithm, it finds the distance between all nodes and a given set of landmarks.\n",
    "\n",
    "In the example below we will see from each node how many steps does it take to get to a landmark. So for example [5 -> 1, 1 -> 1] would means that to get to vertice named 5 takes 1 edge, to get to a vertice named 1 also takes 1 step."
   ]
  },
  {
   "cell_type": "code",
   "execution_count": 0,
   "metadata": {
    "application/vnd.databricks.v1+cell": {
     "cellMetadata": {},
     "inputWidgets": {},
     "nuid": "75baa30a-f56c-4ac9-ae6e-f355b94545b5",
     "showTitle": false,
     "title": ""
    }
   },
   "outputs": [],
   "source": [
    "g.shortestPaths(landmarks=[\"1\", \"5\"]).show()"
   ]
  },
  {
   "cell_type": "markdown",
   "metadata": {
    "application/vnd.databricks.v1+cell": {
     "cellMetadata": {},
     "inputWidgets": {},
     "nuid": "ae5bd154-2a8c-409e-a6ed-0abf041cfbf9",
     "showTitle": false,
     "title": ""
    }
   },
   "source": [
    "<b>Search</b> Breadth-first search (BFS) is an algorithm for traversing or searching tree or graph data structures. It starts at the tree root (or some arbitrary node of a graph, sometimes referred to as a 'search key'[1]), and explores all of the neighbor nodes at the present depth prior to moving on to the nodes at the next depth level.\n",
    "\n",
    "It uses the opposite strategy as depth-first search, which instead explores the highest-depth nodes first before being forced to backtrack and expand shallower nodes.\n",
    "\n",
    "For more information on these alogrithms: https://en.wikipedia.org/wiki/Breadth-first_search\n",
    "\n",
    "Take a look at the examples below."
   ]
  },
  {
   "cell_type": "code",
   "execution_count": 0,
   "metadata": {
    "application/vnd.databricks.v1+cell": {
     "cellMetadata": {},
     "inputWidgets": {},
     "nuid": "17b90bd3-8295-491b-b370-bccbded8392f",
     "showTitle": false,
     "title": ""
    }
   },
   "outputs": [],
   "source": [
    "g.bfs(fromExpr=\"id='1'\", toExpr = \"id='5'\").show(10,False)"
   ]
  },
  {
   "cell_type": "code",
   "execution_count": 0,
   "metadata": {
    "application/vnd.databricks.v1+cell": {
     "cellMetadata": {},
     "inputWidgets": {},
     "nuid": "472e4c3f-b520-46e0-88ca-e2fc5bdf5fc0",
     "showTitle": false,
     "title": ""
    }
   },
   "outputs": [],
   "source": [
    "# Code here\n",
    "# From Node ID 1, to a non-friend aged at least 65"
   ]
  },
  {
   "cell_type": "markdown",
   "metadata": {
    "application/vnd.databricks.v1+cell": {
     "cellMetadata": {},
     "inputWidgets": {},
     "nuid": "f73b2804-bee6-4523-9e49-a8116dc3577e",
     "showTitle": false,
     "title": ""
    }
   },
   "source": [
    "<b> Motif </b> All networks, including biological networks, social networks, technological networks (e.g., computer networks and electrical circuits) and more, can be represented as graphs, which include a wide variety of subgraphs. One important local property of networks are so-called network motifs, which are defined as recurrent and statistically significant sub-graphs or patterns.\n",
    "\n",
    "Network motifs are sub-graphs that repeat themselves in a specific network or even among various networks. Each of these sub-graphs, defined by a particular pattern of interactions between vertices, may reflect a framework in which particular functions are achieved efficiently. Indeed, motifs are of notable importance largely because they may reflect functional properties. They have recently gathered much attention as a useful concept to uncover structural design principles of complex networks. Although network motifs may provide a deep insight into the network’s functional abilities, their detection is computationally challenging.\n",
    "\n",
    "GraphFrame motif finding uses a simple Domain-Specific Language (DSL) for expressing structural queries. For example, graph.find(\"(a)-[e]->(b); (b)-[e2]->(a)\") will search for pairs of vertices a,b connected by edges in both directions. It will return a DataFrame of all such structures in the graph, with columns for each of the named elements (vertices or edges) in the motif. In this case, the returned columns will be “a, b, e, e2.”\n",
    "\n",
    "DSL for expressing structural patterns:\n",
    "\n",
    "The basic unit of a pattern is an edge. For example, \"(a)-[e]->(b)\" expresses an edge e from vertex a to vertex b. Note that vertices are denoted by parentheses (a), while edges are denoted by square brackets [e].\n",
    "\n",
    "A pattern is expressed as a union of edges. Edge patterns can be joined with semicolons. Motif \"(a)-[e]->(b); (b)-[e2]->(c)\" specifies two edges from a to b to c.\n",
    "\n",
    "Within a pattern, names can be assigned to vertices and edges. For example, \"(a)-[e]->(b)\" has three named elements: vertices a,b and edge e. These names serve two purposes:\n",
    "\n",
    "*  The names can identify common elements among edges. For example, \"(a)-[e]->(b); (b)-[e2]->(c)\" specifies that the same vertex b is the destination of edge e and source of edge e2.\n",
    "\n",
    "*  The names are used as column names in the result DataFrame. If a motif contains named vertex a, then the result DataFrame will contain a column “a” which is a StructType with sub-fields equivalent to the schema (columns) of GraphFrame.vertices. Similarly, an edge e in a motif will produce a column “e” in the result DataFrame with sub-fields equivalent to the schema (columns) of GraphFrame.edges.\n",
    "\n",
    "*  Be aware that names do not identify distinct elements: two elements with different names may refer to the same graph element. For example, in the motif \"(a)-[e]->(b); (b)-[e2]->(c)\", the names a and c could refer to the same vertex. To restrict named elements to be distinct vertices or edges, use post-hoc filters such as resultDataframe.filter(\"a.id != c.id\").\n",
    "\n",
    "It is acceptable to omit names for vertices or edges in motifs when not needed. E.g., \"(a)-[]->(b)\" expresses an edge between vertices a,b but does not assign a name to the edge. There will be no column for the anonymous edge in the result DataFrame. Similarly, \"(a)-[e]->()\" indicates an out-edge of vertex a but does not name the destination vertex. These are called anonymous vertices and edges.\n",
    "\n",
    "An edge can be negated to indicate that the edge should not be present in the graph. E.g., \"(a)-[]->(b); !(b)-[]->(a)\" finds edges from a to b for which there is no edge from b to a.\n",
    "\n",
    "For more information: http://graphframes.github.io/graphframes/docs/_site/user-guide.html#motif-finding\n",
    "\n",
    "A worked example is available here with a few motif patterns applied. They use Scala as opposed to Python but you can ignore the code outside of the patterns they use: http://www.twesdai.com/2017/09/15/motif-analysis-using-apache-spark-graphframes/\n",
    "\n",
    "Let's look at a simple example to try to make how this works clear. Imagine we might want to find all people that have a common friend with person 1, but are not friends with person one. First we find all common friends. Take a look at the find method, we look for where a is connected to b, b connected to c, but a not connected to c. In the next step we filter for results with person 1."
   ]
  },
  {
   "cell_type": "code",
   "execution_count": 0,
   "metadata": {
    "application/vnd.databricks.v1+cell": {
     "cellMetadata": {},
     "inputWidgets": {},
     "nuid": "e8066eb7-4722-4290-8503-9c52669baddb",
     "showTitle": false,
     "title": ""
    }
   },
   "outputs": [],
   "source": [
    "# Code here -> Motif example"
   ]
  },
  {
   "cell_type": "markdown",
   "metadata": {
    "application/vnd.databricks.v1+cell": {
     "cellMetadata": {},
     "inputWidgets": {},
     "nuid": "71f20127-c2b4-40f0-8e5e-d7ea57e913dc",
     "showTitle": false,
     "title": ""
    }
   },
   "source": [
    "## Bonus Exercise: Bikeshare"
   ]
  },
  {
   "cell_type": "markdown",
   "metadata": {
    "application/vnd.databricks.v1+cell": {
     "cellMetadata": {},
     "inputWidgets": {},
     "nuid": "5907e6eb-4cca-4517-b87c-dd701a0452a0",
     "showTitle": false,
     "title": ""
    }
   },
   "source": [
    "Here is your chance to apply what you have learned to some real data. We will be using a bike sharing dataset, but a very different one from last class\n",
    "\n",
    "Here you’re going to be working with publicly available bike data from the Bay Area Bike Share portal, specifically analyzing the 2017 year of data. First we will download the data and read it into spark, we will also rename some of the columns to meet the requirements of graphframes."
   ]
  },
  {
   "cell_type": "code",
   "execution_count": 0,
   "metadata": {
    "application/vnd.databricks.v1+cell": {
     "cellMetadata": {},
     "inputWidgets": {},
     "nuid": "eb528782-59e1-43d7-8f0e-56ea76967074",
     "showTitle": false,
     "title": ""
    }
   },
   "outputs": [],
   "source": [
    "%sh wget https://raw.githubusercontent.com/udacity/data-analyst/master/projects/bike_sharing/201508_trip_data.csv"
   ]
  },
  {
   "cell_type": "code",
   "execution_count": 0,
   "metadata": {
    "application/vnd.databricks.v1+cell": {
     "cellMetadata": {},
     "inputWidgets": {},
     "nuid": "45cfbe56-4296-4dae-831d-aba7ea9d10d5",
     "showTitle": false,
     "title": ""
    }
   },
   "outputs": [],
   "source": [
    "%sh wget https://raw.githubusercontent.com/udacity/data-analyst/master/projects/bike_sharing/201508_station_data.csv"
   ]
  },
  {
   "cell_type": "code",
   "execution_count": 0,
   "metadata": {
    "application/vnd.databricks.v1+cell": {
     "cellMetadata": {},
     "inputWidgets": {},
     "nuid": "294a81ec-4de4-43f4-8eb7-87ae87a213b9",
     "showTitle": false,
     "title": ""
    }
   },
   "outputs": [],
   "source": [
    "tripDF = spark.read.csv('file:/databricks/driver/201508_trip_data.csv',header=True, inferSchema = True)\n",
    "tripDF.printSchema()"
   ]
  },
  {
   "cell_type": "code",
   "execution_count": 0,
   "metadata": {
    "application/vnd.databricks.v1+cell": {
     "cellMetadata": {},
     "inputWidgets": {},
     "nuid": "12e0f690-aa44-4bc7-b032-97fdc271a292",
     "showTitle": false,
     "title": ""
    }
   },
   "outputs": [],
   "source": [
    "stationDF = spark.read.csv('file:/databricks/driver/201508_station_data.csv',header=True, inferSchema = True)\n",
    "stationDF.printSchema()"
   ]
  },
  {
   "cell_type": "code",
   "execution_count": 0,
   "metadata": {
    "application/vnd.databricks.v1+cell": {
     "cellMetadata": {},
     "inputWidgets": {},
     "nuid": "48c8dbb5-875a-414b-80fa-700aff5c9e57",
     "showTitle": false,
     "title": ""
    }
   },
   "outputs": [],
   "source": [
    "stationVertices = stationDF.withColumnRenamed(\"name\", \"id\").distinct()\n",
    "tripEdges = tripDF.withColumnRenamed(\"Start Station\", \"src\").withColumnRenamed(\"End Station\", \"dst\")"
   ]
  },
  {
   "cell_type": "code",
   "execution_count": 0,
   "metadata": {
    "application/vnd.databricks.v1+cell": {
     "cellMetadata": {},
     "inputWidgets": {},
     "nuid": "43829314-2df1-4843-85ee-e4160a1cb052",
     "showTitle": false,
     "title": ""
    }
   },
   "outputs": [],
   "source": [
    "tripEdges.show(10, False)"
   ]
  },
  {
   "cell_type": "code",
   "execution_count": 0,
   "metadata": {
    "application/vnd.databricks.v1+cell": {
     "cellMetadata": {},
     "inputWidgets": {},
     "nuid": "d022fd89-9664-456f-b3fe-85aa56f7b732",
     "showTitle": false,
     "title": ""
    }
   },
   "outputs": [],
   "source": [
    "stationVertices.show(10, False)"
   ]
  },
  {
   "cell_type": "markdown",
   "metadata": {
    "application/vnd.databricks.v1+cell": {
     "cellMetadata": {},
     "inputWidgets": {},
     "nuid": "ff2f80f7-91bd-4943-b8e9-2f405866a4f7",
     "showTitle": false,
     "title": ""
    }
   },
   "source": [
    "Alright you now have the data formatted as you need to perform analysis. Take a look to make sure you understand what the data is. Basically you have bike stations (verticies) and trips between the stations (edges). \n",
    "\n",
    "Hint: in the cell above I used 'False' in the `show()`, this will be useful for you to prevent truncating station names. The highest ranked station should be San Jose Diridon Caltrain Station.\n",
    "\n",
    "#####Create a graphframe and perform a pagerank to find the most import stations (make sure to set the maxIterations to 5)."
   ]
  },
  {
   "cell_type": "code",
   "execution_count": 0,
   "metadata": {
    "application/vnd.databricks.v1+cell": {
     "cellMetadata": {},
     "inputWidgets": {},
     "nuid": "550f6be8-6d9f-4c89-ab2d-67395d47508a",
     "showTitle": false,
     "title": ""
    }
   },
   "outputs": [],
   "source": [
    "# Take the vertices and edges DataFrames and returns a GraphFrames object."
   ]
  },
  {
   "cell_type": "code",
   "execution_count": 0,
   "metadata": {
    "application/vnd.databricks.v1+cell": {
     "cellMetadata": {},
     "inputWidgets": {},
     "nuid": "d8d9212e-9fa1-4465-ab9e-ef1610de5106",
     "showTitle": false,
     "title": ""
    }
   },
   "outputs": [],
   "source": [
    "# Show the edges"
   ]
  },
  {
   "cell_type": "code",
   "execution_count": 0,
   "metadata": {
    "application/vnd.databricks.v1+cell": {
     "cellMetadata": {},
     "inputWidgets": {},
     "nuid": "b9584cdf-03e0-4b4d-95c4-8f4c2445415a",
     "showTitle": false,
     "title": ""
    }
   },
   "outputs": [],
   "source": [
    "# Run the pageRank()"
   ]
  },
  {
   "cell_type": "code",
   "execution_count": 0,
   "metadata": {
    "application/vnd.databricks.v1+cell": {
     "cellMetadata": {},
     "inputWidgets": {},
     "nuid": "b6da7cf0-b5a5-47a4-94e3-de55c7b58794",
     "showTitle": false,
     "title": ""
    }
   },
   "outputs": [],
   "source": [
    "# Show() the vertices, ranked"
   ]
  },
  {
   "cell_type": "markdown",
   "metadata": {
    "application/vnd.databricks.v1+cell": {
     "cellMetadata": {},
     "inputWidgets": {},
     "nuid": "6c7b0e1a-c9aa-4c85-8637-6ad16d18cf88",
     "showTitle": false,
     "title": ""
    }
   },
   "source": [
    "One question is: what are the most common trip paths? You can do this by performing a grouping operator and adding the edge counts together, think of how we used sparkSQL to implement SQL like queries last week. Remember the list of edges is just a dataframe so you can use SQL queries to find a result like this. In case you have forgotten this link has some information on groupBy:\n",
    "\n",
    "https://sparkbyexamples.com/spark/using-groupby-on-dataframe/\n",
    "\n",
    "The most common trip should be:\n",
    "\n",
    "San Francisco Caltrain 2 (330 Townsend)  ->    Townsend at 7th."
   ]
  },
  {
   "cell_type": "code",
   "execution_count": 0,
   "metadata": {
    "application/vnd.databricks.v1+cell": {
     "cellMetadata": {},
     "inputWidgets": {},
     "nuid": "696c562b-32a5-449b-a7d5-f04f412da187",
     "showTitle": false,
     "title": ""
    }
   },
   "outputs": [],
   "source": [
    "# Code here (groupby)"
   ]
  },
  {
   "cell_type": "markdown",
   "metadata": {
    "application/vnd.databricks.v1+cell": {
     "cellMetadata": {},
     "inputWidgets": {},
     "nuid": "94570efb-dbc9-441c-aa5c-f5a38aeba766",
     "showTitle": false,
     "title": ""
    }
   },
   "source": [
    "Create a new graphframe with only unique edges (you can use the dataframe you created above) and check if all stations are connected."
   ]
  },
  {
   "cell_type": "code",
   "execution_count": 0,
   "metadata": {
    "application/vnd.databricks.v1+cell": {
     "cellMetadata": {},
     "inputWidgets": {},
     "nuid": "71426f4a-2994-4208-b12e-7282c893d591",
     "showTitle": false,
     "title": ""
    }
   },
   "outputs": [],
   "source": [
    "# Create a gbsUnique graphframe"
   ]
  },
  {
   "cell_type": "code",
   "execution_count": 0,
   "metadata": {
    "application/vnd.databricks.v1+cell": {
     "cellMetadata": {},
     "inputWidgets": {},
     "nuid": "1eb0b0e9-9cab-42a9-b963-2a63066f2588",
     "showTitle": false,
     "title": ""
    }
   },
   "outputs": [],
   "source": [
    "# Computes the connected component membership of each vertex and returns a graph with each vertex assigned a component ID."
   ]
  },
  {
   "cell_type": "code",
   "execution_count": 0,
   "metadata": {
    "application/vnd.databricks.v1+cell": {
     "cellMetadata": {},
     "inputWidgets": {},
     "nuid": "8dbb95c9-167c-4210-9604-ca90f8827edb",
     "showTitle": false,
     "title": ""
    }
   },
   "outputs": [],
   "source": [
    "# Show the graphframe with component"
   ]
  },
  {
   "cell_type": "code",
   "execution_count": 0,
   "metadata": {
    "application/vnd.databricks.v1+cell": {
     "cellMetadata": {},
     "inputWidgets": {},
     "nuid": "dbea88c3-c18e-40e7-afe5-865afcc82434",
     "showTitle": false,
     "title": ""
    }
   },
   "outputs": [],
   "source": [
    "#It seems a lot of duplicated components. Try to filter where component > 0"
   ]
  },
  {
   "cell_type": "markdown",
   "metadata": {
    "application/vnd.databricks.v1+cell": {
     "cellMetadata": {},
     "inputWidgets": {},
     "nuid": "c22d6647-8e59-4e80-9cca-91bece3f3337",
     "showTitle": false,
     "title": ""
    }
   },
   "source": [
    "Remember that in this instance you’ve got a directed graph. That means that your trips are directional - from one location to another. Therefore you get access to a wealth of analysis that you can use. You can find the number of trips that go into a specific station and leave from a specific station.\n",
    "\n",
    "One interesting question you could ask is what is the station with the highest ratio of in degrees to out degrees. As in, what station acts as a pure trip sink. A station where trips end at but rarely start from. This station will end up with a lot of excess bikes that will need to be re-distributed."
   ]
  },
  {
   "cell_type": "code",
   "execution_count": 0,
   "metadata": {
    "application/vnd.databricks.v1+cell": {
     "cellMetadata": {},
     "inputWidgets": {},
     "nuid": "67e77aaf-5f8b-4579-935d-bf82a26371a6",
     "showTitle": false,
     "title": ""
    }
   },
   "outputs": [],
   "source": [
    "from pyspark.sql.functions import col\n",
    "gbsOut = gbs.outDegrees\n",
    "gbsIn = gbs.inDegrees\n",
    "# Note you may find it easier to use q SQL query here if that is what you are used to\n",
    "gbsJoin = gbsIn.join(gbsOut, [\"id\"])\n",
    "gbsDeg = gbsJoin.withColumn(\"Ratio\", col(\"inDegree\") / col(\"outDegree\"))"
   ]
  },
  {
   "cell_type": "code",
   "execution_count": 0,
   "metadata": {
    "application/vnd.databricks.v1+cell": {
     "cellMetadata": {},
     "inputWidgets": {},
     "nuid": "6f0a2dba-fe76-491c-9c4e-eeb564fb5ad9",
     "showTitle": false,
     "title": ""
    }
   },
   "outputs": [],
   "source": [
    "gbsJoin.printSchema()"
   ]
  },
  {
   "cell_type": "code",
   "execution_count": 0,
   "metadata": {
    "application/vnd.databricks.v1+cell": {
     "cellMetadata": {},
     "inputWidgets": {},
     "nuid": "1d64ee7d-307a-4dec-b3e7-a4c8a0ababdd",
     "showTitle": false,
     "title": ""
    }
   },
   "outputs": [],
   "source": [
    "gbsDeg.orderBy(\"Ratio\",ascending=False).show(10)"
   ]
  },
  {
   "cell_type": "markdown",
   "metadata": {
    "application/vnd.databricks.v1+cell": {
     "cellMetadata": {},
     "inputWidgets": {},
     "nuid": "6fa2589f-236e-483e-8a77-c680bf092afa",
     "showTitle": false,
     "title": ""
    }
   },
   "source": [
    "Consider the station with the highest ratio of intrips to outtrips, find all stations connected by 1 or 2 trips to this station using motifs."
   ]
  },
  {
   "cell_type": "code",
   "execution_count": 0,
   "metadata": {
    "application/vnd.databricks.v1+cell": {
     "cellMetadata": {},
     "inputWidgets": {},
     "nuid": "275f232b-b01a-4cdd-b608-1dd50245509c",
     "showTitle": false,
     "title": ""
    }
   },
   "outputs": [],
   "source": [
    "# Search for pairs of vertices a,b connected by edges in both directions"
   ]
  },
  {
   "cell_type": "code",
   "execution_count": 0,
   "metadata": {
    "application/vnd.databricks.v1+cell": {
     "cellMetadata": {},
     "inputWidgets": {},
     "nuid": "c05c7924-3da3-43eb-952c-3a8f250dad39",
     "showTitle": false,
     "title": ""
    }
   },
   "outputs": [],
   "source": [
    "# Find stations connected by two trips"
   ]
  },
  {
   "cell_type": "code",
   "execution_count": 0,
   "metadata": {
    "application/vnd.databricks.v1+cell": {
     "cellMetadata": {},
     "inputWidgets": {},
     "nuid": "ee2b963e-68d6-450d-b57f-83facf514180",
     "showTitle": false,
     "title": ""
    }
   },
   "outputs": [],
   "source": [
    "#Store the intermediate computation so they can be reused in subsequent actions."
   ]
  },
  {
   "cell_type": "code",
   "execution_count": 0,
   "metadata": {
    "application/vnd.databricks.v1+cell": {
     "cellMetadata": {},
     "inputWidgets": {},
     "nuid": "ab438231-5378-4bfd-85b8-9510e54f7935",
     "showTitle": false,
     "title": ""
    }
   },
   "outputs": [],
   "source": [
    "#Count the number os connections"
   ]
  },
  {
   "cell_type": "code",
   "execution_count": 0,
   "metadata": {
    "application/vnd.databricks.v1+cell": {
     "cellMetadata": {},
     "inputWidgets": {},
     "nuid": "aaa87f2c-3225-41dd-be10-24b3ff9f012b",
     "showTitle": false,
     "title": ""
    }
   },
   "outputs": [],
   "source": [
    "# Find stations connected by one trip"
   ]
  }
 ],
 "metadata": {
  "application/vnd.databricks.v1+notebook": {
   "dashboards": [],
   "language": "python",
   "notebookMetadata": {
    "pythonIndentUnit": 4
   },
   "notebookName": "lab9_bda_class",
   "widgets": {}
  }
 },
 "nbformat": 4,
 "nbformat_minor": 0
}
