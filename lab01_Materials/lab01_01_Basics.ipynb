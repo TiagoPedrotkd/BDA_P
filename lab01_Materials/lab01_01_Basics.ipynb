{
 "cells": [
  {
   "metadata": {},
   "cell_type": "markdown",
   "source": [
    "# Notebook Lab 01: Python Basics\n",
    "## Objective\n",
    "In this exercise, you will learn about fundamental Python concepts:\n",
    "\n",
    " - Variables and data types\n",
    " - Conditional statements\n",
    " - Loops (for and while)\n",
    " - Functions"
   ],
   "id": "d1a471b525ebc712"
  },
  {
   "metadata": {},
   "cell_type": "markdown",
   "source": [
    "### Step 1: Variables and Data Types\n",
    "Run the following code and observe the different data types:"
   ],
   "id": "fe5b712f352fb095"
  },
  {
   "metadata": {
    "ExecuteTime": {
     "end_time": "2025-02-16T16:11:52.082927Z",
     "start_time": "2025-02-16T16:11:52.069499Z"
    }
   },
   "cell_type": "code",
   "source": [
    "# Integer\n",
    "x = 10\n",
    "print(\"Integer:\", x, \"Type:\", type(x))\n",
    "\n",
    "# Float\n",
    "y = 3.14\n",
    "print(\"Float:\", y, \"Type:\", type(y))\n",
    "\n",
    "# String\n",
    "name = \"Python\"\n",
    "print(\"String:\", name, \"Type:\", type(name))\n",
    "\n",
    "# Boolean\n",
    "flag = True\n",
    "print(\"Boolean:\", flag, \"Type:\", type(flag))\n",
    "\n",
    "# List\n",
    "fruits = [\"Apple\", 10, \"Banana\", \"Cherry\"]\n",
    "print(\"List:\", fruits, \"Type:\", type(fruits))\n",
    "\n",
    "# Dictionary\n",
    "person = {\"name\": \"Alice\", \"age\": 25}\n",
    "print(\"Dictionary:\", person, \"Type:\", type(person))\n"
   ],
   "id": "e642912fb909f798",
   "outputs": [
    {
     "name": "stdout",
     "output_type": "stream",
     "text": [
      "Integer: 10 Type: <class 'int'>\n",
      "Float: 3.14 Type: <class 'float'>\n",
      "String: Python Type: <class 'str'>\n",
      "Boolean: True Type: <class 'bool'>\n",
      "List: ['Apple', 10, 'Banana', 'Cherry'] Type: <class 'list'>\n",
      "Dictionary: {'name': 'Alice', 'age': 25} Type: <class 'dict'>\n"
     ]
    }
   ],
   "execution_count": 2
  },
  {
   "metadata": {},
   "cell_type": "markdown",
   "source": [
    "### **<font color='red'>Your Task:</font>**\n",
    "\n",
    "- Create a variable of type string and print its type.\n",
    "- Convert an integer to a float and print the result."
   ],
   "id": "bdb2441702d8488d"
  },
  {
   "metadata": {},
   "cell_type": "markdown",
   "source": [
    "### Step 2: Conditional Statements (if-elif-else)\n",
    "Run this code and modify the value of age to see different outputs:"
   ],
   "id": "4133ed17957b98d"
  },
  {
   "metadata": {
    "ExecuteTime": {
     "end_time": "2025-02-11T22:48:50.440502Z",
     "start_time": "2025-02-11T22:48:50.436004Z"
    }
   },
   "cell_type": "code",
   "source": [
    "age = 20\n",
    "\n",
    "if age < 18:\n",
    "    print(\"You are a minor.\")\n",
    "elif age >= 18 and age < 65:\n",
    "    print(\"You are an adult.\")\n",
    "else:\n",
    "    print(\"You are a senior citizen.\")\n"
   ],
   "id": "3dad0a37145ee2b4",
   "outputs": [
    {
     "name": "stdout",
     "output_type": "stream",
     "text": [
      "You are an adult.\n"
     ]
    }
   ],
   "execution_count": 2
  },
  {
   "metadata": {},
   "cell_type": "markdown",
   "source": [
    "### **<font color='red'>Your Task:</font>**\n",
    "\n",
    "- Modify the code to check if age is exactly 18 and print \"You just became an adult!\".\n",
    "- Create a different program that checks if a number is even or odd."
   ],
   "id": "55ef6acc48a221b0"
  },
  {
   "metadata": {},
   "cell_type": "markdown",
   "source": [
    "### Step 3: Loops (for and while)\n",
    "Run this loop to iterate through a list:"
   ],
   "id": "77df3600bdf70840"
  },
  {
   "metadata": {
    "ExecuteTime": {
     "end_time": "2025-02-11T22:50:24.199068Z",
     "start_time": "2025-02-11T22:50:24.195772Z"
    }
   },
   "cell_type": "code",
   "source": [
    "fruits = [\"Apple\", \"Banana\", \"Cherry\"]\n",
    "\n",
    "for fruit in fruits:\n",
    "    print(\"I like\", fruit)\n"
   ],
   "id": "a952603de33c1396",
   "outputs": [
    {
     "name": "stdout",
     "output_type": "stream",
     "text": [
      "I like Apple\n",
      "I like Banana\n",
      "I like Cherry\n"
     ]
    }
   ],
   "execution_count": 3
  },
  {
   "metadata": {},
   "cell_type": "markdown",
   "source": "Run this while loop to count numbers:",
   "id": "6be930efbc24e969"
  },
  {
   "metadata": {
    "ExecuteTime": {
     "end_time": "2025-02-11T22:51:11.589083Z",
     "start_time": "2025-02-11T22:51:11.585968Z"
    }
   },
   "cell_type": "code",
   "source": [
    "count = 1\n",
    "\n",
    "while count <= 5:\n",
    "    print(\"Count:\", count)\n",
    "    count += 1\n"
   ],
   "id": "fd3847252141e4ca",
   "outputs": [
    {
     "name": "stdout",
     "output_type": "stream",
     "text": [
      "Count: 1\n",
      "Count: 2\n",
      "Count: 3\n",
      "Count: 4\n",
      "Count: 5\n"
     ]
    }
   ],
   "execution_count": 4
  },
  {
   "metadata": {},
   "cell_type": "markdown",
   "source": [
    "### **<font color='red'>Your Task:</font>**\n",
    "\n",
    "- Write a for loop that prints numbers from 1 to 10.\n",
    "- Write a while loop that prints \"Python is fun!\" 5 times."
   ],
   "id": "d0e9d0580e42d8c8"
  },
  {
   "metadata": {},
   "cell_type": "markdown",
   "source": [
    "### Step 4: Functions\n",
    "Run this function and modify its arguments:"
   ],
   "id": "2e74e9ff4d2e0f8e"
  },
  {
   "metadata": {
    "ExecuteTime": {
     "end_time": "2025-02-11T22:53:00.953519Z",
     "start_time": "2025-02-11T22:53:00.950346Z"
    }
   },
   "cell_type": "code",
   "source": [
    "def greet(name):\n",
    "    return \"Hello, \" + name + \"!\"\n",
    "\n",
    "print(greet(\"Alice\"))\n"
   ],
   "id": "e07a4b6599b1d4de",
   "outputs": [
    {
     "name": "stdout",
     "output_type": "stream",
     "text": [
      "Hello, Alice!\n"
     ]
    }
   ],
   "execution_count": 5
  },
  {
   "metadata": {},
   "cell_type": "markdown",
   "source": [
    "### **<font color='red'>Your Task:</font>**\n",
    "\n",
    "- Modify the function to include a special value (name=\"Marcia\").\n",
    "- Write a function that takes two numbers as input and returns their sum."
   ],
   "id": "5bcbf7259902b107"
  },
  {
   "metadata": {},
   "cell_type": "markdown",
   "source": [
    "### Step 5: Final Task\n",
    "Create a simple Python program that:\n",
    "\n",
    " - Asks the user for their name and age.\n",
    " - Prints a greeting message.\n",
    " - Uses a conditional statement to check if they are eligible to vote (age ≥ 18).\n",
    "\n",
    "Enter your name: Alice\n",
    "\n",
    "Enter your age: 20\n",
    "\n",
    "Hello, Alice! You are eligible to vote.\n",
    "\n",
    "Hint: Use input() to get user input and int() to convert it.\n",
    "\n"
   ],
   "id": "a43dbc341389004b"
  }
 ],
 "metadata": {
  "kernelspec": {
   "display_name": "Python 3",
   "language": "python",
   "name": "python3"
  },
  "language_info": {
   "codemirror_mode": {
    "name": "ipython",
    "version": 2
   },
   "file_extension": ".py",
   "mimetype": "text/x-python",
   "name": "python",
   "nbconvert_exporter": "python",
   "pygments_lexer": "ipython2",
   "version": "2.7.6"
  }
 },
 "nbformat": 4,
 "nbformat_minor": 5
}
