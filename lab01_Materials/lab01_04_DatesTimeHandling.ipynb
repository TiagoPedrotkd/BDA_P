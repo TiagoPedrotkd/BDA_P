{
 "cells": [
  {
   "metadata": {},
   "cell_type": "markdown",
   "source": [
    "# Notebook Lab 01: Date and Time Handling in Python\n",
    "## Objective\n",
    "By the end of this exercise, you will:\n",
    "\n",
    "- Learn how to use the datetime module.\n",
    "- Work with different date and time formats.\n",
    "- Perform date arithmetic and formatting.\n",
    "- Handle time zones."
   ],
   "id": "d1a471b525ebc712"
  },
  {
   "metadata": {},
   "cell_type": "markdown",
   "source": [
    "### Step 1: Getting the Current Date and Time\n",
    "Run the following code to get the current date and time:"
   ],
   "id": "fe5b712f352fb095"
  },
  {
   "metadata": {
    "ExecuteTime": {
     "end_time": "2025-02-11T23:10:05.893118Z",
     "start_time": "2025-02-11T23:10:05.888377Z"
    }
   },
   "cell_type": "code",
   "source": [
    "from datetime import datetime\n",
    "\n",
    "# Get current date and time\n",
    "now = datetime.now()\n",
    "print(\"Current Date and Time:\", now)\n",
    "\n",
    "# Extracting specific parts\n",
    "print(\"Year:\", now.year)\n",
    "print(\"Month:\", now.month)\n",
    "print(\"Day:\", now.day)\n",
    "print(\"Hour:\", now.hour)\n",
    "print(\"Minute:\", now.minute)\n",
    "print(\"Second:\", now.second)\n"
   ],
   "id": "e642912fb909f798",
   "outputs": [
    {
     "name": "stdout",
     "output_type": "stream",
     "text": [
      "Current Date and Time: 2025-02-11 23:10:05.891042\n",
      "Year: 2025\n",
      "Month: 2\n",
      "Day: 11\n",
      "Hour: 23\n",
      "Minute: 10\n",
      "Second: 5\n"
     ]
    }
   ],
   "execution_count": 1
  },
  {
   "metadata": {},
   "cell_type": "markdown",
   "source": [
    "### **<font color='red'>Your Task:</font>**\n",
    "\n",
    "- Print the current day of the week.\n",
    "- Print the current timestamp (number of seconds since 1970)."
   ],
   "id": "47f4fb005ef1bed3"
  },
  {
   "metadata": {},
   "cell_type": "markdown",
   "source": [
    "### Step 2: Formatting Dates\n",
    "Run this to see different date formats:"
   ],
   "id": "4133ed17957b98d"
  },
  {
   "metadata": {
    "ExecuteTime": {
     "end_time": "2025-02-11T23:10:59.153595Z",
     "start_time": "2025-02-11T23:10:59.149677Z"
    }
   },
   "cell_type": "code",
   "source": [
    "# Formatting a date\n",
    "formatted_date = now.strftime(\"%Y-%m-%d %H:%M:%S\")\n",
    "print(\"Formatted Date:\", formatted_date)\n",
    "\n",
    "# Other formats\n",
    "print(\"DD/MM/YYYY format:\", now.strftime(\"%d/%m/%Y\"))\n",
    "print(\"Full Month Name:\", now.strftime(\"%B\"))\n",
    "print(\"Weekday Name:\", now.strftime(\"%A\"))"
   ],
   "id": "3dad0a37145ee2b4",
   "outputs": [
    {
     "name": "stdout",
     "output_type": "stream",
     "text": [
      "Formatted Date: 2025-02-11 23:10:05\n",
      "DD/MM/YYYY format: 11/02/2025\n",
      "Full Month Name: February\n",
      "Weekday Name: Tuesday\n"
     ]
    }
   ],
   "execution_count": 2
  },
  {
   "metadata": {},
   "cell_type": "markdown",
   "source": [
    "### **<font color='red'>Your Task:</font>**\n",
    "\n",
    "- Display the current date in \"Month-Day-Year\" format.\n",
    "- Show the weekday number (Monday = 0, Sunday = 6)."
   ],
   "id": "55ef6acc48a221b0"
  },
  {
   "metadata": {},
   "cell_type": "markdown",
   "source": [
    "### Step 3: Converting Strings to Dates\n",
    "You can convert a string into a datetime object:"
   ],
   "id": "77df3600bdf70840"
  },
  {
   "metadata": {
    "ExecuteTime": {
     "end_time": "2025-02-11T23:12:01.227327Z",
     "start_time": "2025-02-11T23:12:01.223570Z"
    }
   },
   "cell_type": "code",
   "source": [
    "date_string = \"2025-02-11 14:30:00\"\n",
    "date_obj = datetime.strptime(date_string, \"%Y-%m-%d %H:%M:%S\")\n",
    "print(\"Converted Date:\", date_obj)\n"
   ],
   "id": "a952603de33c1396",
   "outputs": [
    {
     "name": "stdout",
     "output_type": "stream",
     "text": [
      "Converted Date: 2025-02-11 14:30:00\n"
     ]
    }
   ],
   "execution_count": 3
  },
  {
   "metadata": {},
   "cell_type": "markdown",
   "source": [
    "### **<font color='red'>Your Task:</font>**\n",
    "\n",
    "- Convert \"15/08/2023\" into a datetime object (use \"%d/%m/%Y\").\n",
    "- Convert \"April 20, 2024\" into a datetime object."
   ],
   "id": "d0e9d0580e42d8c8"
  },
  {
   "metadata": {},
   "cell_type": "markdown",
   "source": [
    "### Step 4: Date Arithmetic\n",
    "Run this code to perform date calculations:"
   ],
   "id": "2e74e9ff4d2e0f8e"
  },
  {
   "metadata": {
    "ExecuteTime": {
     "end_time": "2025-02-11T23:12:49.980348Z",
     "start_time": "2025-02-11T23:12:49.976493Z"
    }
   },
   "cell_type": "code",
   "source": [
    "from datetime import timedelta\n",
    "\n",
    "# Add 5 days to the current date\n",
    "future_date = now + timedelta(days=5)\n",
    "print(\"Date after 5 days:\", future_date)\n",
    "\n",
    "# Subtract 7 days\n",
    "past_date = now - timedelta(days=7)\n",
    "print(\"Date 7 days ago:\", past_date)"
   ],
   "id": "e07a4b6599b1d4de",
   "outputs": [
    {
     "name": "stdout",
     "output_type": "stream",
     "text": [
      "Date after 5 days: 2025-02-16 23:10:05.891042\n",
      "Date 7 days ago: 2025-02-04 23:10:05.891042\n"
     ]
    }
   ],
   "execution_count": 4
  },
  {
   "metadata": {},
   "cell_type": "markdown",
   "source": [
    "### **<font color='red'>Your Task:</font>**\n",
    "\n",
    "- Calculate the date 10 weeks from today.\n",
    "- Find out what day of the week it will be 100 days from today."
   ],
   "id": "5bcbf7259902b107"
  },
  {
   "metadata": {},
   "cell_type": "markdown",
   "source": [
    "### Step 5: Time Zones\n",
    "Use the pytz library for time zone conversion:"
   ],
   "id": "73939ce7aa3c3f8a"
  },
  {
   "metadata": {
    "ExecuteTime": {
     "end_time": "2025-02-11T23:14:53.991808Z",
     "start_time": "2025-02-11T23:14:53.987947Z"
    }
   },
   "cell_type": "code",
   "source": [
    "import pytz\n",
    "\n",
    "# Get UTC time\n",
    "utc_now = datetime.now(pytz.timezone('UTC'))\n",
    "print(\"Current UTC Time:\", utc_now)\n",
    "\n",
    "# Convert to a specific time zone\n",
    "new_york_tz = pytz.timezone(\"America/New_York\")\n",
    "ny_time = utc_now.astimezone(new_york_tz)\n",
    "print(\"Time in New York:\", ny_time)"
   ],
   "id": "a33ddd20a59e7212",
   "outputs": [
    {
     "name": "stdout",
     "output_type": "stream",
     "text": [
      "Current UTC Time: 2025-02-11 23:14:53.989746+00:00\n",
      "Time in New York: 2025-02-11 18:14:53.989746-05:00\n"
     ]
    }
   ],
   "execution_count": 7
  },
  {
   "metadata": {},
   "cell_type": "markdown",
   "source": [
    "### **<font color='red'>Your Task:</font>**\n",
    "- Display the current time in London (Europe/London).\n",
    "- Convert a given UTC time \"2025-03-10 12:00:00\" to Tokyo time (Asia/Tokyo)."
   ],
   "id": "69f72594ef31f380"
  },
  {
   "metadata": {},
   "cell_type": "markdown",
   "source": [
    "### Final Task\n",
    "Write a Python program that:\n",
    "\n",
    "- Asks the user for their birthdate (format: YYYY-MM-DD).\n",
    "- Calculates their age in years.\n",
    "- Displays the day of the week they were born on.\n",
    "- Prints how many days until their next birthday.\n",
    "- **Hint**: Use input(), datetime.strptime(), and timedelta().\n",
    "\n",
    "Example Output:\n",
    "- Enter your birthdate (YYYY-MM-DD): 1998-05-12\n",
    "- You were born on a Tuesday.\n",
    "- You are 26 years old.\n",
    "- Your next birthday is in 90 days.\n",
    "\n"
   ],
   "id": "a43dbc341389004b"
  },
  {
   "metadata": {},
   "cell_type": "code",
   "outputs": [],
   "execution_count": null,
   "source": "",
   "id": "84cc2505b2d26ec"
  }
 ],
 "metadata": {
  "kernelspec": {
   "display_name": "Python 3",
   "language": "python",
   "name": "python3"
  },
  "language_info": {
   "codemirror_mode": {
    "name": "ipython",
    "version": 2
   },
   "file_extension": ".py",
   "mimetype": "text/x-python",
   "name": "python",
   "nbconvert_exporter": "python",
   "pygments_lexer": "ipython2",
   "version": "2.7.6"
  }
 },
 "nbformat": 4,
 "nbformat_minor": 5
}
