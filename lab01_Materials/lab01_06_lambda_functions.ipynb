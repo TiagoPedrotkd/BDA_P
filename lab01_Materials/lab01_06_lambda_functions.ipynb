{
 "cells": [
  {
   "cell_type": "markdown",
   "id": "b907c663",
   "metadata": {},
   "source": [
    "# Lambda Functions in Python\n",
    "\n",
    "Lambda functions, also known as anonymous functions, are small, single-expression functions that don't require a `def` statement. They are useful for short, simple operations.\n",
    "\n",
    "### Syntax:\n",
    "```python\n",
    "lambda arguments: expression\n",
    "```\n",
    "\n",
    "### Examples:\n",
    "```python\n",
    "# Simple addition using lambda\n",
    "add = lambda x, y: x + y\n",
    "print(add(5, 3))  # Output: 8\n",
    "```\n"
   ]
  },
  {
   "cell_type": "code",
   "execution_count": null,
   "id": "697fe178",
   "metadata": {},
   "outputs": [],
   "source": [
    "# Example 1: A simple lambda function\n",
    "add = lambda x, y: x + y\n",
    "print(\"Addition:\", add(5, 3))  # Output: 8\n"
   ]
  },
  {
   "cell_type": "code",
   "id": "4df6c387",
   "metadata": {
    "ExecuteTime": {
     "end_time": "2025-02-16T17:10:31.651511Z",
     "start_time": "2025-02-16T17:10:31.627448Z"
    }
   },
   "source": [
    "# Example 2: Using lambda with map()\n",
    "numbers = [1, 2, 3, 4, 5]\n",
    "squared_numbers = list(map(lambda x: x ** 2, numbers))\n",
    "print(\"Squared Numbers:\", squared_numbers)  # Output: [1, 4, 9, 16, 25]\n"
   ],
   "outputs": [
    {
     "name": "stdout",
     "output_type": "stream",
     "text": [
      "Squared Numbers: [1, 4, 9, 16, 25]\n"
     ]
    }
   ],
   "execution_count": 1
  },
  {
   "cell_type": "code",
   "id": "59200792",
   "metadata": {
    "ExecuteTime": {
     "end_time": "2025-02-16T17:10:55.835431Z",
     "start_time": "2025-02-16T17:10:55.819436Z"
    }
   },
   "source": [
    "# Example 3: Using lambda with filter()\n",
    "even_numbers = list(filter(lambda x: x % 2 == 0, numbers))\n",
    "print(\"Even Numbers:\", even_numbers)  # Output: [2, 4]\n"
   ],
   "outputs": [
    {
     "name": "stdout",
     "output_type": "stream",
     "text": [
      "Even Numbers: [2, 4]\n"
     ]
    }
   ],
   "execution_count": 2
  }
 ],
 "metadata": {
  "kernelspec": {
   "name": "python3",
   "language": "python",
   "display_name": "Python 3 (ipykernel)"
  }
 },
 "nbformat": 4,
 "nbformat_minor": 5
}
