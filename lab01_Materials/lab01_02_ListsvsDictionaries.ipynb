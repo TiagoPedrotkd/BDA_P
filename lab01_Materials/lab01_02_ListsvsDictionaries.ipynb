{
 "cells": [
  {
   "metadata": {},
   "cell_type": "markdown",
   "source": [
    "# Notebook Lab 01: Lists vs Dictionaries\n",
    "## Understanding the Difference Between Lists and Dictionaries\n",
    "### Objective\n",
    "In this exercise, you will explore how lists and dictionaries work in Python. You will:\n",
    "\n",
    "- Create a list and a dictionary.\n",
    "- Compare how data is accessed in each.\n",
    "- Perform operations to understand their differences."
   ],
   "id": "d1a471b525ebc712"
  },
  {
   "metadata": {},
   "cell_type": "markdown",
   "source": [
    "## Step 1: Creating a List and a Dictionary\n",
    "Run the following code in a Jupyter Notebook to create a list and a dictionary:"
   ],
   "id": "fbcf528dc44267d9"
  },
  {
   "metadata": {
    "ExecuteTime": {
     "end_time": "2025-02-11T22:26:53.542807Z",
     "start_time": "2025-02-11T22:26:53.538565Z"
    }
   },
   "cell_type": "code",
   "source": [
    "# Creating a list of oceanic elements\n",
    "ocean_list = [\"Whale\", \"Shark\", \"Dolphin\", \"Octopus\"]\n",
    "\n",
    "# Creating a dictionary with oceanic elements and their characteristics\n",
    "ocean_dict = {\n",
    "    \"Whale\": \"Mammal, large, breathes air\",\n",
    "    \"Shark\": \"Fish, has sharp teeth, fast swimmer\",\n",
    "    \"Dolphin\": \"Mammal, intelligent, friendly\",\n",
    "    \"Octopus\": \"Mollusk, has eight arms, can camouflage\"\n",
    "}\n",
    "\n",
    "# Display both structures\n",
    "print(\"List Example:\", ocean_list)\n",
    "print(\"Dictionary Example:\", ocean_dict)"
   ],
   "id": "ffa323440934b33b",
   "outputs": [
    {
     "name": "stdout",
     "output_type": "stream",
     "text": [
      "List Example: ['Whale', 'Shark', 'Dolphin', 'Octopus']\n",
      "Dictionary Example: {'Whale': 'Mammal, large, breathes air', 'Shark': 'Fish, has sharp teeth, fast swimmer', 'Dolphin': 'Mammal, intelligent, friendly', 'Octopus': 'Mollusk, has eight arms, can camouflage'}\n"
     ]
    }
   ],
   "execution_count": 19
  },
  {
   "metadata": {},
   "cell_type": "markdown",
   "source": [
    "### Step 2: Accessing Elements\n",
    "Run the following code and observe how list and dictionary elements are accessed."
   ],
   "id": "fe5b712f352fb095"
  },
  {
   "metadata": {
    "ExecuteTime": {
     "end_time": "2025-02-11T22:28:55.242009Z",
     "start_time": "2025-02-11T22:28:55.238412Z"
    }
   },
   "cell_type": "code",
   "source": [
    "# Accessing elements in a list (by index)\n",
    "print(\"First element in the list:\", ocean_list[0])\n",
    "\n",
    "# Accessing elements in a dictionary (by key)\n",
    "print(\"Information about Shark:\", ocean_dict[\"Shark\"])"
   ],
   "id": "e642912fb909f798",
   "outputs": [
    {
     "name": "stdout",
     "output_type": "stream",
     "text": [
      "First element in the list: Whale\n",
      "Information about Shark: Fish, has sharp teeth, fast swimmer\n"
     ]
    }
   ],
   "execution_count": 20
  },
  {
   "metadata": {},
   "cell_type": "markdown",
   "source": [
    "#### **<font color='red'>Question:</font>** How to access the last element in a list?\n",
    "#### **<font color='red'>Question:</font>** What happens if you try to access an element in a list using a key instead of an index?\n"
   ],
   "id": "52a2e3a6beced66e"
  },
  {
   "metadata": {},
   "cell_type": "markdown",
   "source": [
    "### Step 3: Modifying Elements\n",
    "Modify elements in both structures (list and dictionary)\n"
   ],
   "id": "eccfa285f176f515"
  },
  {
   "metadata": {
    "ExecuteTime": {
     "end_time": "2025-02-11T22:36:59.360252Z",
     "start_time": "2025-02-11T22:36:59.356992Z"
    }
   },
   "cell_type": "code",
   "source": [
    "# Modifying a list element\n",
    "ocean_list[1] = \"Jellyfish\"\n",
    "print(\"Updated List:\", ocean_list)\n",
    "\n",
    "# Modifying a dictionary value\n",
    "ocean_dict[\"Shark\"] = \"Fish, dangerous predator\"\n",
    "print(\"Updated Dictionary:\", ocean_dict)"
   ],
   "id": "41381a62abe6f606",
   "outputs": [
    {
     "name": "stdout",
     "output_type": "stream",
     "text": [
      "Updated List: ['Whale', 'Jellyfish', 'Dolphin', 'Octopus']\n",
      "Updated Dictionary: {'Whale': 'Mammal, large, breathes air', 'Shark': 'Fish, dangerous predator', 'Dolphin': 'Mammal, intelligent, friendly', 'Octopus': 'Mollusk, has eight arms, can camouflage'}\n"
     ]
    }
   ],
   "execution_count": 21
  },
  {
   "metadata": {},
   "cell_type": "markdown",
   "source": "#### **<font color='red'>Question:</font>** What if you add a new item to the dictionary but not in a specific order? How does it behave differently from a list?",
   "id": "c18e7c5e1dc6262f"
  },
  {
   "metadata": {},
   "cell_type": "markdown",
   "source": [
    "### Step 4: Adding and Removing Elements\n",
    "Try adding and removing elements:"
   ],
   "id": "27b25e0a12a57c4f"
  },
  {
   "metadata": {},
   "cell_type": "code",
   "outputs": [],
   "execution_count": null,
   "source": [
    "# Adding to a list\n",
    "ocean_list.append(\"Sea Turtle\")\n",
    "print(\"List after adding an element:\", ocean_list)\n",
    "\n",
    "# Adding to a dictionary\n",
    "ocean_dict[\"Sea Turtle\"] = \"Reptile, slow swimmer\"\n",
    "print(\"Dictionary after adding an element:\", ocean_dict)\n",
    "\n",
    "# Removing from a list\n",
    "ocean_list.remove(\"Dolphin\")\n",
    "print(\"List after removing an element:\", ocean_list)\n",
    "\n",
    "# Removing from a dictionary\n",
    "del ocean_dict[\"Dolphin\"]\n",
    "print(\"Dictionary after removing an element:\", ocean_dict)"
   ],
   "id": "7f09ddd12d46690a"
  },
  {
   "metadata": {},
   "cell_type": "markdown",
   "source": "#### **<font color='red'>Question:</font>** What happens if you try to remove a dictionary key that doesn’t exist?",
   "id": "fd2a3e9fca55bd0"
  },
  {
   "metadata": {},
   "cell_type": "markdown",
   "source": [
    "### Your Programming Task:\n",
    "Create your own list and dictionary with different types of elements (e.g., fruits, cities, sports).\n",
    "Perform the following operations:\n",
    "- Access elements\n",
    "- Modify elements\n",
    "- Add and remove elements\n",
    "- Try to retrieve a non-existent key from the dictionary (handle the error properly)\n",
    "\n",
    "Write a short conclusion on how lists and dictionaries differ.\n",
    "Use a markdown cell in Jupyter Notebook to explain your observations!"
   ],
   "id": "c8a4c2eea32a2c79"
  }
 ],
 "metadata": {
  "kernelspec": {
   "display_name": "Python 3",
   "language": "python",
   "name": "python3"
  },
  "language_info": {
   "codemirror_mode": {
    "name": "ipython",
    "version": 2
   },
   "file_extension": ".py",
   "mimetype": "text/x-python",
   "name": "python",
   "nbconvert_exporter": "python",
   "pygments_lexer": "ipython2",
   "version": "2.7.6"
  }
 },
 "nbformat": 4,
 "nbformat_minor": 5
}
