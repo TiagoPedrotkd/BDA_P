{
 "cells": [
  {
   "metadata": {},
   "cell_type": "markdown",
   "source": [
    "# Notebook Lab 01: Numpy Basics\n",
    "## Objective\n",
    "By the end of this exercise, you will:\n",
    "\n",
    "- Understand NumPy arrays and their advantages over lists.\n",
    "- Perform basic operations on arrays.\n",
    "- Use indexing, slicing, and reshaping.\n",
    "- Perform mathematical operations and aggregations."
   ],
   "id": "d1a471b525ebc712"
  },
  {
   "metadata": {},
   "cell_type": "markdown",
   "source": [
    "### Step 1: Importing NumPy and Creating Arrays\n",
    "Run the following code to create NumPy arrays:"
   ],
   "id": "fe5b712f352fb095"
  },
  {
   "metadata": {
    "ExecuteTime": {
     "end_time": "2025-02-11T23:20:02.120074Z",
     "start_time": "2025-02-11T23:20:01.627678Z"
    }
   },
   "cell_type": "code",
   "source": [
    "import numpy as np\n",
    "\n",
    "# Creating a 1D NumPy array\n",
    "arr1 = np.array([1, 2, 3, 4, 5])\n",
    "print(\"1D Array:\", arr1)\n",
    "\n",
    "# Creating a 2D NumPy array\n",
    "arr2 = np.array([[1, 2, 3], [4, 5, 6]])\n",
    "print(\"2D Array:\\n\", arr2)\n",
    "\n",
    "# Checking array type\n",
    "print(\"Type:\", type(arr1))\n",
    "print(\"Shape of arr2:\", arr2.shape)\n",
    "print(\"Data Type of arr1:\", arr1.dtype)\n",
    "\n"
   ],
   "id": "e642912fb909f798",
   "outputs": [
    {
     "name": "stdout",
     "output_type": "stream",
     "text": [
      "1D Array: [1 2 3 4 5]\n",
      "2D Array:\n",
      " [[1 2 3]\n",
      " [4 5 6]]\n",
      "Type: <class 'numpy.ndarray'>\n",
      "Shape of arr2: (2, 3)\n",
      "Data Type of arr1: int64\n"
     ]
    }
   ],
   "execution_count": 1
  },
  {
   "metadata": {},
   "cell_type": "markdown",
   "source": [
    "### **<font color='red'>Your Task:</font>**\n",
    "\n",
    "- Create a 3×3 matrix with numbers from 1 to 9.\n",
    "- Create an array of zeros with shape (2, 4)."
   ],
   "id": "47f4fb005ef1bed3"
  },
  {
   "metadata": {},
   "cell_type": "markdown",
   "source": [
    "### Step 2: NumPy Array Operations\n",
    "Perform arithmetic operations on arrays:"
   ],
   "id": "4133ed17957b98d"
  },
  {
   "metadata": {
    "ExecuteTime": {
     "end_time": "2025-02-11T23:20:46.407437Z",
     "start_time": "2025-02-11T23:20:46.403486Z"
    }
   },
   "cell_type": "code",
   "source": [
    "# Formatting a date\n",
    "arr = np.array([10, 20, 30, 40])\n",
    "\n",
    "# Arithmetic operations\n",
    "print(\"Array + 5:\", arr + 5)\n",
    "print(\"Array * 2:\", arr * 2)\n",
    "print(\"Array Squared:\", arr ** 2)\n",
    "\n",
    "# Element-wise addition\n",
    "arr2 = np.array([1, 2, 3, 4])\n",
    "print(\"Element-wise Addition:\", arr + arr2)"
   ],
   "id": "3dad0a37145ee2b4",
   "outputs": [
    {
     "name": "stdout",
     "output_type": "stream",
     "text": [
      "Array + 5: [15 25 35 45]\n",
      "Array * 2: [20 40 60 80]\n",
      "Array Squared: [ 100  400  900 1600]\n",
      "Element-wise Addition: [11 22 33 44]\n"
     ]
    }
   ],
   "execution_count": 2
  },
  {
   "metadata": {},
   "cell_type": "markdown",
   "source": [
    "### **<font color='red'>Your Task:</font>**\n",
    "\n",
    "- Create two 1D arrays of length 5 and perform element-wise multiplication.\n",
    "- Subtract a scalar value from a NumPy array."
   ],
   "id": "55ef6acc48a221b0"
  },
  {
   "metadata": {},
   "cell_type": "markdown",
   "source": [
    "### Step 3: Indexing and Slicing\n",
    "Run the code below and observe the results:"
   ],
   "id": "77df3600bdf70840"
  },
  {
   "metadata": {
    "ExecuteTime": {
     "end_time": "2025-02-11T23:12:01.227327Z",
     "start_time": "2025-02-11T23:12:01.223570Z"
    }
   },
   "cell_type": "code",
   "source": [
    "arr = np.array([10, 20, 30, 40, 50])\n",
    "\n",
    "# Accessing elements\n",
    "print(\"First element:\", arr[0])\n",
    "print(\"Last element:\", arr[-1])\n",
    "\n",
    "# Slicing\n",
    "print(\"First three elements:\", arr[:3])\n",
    "print(\"Elements from index 2 onwards:\", arr[2:])\n"
   ],
   "id": "a952603de33c1396",
   "outputs": [
    {
     "name": "stdout",
     "output_type": "stream",
     "text": [
      "Converted Date: 2025-02-11 14:30:00\n"
     ]
    }
   ],
   "execution_count": 3
  },
  {
   "metadata": {},
   "cell_type": "markdown",
   "source": "For 2D arrays:",
   "id": "3ffc56362ca38eaa"
  },
  {
   "metadata": {},
   "cell_type": "code",
   "outputs": [],
   "execution_count": null,
   "source": [
    "matrix = np.array([[10, 20, 30], [40, 50, 60], [70, 80, 90]])\n",
    "\n",
    "# Accessing elements\n",
    "print(\"Element at (1,1):\", matrix[1,1])\n",
    "\n",
    "# Slicing\n",
    "print(\"First row:\", matrix[0])\n",
    "print(\"Last two columns:\\n\", matrix[:, 1:])"
   ],
   "id": "ff32a18da73ea6f2"
  },
  {
   "metadata": {},
   "cell_type": "markdown",
   "source": [
    "### **<font color='red'>Your Task:</font>**\n",
    "\n",
    "- Extract the first two rows of a 3×3 matrix.\n",
    "- Extract all elements in the second column."
   ],
   "id": "d0e9d0580e42d8c8"
  },
  {
   "metadata": {},
   "cell_type": "markdown",
   "source": [
    "### Step 4: Reshaping and Transposing\n",
    "Reshape and manipulate array dimensions:"
   ],
   "id": "2e74e9ff4d2e0f8e"
  },
  {
   "metadata": {
    "ExecuteTime": {
     "end_time": "2025-02-11T23:22:51.297672Z",
     "start_time": "2025-02-11T23:22:51.293667Z"
    }
   },
   "cell_type": "code",
   "source": [
    "arr = np.arange(1, 13)  # Creates an array from 1 to 12\n",
    "print(\"Original Array:\", arr)\n",
    "\n",
    "# Reshaping into a 3×4 matrix\n",
    "reshaped_arr = arr.reshape(3, 4)\n",
    "print(\"Reshaped Array:\\n\", reshaped_arr)\n",
    "\n",
    "# Transposing\n",
    "transposed = reshaped_arr.T\n",
    "print(\"Transposed Array:\\n\", transposed)"
   ],
   "id": "e07a4b6599b1d4de",
   "outputs": [
    {
     "name": "stdout",
     "output_type": "stream",
     "text": [
      "Original Array: [ 1  2  3  4  5  6  7  8  9 10 11 12]\n",
      "Reshaped Array:\n",
      " [[ 1  2  3  4]\n",
      " [ 5  6  7  8]\n",
      " [ 9 10 11 12]]\n",
      "Transposed Array:\n",
      " [[ 1  5  9]\n",
      " [ 2  6 10]\n",
      " [ 3  7 11]\n",
      " [ 4  8 12]]\n"
     ]
    }
   ],
   "execution_count": 3
  },
  {
   "metadata": {},
   "cell_type": "markdown",
   "source": [
    "### **<font color='red'>Your Task:</font>**\n",
    "\n",
    "- Create a 1D array of 16 numbers and reshape it into a 4×4 matrix.\n",
    "- Transpose a 3×5 matrix."
   ],
   "id": "5bcbf7259902b107"
  },
  {
   "metadata": {},
   "cell_type": "markdown",
   "source": [
    "### Step 5: NumPy Aggregations\n",
    "NumPy provides powerful functions for summarizing data:"
   ],
   "id": "73939ce7aa3c3f8a"
  },
  {
   "metadata": {
    "ExecuteTime": {
     "end_time": "2025-02-11T23:14:53.991808Z",
     "start_time": "2025-02-11T23:14:53.987947Z"
    }
   },
   "cell_type": "code",
   "source": [
    "arr = np.array([10, 20, 30, 40, 50])\n",
    "\n",
    "print(\"Sum:\", np.sum(arr))\n",
    "print(\"Mean:\", np.mean(arr))\n",
    "print(\"Max:\", np.max(arr))\n",
    "print(\"Min:\", np.min(arr))\n",
    "print(\"Standard Deviation:\", np.std(arr))"
   ],
   "id": "a33ddd20a59e7212",
   "outputs": [
    {
     "name": "stdout",
     "output_type": "stream",
     "text": [
      "Current UTC Time: 2025-02-11 23:14:53.989746+00:00\n",
      "Time in New York: 2025-02-11 18:14:53.989746-05:00\n"
     ]
    }
   ],
   "execution_count": 7
  },
  {
   "metadata": {},
   "cell_type": "markdown",
   "source": "For 2D arrays:",
   "id": "c604984c9728afa9"
  },
  {
   "metadata": {},
   "cell_type": "code",
   "outputs": [],
   "execution_count": null,
   "source": [
    "matrix = np.array([[1, 2, 3], [4, 5, 6], [7, 8, 9]])\n",
    "\n",
    "print(\"Column-wise Sum:\", np.sum(matrix, axis=0))\n",
    "print(\"Row-wise Mean:\", np.mean(matrix, axis=1))"
   ],
   "id": "e86aab2542c13014"
  },
  {
   "metadata": {},
   "cell_type": "markdown",
   "source": [
    "### **<font color='red'>Your Task:</font>**\n",
    "- Find the max value of a 2D array column-wise.\n",
    "- Compute the standard deviation of a 4×4 matrix."
   ],
   "id": "69f72594ef31f380"
  },
  {
   "metadata": {},
   "cell_type": "markdown",
   "source": [
    "### Step 7: Random Numbers in NumPy\n",
    "Generate random arrays:\n",
    "\n"
   ],
   "id": "a43dbc341389004b"
  },
  {
   "metadata": {
    "ExecuteTime": {
     "end_time": "2025-02-11T23:25:36.974371Z",
     "start_time": "2025-02-11T23:25:36.783157Z"
    }
   },
   "cell_type": "code",
   "source": [
    "# Random integer between 1 and 100\n",
    "rand_int = np.random.randint(1, 100, size=(3, 3))\n",
    "print(\"Random 3×3 Matrix:\\n\", rand_int)\n",
    "\n",
    "# Random numbers between 0 and 1\n",
    "rand_float = np.random.rand(4)\n",
    "print(\"Random Float Array:\", rand_float)"
   ],
   "id": "6a1ea85b15e6da46",
   "outputs": [
    {
     "name": "stdout",
     "output_type": "stream",
     "text": [
      "Random 3×3 Matrix:\n",
      " [[87 68 34]\n",
      " [55  4 83]\n",
      " [75  8 32]]\n",
      "Random Float Array: [0.12203259 0.58211068 0.50733488 0.0937822 ]\n"
     ]
    }
   ],
   "execution_count": 4
  },
  {
   "metadata": {},
   "cell_type": "markdown",
   "source": [
    "### **<font color='red'>Your Task:</font>**\n",
    "- Generate a 5×5 matrix with random numbers between 10 and 50.\n",
    "- Create a 1D array of 6 random numbers from a normal distribution."
   ],
   "id": "b0d5359946ed7564"
  },
  {
   "metadata": {},
   "cell_type": "markdown",
   "source": [
    "\n",
    "### Final Task\n",
    "\n",
    "Write a NumPy-based Python program that:\n",
    "\n",
    "- Creates a random 4×4 matrix of integers between 1 and 100.\n",
    "- Finds the sum of each row.\n",
    "- Finds the maximum value of each column.\n",
    "- Reshapes it into a 2×8 array and prints the result.\n",
    "- **Hint:** Use np.random.randint(), np.sum(), np.max(), and reshape().\n",
    "\n",
    "Example output:\n",
    "\n",
    "Original 4×4 Matrix:\n",
    "\n",
    "[[12 45 78 23]\n",
    " [67 89 34 56]\n",
    " [90 12 44 67]\n",
    " [22 49 37 85]]\n",
    "\n",
    "Row-wise Sum:\n",
    "[158, 246, 213, 193]\n",
    "\n",
    "Column-wise Max:\n",
    "[90, 89, 78, 85]\n",
    "\n",
    "Reshaped 2×8 Array:\n",
    "[[12 45 78 23 67 89 34 56]\n",
    " [90 12 44 67 22 49 37 85]]"
   ],
   "id": "e503a0544359159e"
  },
  {
   "metadata": {},
   "cell_type": "code",
   "outputs": [],
   "execution_count": null,
   "source": "",
   "id": "fb92883efecb3c3a"
  }
 ],
 "metadata": {
  "kernelspec": {
   "display_name": "Python 3",
   "language": "python",
   "name": "python3"
  },
  "language_info": {
   "codemirror_mode": {
    "name": "ipython",
    "version": 2
   },
   "file_extension": ".py",
   "mimetype": "text/x-python",
   "name": "python",
   "nbconvert_exporter": "python",
   "pygments_lexer": "ipython2",
   "version": "2.7.6"
  }
 },
 "nbformat": 4,
 "nbformat_minor": 5
}
