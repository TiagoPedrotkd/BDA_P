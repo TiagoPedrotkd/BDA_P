{
 "cells": [
  {
   "metadata": {},
   "cell_type": "markdown",
   "source": [
    "# Notebook Lab 01: Functions and Error Handling in Python\n",
    "## Objective\n",
    "By the end of this exercise, you will:\n",
    "\n",
    "- Understand how to define and use functions.\n",
    "- Learn different types of function arguments.\n",
    "- Handle errors using try-except.\n",
    "- Raise custom exceptions."
   ],
   "id": "d1a471b525ebc712"
  },
  {
   "metadata": {},
   "cell_type": "markdown",
   "source": [
    "### Step 1: Creating and Calling Functions\n",
    "Run the following code to understand function definition and calling:"
   ],
   "id": "fe5b712f352fb095"
  },
  {
   "metadata": {
    "ExecuteTime": {
     "end_time": "2025-02-11T22:59:08.060985Z",
     "start_time": "2025-02-11T22:59:08.056833Z"
    }
   },
   "cell_type": "code",
   "source": [
    "# Defining a simple function\n",
    "def greet(name):\n",
    "    return \"Hello, \" + name + \"!\"\n",
    "\n",
    "# Calling the function\n",
    "print(greet(\"Alice\"))\n",
    "\n"
   ],
   "id": "e642912fb909f798",
   "outputs": [
    {
     "name": "stdout",
     "output_type": "stream",
     "text": [
      "Hello, Alice!\n"
     ]
    }
   ],
   "execution_count": 1
  },
  {
   "metadata": {},
   "cell_type": "markdown",
   "source": [
    "### **<font color='red'>Your Task:</font>**\n",
    "\n",
    "- Modify the function to return \"Hello, Guest!\" if no name is provided.\n",
    "- Create a function that takes two numbers as input and returns their product."
   ],
   "id": "47f4fb005ef1bed3"
  },
  {
   "metadata": {},
   "cell_type": "markdown",
   "source": [
    "### Step 2: Function Arguments (Positional, Keyword, Default)\n",
    "Run the following code and observe how arguments work:"
   ],
   "id": "4133ed17957b98d"
  },
  {
   "metadata": {
    "ExecuteTime": {
     "end_time": "2025-02-11T23:00:06.974217Z",
     "start_time": "2025-02-11T23:00:06.970737Z"
    }
   },
   "cell_type": "code",
   "source": [
    "# Function with default argument\n",
    "def introduce(name, country=\"Unknown\"):\n",
    "    return f\"My name is {name}, and I am from {country}.\"\n",
    "\n",
    "print(introduce(\"Alice\"))  # Uses default country\n",
    "print(introduce(\"Bob\", \"USA\"))  # Overrides default\n"
   ],
   "id": "3dad0a37145ee2b4",
   "outputs": [
    {
     "name": "stdout",
     "output_type": "stream",
     "text": [
      "My name is Alice, and I am from Unknown.\n",
      "My name is Bob, and I am from USA.\n"
     ]
    }
   ],
   "execution_count": 2
  },
  {
   "metadata": {},
   "cell_type": "markdown",
   "source": [
    "### **<font color='red'>Your Task:</font>**\n",
    "\n",
    "- Write a function that accepts a first_name and last_name, with a default last name of \"Smith\".\n",
    "- Modify the function to accept any number of arguments (*args) and print them."
   ],
   "id": "55ef6acc48a221b0"
  },
  {
   "metadata": {},
   "cell_type": "markdown",
   "source": [
    "### Step 3: Handling Errors with try-except\n",
    "Errors occur when something unexpected happens. Run the code below:"
   ],
   "id": "77df3600bdf70840"
  },
  {
   "metadata": {
    "ExecuteTime": {
     "end_time": "2025-02-11T23:01:36.687843Z",
     "start_time": "2025-02-11T23:01:36.683661Z"
    }
   },
   "cell_type": "code",
   "source": [
    "def divide(a, b):\n",
    "    try:\n",
    "        result = a / b\n",
    "        return result\n",
    "    except ZeroDivisionError:\n",
    "        return \"Error: Cannot divide by zero!\"\n",
    "    except TypeError:\n",
    "        return \"Error: Please enter numbers only!\"\n",
    "\n",
    "# Testing with different inputs\n",
    "print(divide(10, 2))  # Valid case\n",
    "print(divide(10, 0))  # ZeroDivisionError\n",
    "print(divide(10, \"a\"))  # TypeError\n"
   ],
   "id": "a952603de33c1396",
   "outputs": [
    {
     "name": "stdout",
     "output_type": "stream",
     "text": [
      "5.0\n",
      "Error: Cannot divide by zero!\n",
      "Error: Please enter numbers only!\n"
     ]
    }
   ],
   "execution_count": 3
  },
  {
   "metadata": {},
   "cell_type": "markdown",
   "source": [
    "### **<font color='red'>Your Task:</font>**\n",
    "\n",
    "- Modify the function to ask the user for input and handle errors interactively.\n",
    "- Add a finally block that prints \"Execution completed\".\n"
   ],
   "id": "d0e9d0580e42d8c8"
  },
  {
   "metadata": {},
   "cell_type": "markdown",
   "source": [
    "### Step 4: Raising Custom Errors\n",
    "Sometimes, you may want to intentionally raise errors. Run this example:"
   ],
   "id": "2e74e9ff4d2e0f8e"
  },
  {
   "metadata": {
    "ExecuteTime": {
     "end_time": "2025-02-11T23:02:30.920306Z",
     "start_time": "2025-02-11T23:02:30.713209Z"
    }
   },
   "cell_type": "code",
   "source": [
    "def check_age(age):\n",
    "    if age < 0:\n",
    "        raise ValueError(\"Age cannot be negative!\")\n",
    "    return f\"Valid age: {age}\"\n",
    "\n",
    "print(check_age(25))  # Valid case\n",
    "print(check_age(-5))  # Triggers ValueError\n"
   ],
   "id": "e07a4b6599b1d4de",
   "outputs": [
    {
     "name": "stdout",
     "output_type": "stream",
     "text": [
      "Valid age: 25\n"
     ]
    },
    {
     "ename": "ValueError",
     "evalue": "Age cannot be negative!",
     "output_type": "error",
     "traceback": [
      "\u001B[1;31m---------------------------------------------------------------------------\u001B[0m",
      "\u001B[1;31mValueError\u001B[0m                                Traceback (most recent call last)",
      "Cell \u001B[1;32mIn[4], line 7\u001B[0m\n\u001B[0;32m      4\u001B[0m     \u001B[38;5;28;01mreturn\u001B[39;00m \u001B[38;5;124mf\u001B[39m\u001B[38;5;124m\"\u001B[39m\u001B[38;5;124mValid age: \u001B[39m\u001B[38;5;132;01m{\u001B[39;00mage\u001B[38;5;132;01m}\u001B[39;00m\u001B[38;5;124m\"\u001B[39m\n\u001B[0;32m      6\u001B[0m \u001B[38;5;28mprint\u001B[39m(check_age(\u001B[38;5;241m25\u001B[39m))  \u001B[38;5;66;03m# Valid case\u001B[39;00m\n\u001B[1;32m----> 7\u001B[0m \u001B[38;5;28mprint\u001B[39m(\u001B[43mcheck_age\u001B[49m\u001B[43m(\u001B[49m\u001B[38;5;241;43m-\u001B[39;49m\u001B[38;5;241;43m5\u001B[39;49m\u001B[43m)\u001B[49m)  \u001B[38;5;66;03m# Triggers ValueError\u001B[39;00m\n",
      "Cell \u001B[1;32mIn[4], line 3\u001B[0m, in \u001B[0;36mcheck_age\u001B[1;34m(age)\u001B[0m\n\u001B[0;32m      1\u001B[0m \u001B[38;5;28;01mdef\u001B[39;00m\u001B[38;5;250m \u001B[39m\u001B[38;5;21mcheck_age\u001B[39m(age):\n\u001B[0;32m      2\u001B[0m     \u001B[38;5;28;01mif\u001B[39;00m age \u001B[38;5;241m<\u001B[39m \u001B[38;5;241m0\u001B[39m:\n\u001B[1;32m----> 3\u001B[0m         \u001B[38;5;28;01mraise\u001B[39;00m \u001B[38;5;167;01mValueError\u001B[39;00m(\u001B[38;5;124m\"\u001B[39m\u001B[38;5;124mAge cannot be negative!\u001B[39m\u001B[38;5;124m\"\u001B[39m)\n\u001B[0;32m      4\u001B[0m     \u001B[38;5;28;01mreturn\u001B[39;00m \u001B[38;5;124mf\u001B[39m\u001B[38;5;124m\"\u001B[39m\u001B[38;5;124mValid age: \u001B[39m\u001B[38;5;132;01m{\u001B[39;00mage\u001B[38;5;132;01m}\u001B[39;00m\u001B[38;5;124m\"\u001B[39m\n",
      "\u001B[1;31mValueError\u001B[0m: Age cannot be negative!"
     ]
    }
   ],
   "execution_count": 4
  },
  {
   "metadata": {},
   "cell_type": "markdown",
   "source": [
    "### **<font color='red'>Your Task:</font>**\n",
    "\n",
    "- Modify the function to also raise an error if age > 120.\n",
    "- Write a function that checks if a string is not empty, raising a ValueError if it is."
   ],
   "id": "5bcbf7259902b107"
  },
  {
   "metadata": {},
   "cell_type": "markdown",
   "source": [
    "### Step 5: Final Task\n",
    "Write a Python program that:\n",
    "\n",
    "- Asks the user to enter two numbers.\n",
    "- Tries to divide them and handles any errors.\n",
    "- Uses a function for division.\n",
    "- Raises an error if the user enters a negative number.\n",
    "Hint: Use input() to get user input and float() to convert it.\n",
    "\n",
    "Example:\n",
    "- Enter first number: 10\n",
    "- Enter second number: 0\n",
    "- Error: Cannot divide by zero!\n",
    "\n"
   ],
   "id": "a43dbc341389004b"
  },
  {
   "metadata": {},
   "cell_type": "code",
   "outputs": [],
   "execution_count": null,
   "source": "",
   "id": "84cc2505b2d26ec"
  }
 ],
 "metadata": {
  "kernelspec": {
   "display_name": "Python 3",
   "language": "python",
   "name": "python3"
  },
  "language_info": {
   "codemirror_mode": {
    "name": "ipython",
    "version": 2
   },
   "file_extension": ".py",
   "mimetype": "text/x-python",
   "name": "python",
   "nbconvert_exporter": "python",
   "pygments_lexer": "ipython2",
   "version": "2.7.6"
  }
 },
 "nbformat": 4,
 "nbformat_minor": 5
}
