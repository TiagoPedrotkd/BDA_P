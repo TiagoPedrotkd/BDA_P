{
 "cells": [
  {
   "cell_type": "markdown",
   "metadata": {
    "application/vnd.databricks.v1+cell": {
     "cellMetadata": {
      "byteLimit": 2048000,
      "rowLimit": 10000
     },
     "inputWidgets": {},
     "nuid": "d4533f0f-8728-4718-b32d-2a5eef11caa3",
     "showTitle": false,
     "tableResultSettingsMap": {},
     "title": ""
    }
   },
   "source": [
    "## Spark MLlib Pipeline Example\n",
    "## This notebook demonstrates how to create a pipeline using Spark MLlib."
   ]
  },
  {
   "cell_type": "code",
   "execution_count": 0,
   "metadata": {
    "application/vnd.databricks.v1+cell": {
     "cellMetadata": {
      "byteLimit": 2048000,
      "rowLimit": 10000
     },
     "inputWidgets": {},
     "nuid": "b23683ba-eeaa-411f-90df-e039f5f6c4ba",
     "showTitle": false,
     "tableResultSettingsMap": {},
     "title": ""
    }
   },
   "outputs": [],
   "source": [
    "from pyspark.sql import SparkSession\n",
    "from pyspark.ml import Pipeline\n",
    "from pyspark.ml.feature import StringIndexer, VectorAssembler\n",
    "from pyspark.ml.classification import DecisionTreeClassifier\n",
    "\n",
    "spark = SparkSession.builder.appName(\"MLPipeline\").getOrCreate()"
   ]
  },
  {
   "cell_type": "code",
   "execution_count": 0,
   "metadata": {
    "application/vnd.databricks.v1+cell": {
     "cellMetadata": {
      "byteLimit": 2048000,
      "rowLimit": 10000
     },
     "inputWidgets": {},
     "nuid": "1ce2929f-dab7-4c70-ae9a-0b2c70a34d24",
     "showTitle": false,
     "tableResultSettingsMap": {},
     "title": ""
    }
   },
   "outputs": [
    {
     "output_type": "stream",
     "name": "stdout",
     "output_type": "stream",
     "text": [
      "+-----+--------+-----+\n|label|category|value|\n+-----+--------+-----+\n|    0|       a|  1.0|\n|    1|       b|  2.0|\n|    0|       a|  3.0|\n|    1|       b|  4.0|\n|    0|       a|  5.0|\n+-----+--------+-----+\n\n"
     ]
    }
   ],
   "source": [
    "# Load sample \n",
    "data = spark.createDataFrame([(0, \"a\", 1.0), (1, \"b\", 2.0), (0, \"a\", 3.0), (1, \"b\", 4.0), (0, \"a\", 5.0)], [\"label\", \"category\", \"value\"])\n",
    "data.show()"
   ]
  },
  {
   "cell_type": "code",
   "execution_count": 0,
   "metadata": {
    "application/vnd.databricks.v1+cell": {
     "cellMetadata": {
      "byteLimit": 2048000,
      "rowLimit": 10000
     },
     "inputWidgets": {},
     "nuid": "ed469dd3-ca29-4afa-a317-591799029ec9",
     "showTitle": false,
     "tableResultSettingsMap": {},
     "title": ""
    }
   },
   "outputs": [],
   "source": [
    "# Define stages\n",
    "indexer = StringIndexer(inputCol=\"category\", outputCol=\"categoryIndex\")\n",
    "assembler = VectorAssembler(inputCols=[\"categoryIndex\", \"value\"], outputCol=\"features\")\n",
    "classifier = DecisionTreeClassifier(featuresCol=\"features\", labelCol=\"label\")"
   ]
  },
  {
   "cell_type": "code",
   "execution_count": 0,
   "metadata": {
    "application/vnd.databricks.v1+cell": {
     "cellMetadata": {
      "byteLimit": 2048000,
      "rowLimit": 10000
     },
     "inputWidgets": {},
     "nuid": "d1badfca-92c3-40e6-8867-7d39e9753eb7",
     "showTitle": false,
     "tableResultSettingsMap": {},
     "title": ""
    }
   },
   "outputs": [
    {
     "output_type": "stream",
     "name": "stdout",
     "output_type": "stream",
     "text": [
      "+-----+---------+----------+\n|label| features|prediction|\n+-----+---------+----------+\n|    0|[0.0,1.0]|       0.0|\n|    1|[1.0,2.0]|       1.0|\n|    0|[0.0,3.0]|       0.0|\n|    1|[1.0,4.0]|       1.0|\n|    0|[0.0,5.0]|       0.0|\n+-----+---------+----------+\n\n"
     ]
    }
   ],
   "source": [
    "# Build pipeline\n",
    "pipeline = Pipeline(stages=[indexer, assembler, classifier])\n",
    "model = pipeline.fit(data)\n",
    "predictions = model.transform(data)\n",
    "predictions.select(\"label\", \"features\", \"prediction\").show()"
   ]
  }
 ],
 "metadata": {
  "application/vnd.databricks.v1+notebook": {
   "computePreferences": null,
   "dashboards": [],
   "environmentMetadata": null,
   "language": "python",
   "notebookMetadata": {
    "pythonIndentUnit": 4
   },
   "notebookName": "01 - ML_Pipeline_Spark_MLlib",
   "widgets": {}
  },
  "kernelspec": {
   "display_name": "Python 3",
   "language": "python",
   "name": "python3"
  },
  "language_info": {
   "name": "python",
   "version": "3.x"
  }
 },
 "nbformat": 4,
 "nbformat_minor": 0
}
