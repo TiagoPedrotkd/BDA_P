{
 "cells": [
  {
   "cell_type": "markdown",
   "metadata": {
    "application/vnd.databricks.v1+cell": {
     "cellMetadata": {
      "byteLimit": 2048000,
      "rowLimit": 10000
     },
     "inputWidgets": {},
     "nuid": "09ecde91-8dbb-4b38-bada-3bf1e6ac5011",
     "showTitle": false,
     "tableResultSettingsMap": {},
     "title": ""
    }
   },
   "source": [
    "## MLflow Tracking Basics\n",
    "## This notebook demonstrates how to log parameters, metrics, and models using MLflow."
   ]
  },
  {
   "cell_type": "code",
   "execution_count": 0,
   "metadata": {
    "application/vnd.databricks.v1+cell": {
     "cellMetadata": {
      "byteLimit": 2048000,
      "rowLimit": 10000
     },
     "inputWidgets": {},
     "nuid": "fb112515-0695-4d03-894a-9454f8ddaae3",
     "showTitle": false,
     "tableResultSettingsMap": {},
     "title": ""
    }
   },
   "outputs": [
    {
     "output_type": "stream",
     "name": "stdout",
     "output_type": "stream",
     "text": [
      "Requirement already satisfied: mlflow in /local_disk0/.ephemeral_nfs/envs/pythonEnv-27c5a7ca-3148-4527-bffd-0530d51b9e97/lib/python3.10/site-packages (2.21.0)\r\nRequirement already satisfied: docker<8,>=4.0.0 in /local_disk0/.ephemeral_nfs/envs/pythonEnv-27c5a7ca-3148-4527-bffd-0530d51b9e97/lib/python3.10/site-packages (from mlflow) (7.1.0)\r\nRequirement already satisfied: sqlalchemy<3,>=1.4.0 in /local_disk0/.ephemeral_nfs/envs/pythonEnv-27c5a7ca-3148-4527-bffd-0530d51b9e97/lib/python3.10/site-packages (from mlflow) (2.0.39)\r\nRequirement already satisfied: mlflow-skinny==2.21.0 in /local_disk0/.ephemeral_nfs/envs/pythonEnv-27c5a7ca-3148-4527-bffd-0530d51b9e97/lib/python3.10/site-packages (from mlflow) (2.21.0)\r\nRequirement already satisfied: Flask<4 in /local_disk0/.ephemeral_nfs/envs/pythonEnv-27c5a7ca-3148-4527-bffd-0530d51b9e97/lib/python3.10/site-packages (from mlflow) (3.1.0)\r\nRequirement already satisfied: pandas<3 in /databricks/python3/lib/python3.10/site-packages (from mlflow) (1.4.4)\r\nRequirement already satisfied: pyarrow<20,>=4.0.0 in /databricks/python3/lib/python3.10/site-packages (from mlflow) (8.0.0)\r\nRequirement already satisfied: scipy<2 in /databricks/python3/lib/python3.10/site-packages (from mlflow) (1.9.1)\r\nRequirement already satisfied: markdown<4,>=3.3 in /local_disk0/.ephemeral_nfs/envs/pythonEnv-27c5a7ca-3148-4527-bffd-0530d51b9e97/lib/python3.10/site-packages (from mlflow) (3.7)\r\nRequirement already satisfied: Jinja2<4,>=2.11 in /local_disk0/.ephemeral_nfs/envs/pythonEnv-27c5a7ca-3148-4527-bffd-0530d51b9e97/lib/python3.10/site-packages (from mlflow) (3.1.6)\r\nRequirement already satisfied: graphene<4 in /local_disk0/.ephemeral_nfs/envs/pythonEnv-27c5a7ca-3148-4527-bffd-0530d51b9e97/lib/python3.10/site-packages (from mlflow) (3.4.3)\r\nRequirement already satisfied: numpy<3 in /databricks/python3/lib/python3.10/site-packages (from mlflow) (1.21.5)\r\nRequirement already satisfied: alembic!=1.10.0,<2 in /local_disk0/.ephemeral_nfs/envs/pythonEnv-27c5a7ca-3148-4527-bffd-0530d51b9e97/lib/python3.10/site-packages (from mlflow) (1.15.1)\r\nRequirement already satisfied: scikit-learn<2 in /databricks/python3/lib/python3.10/site-packages (from mlflow) (1.1.1)\r\nRequirement already satisfied: gunicorn<24 in /local_disk0/.ephemeral_nfs/envs/pythonEnv-27c5a7ca-3148-4527-bffd-0530d51b9e97/lib/python3.10/site-packages (from mlflow) (23.0.0)\r\nRequirement already satisfied: matplotlib<4 in /databricks/python3/lib/python3.10/site-packages (from mlflow) (3.5.2)\r\nRequirement already satisfied: cachetools<6,>=5.0.0 in /local_disk0/.ephemeral_nfs/envs/pythonEnv-27c5a7ca-3148-4527-bffd-0530d51b9e97/lib/python3.10/site-packages (from mlflow-skinny==2.21.0->mlflow) (5.5.2)\r\nRequirement already satisfied: cloudpickle<4 in /local_disk0/.ephemeral_nfs/envs/pythonEnv-27c5a7ca-3148-4527-bffd-0530d51b9e97/lib/python3.10/site-packages (from mlflow-skinny==2.21.0->mlflow) (3.1.1)\r\nRequirement already satisfied: requests<3,>=2.17.3 in /databricks/python3/lib/python3.10/site-packages (from mlflow-skinny==2.21.0->mlflow) (2.28.1)\r\nRequirement already satisfied: packaging<25 in /databricks/python3/lib/python3.10/site-packages (from mlflow-skinny==2.21.0->mlflow) (21.3)\r\nRequirement already satisfied: importlib_metadata!=4.7.0,<9,>=3.7.0 in /local_disk0/.ephemeral_nfs/envs/pythonEnv-27c5a7ca-3148-4527-bffd-0530d51b9e97/lib/python3.10/site-packages (from mlflow-skinny==2.21.0->mlflow) (8.6.1)\r\nRequirement already satisfied: opentelemetry-api<3,>=1.9.0 in /local_disk0/.ephemeral_nfs/envs/pythonEnv-27c5a7ca-3148-4527-bffd-0530d51b9e97/lib/python3.10/site-packages (from mlflow-skinny==2.21.0->mlflow) (1.31.1)\r\nRequirement already satisfied: uvicorn<1 in /local_disk0/.ephemeral_nfs/envs/pythonEnv-27c5a7ca-3148-4527-bffd-0530d51b9e97/lib/python3.10/site-packages (from mlflow-skinny==2.21.0->mlflow) (0.34.0)\r\nRequirement already satisfied: click<9,>=7.0 in /local_disk0/.ephemeral_nfs/envs/pythonEnv-27c5a7ca-3148-4527-bffd-0530d51b9e97/lib/python3.10/site-packages (from mlflow-skinny==2.21.0->mlflow) (8.1.8)\r\nRequirement already satisfied: fastapi<1 in /local_disk0/.ephemeral_nfs/envs/pythonEnv-27c5a7ca-3148-4527-bffd-0530d51b9e97/lib/python3.10/site-packages (from mlflow-skinny==2.21.0->mlflow) (0.115.11)\r\nRequirement already satisfied: protobuf<6,>=3.12.0 in /databricks/python3/lib/python3.10/site-packages (from mlflow-skinny==2.21.0->mlflow) (3.19.4)\r\nRequirement already satisfied: opentelemetry-sdk<3,>=1.9.0 in /local_disk0/.ephemeral_nfs/envs/pythonEnv-27c5a7ca-3148-4527-bffd-0530d51b9e97/lib/python3.10/site-packages (from mlflow-skinny==2.21.0->mlflow) (1.31.1)\r\nRequirement already satisfied: pydantic<3,>=1.10.8 in /local_disk0/.ephemeral_nfs/envs/pythonEnv-27c5a7ca-3148-4527-bffd-0530d51b9e97/lib/python3.10/site-packages (from mlflow-skinny==2.21.0->mlflow) (2.10.6)\r\nRequirement already satisfied: typing-extensions<5,>=4.0.0 in /local_disk0/.ephemeral_nfs/envs/pythonEnv-27c5a7ca-3148-4527-bffd-0530d51b9e97/lib/python3.10/site-packages (from mlflow-skinny==2.21.0->mlflow) (4.7.1)\r\nRequirement already satisfied: databricks-sdk<1,>=0.20.0 in /local_disk0/.ephemeral_nfs/envs/pythonEnv-27c5a7ca-3148-4527-bffd-0530d51b9e97/lib/python3.10/site-packages (from mlflow-skinny==2.21.0->mlflow) (0.47.0)\r\nRequirement already satisfied: sqlparse<1,>=0.4.0 in /local_disk0/.ephemeral_nfs/envs/pythonEnv-27c5a7ca-3148-4527-bffd-0530d51b9e97/lib/python3.10/site-packages (from mlflow-skinny==2.21.0->mlflow) (0.5.3)\r\nRequirement already satisfied: gitpython<4,>=3.1.9 in /local_disk0/.ephemeral_nfs/envs/pythonEnv-27c5a7ca-3148-4527-bffd-0530d51b9e97/lib/python3.10/site-packages (from mlflow-skinny==2.21.0->mlflow) (3.1.44)\r\nRequirement already satisfied: pyyaml<7,>=5.1 in /local_disk0/.ephemeral_nfs/envs/pythonEnv-27c5a7ca-3148-4527-bffd-0530d51b9e97/lib/python3.10/site-packages (from mlflow-skinny==2.21.0->mlflow) (6.0.2)\r\nCollecting typing-extensions<5,>=4.0.0\r\n  Using cached typing_extensions-4.12.2-py3-none-any.whl (37 kB)\r\nRequirement already satisfied: Mako in /local_disk0/.ephemeral_nfs/envs/pythonEnv-27c5a7ca-3148-4527-bffd-0530d51b9e97/lib/python3.10/site-packages (from alembic!=1.10.0,<2->mlflow) (1.3.9)\r\nRequirement already satisfied: urllib3>=1.26.0 in /databricks/python3/lib/python3.10/site-packages (from docker<8,>=4.0.0->mlflow) (1.26.11)\r\nRequirement already satisfied: Werkzeug>=3.1 in /local_disk0/.ephemeral_nfs/envs/pythonEnv-27c5a7ca-3148-4527-bffd-0530d51b9e97/lib/python3.10/site-packages (from Flask<4->mlflow) (3.1.3)\r\nRequirement already satisfied: blinker>=1.9 in /local_disk0/.ephemeral_nfs/envs/pythonEnv-27c5a7ca-3148-4527-bffd-0530d51b9e97/lib/python3.10/site-packages (from Flask<4->mlflow) (1.9.0)\r\nRequirement already satisfied: itsdangerous>=2.2 in /local_disk0/.ephemeral_nfs/envs/pythonEnv-27c5a7ca-3148-4527-bffd-0530d51b9e97/lib/python3.10/site-packages (from Flask<4->mlflow) (2.2.0)\r\nRequirement already satisfied: graphql-core<3.3,>=3.1 in /local_disk0/.ephemeral_nfs/envs/pythonEnv-27c5a7ca-3148-4527-bffd-0530d51b9e97/lib/python3.10/site-packages (from graphene<4->mlflow) (3.2.6)\r\nRequirement already satisfied: graphql-relay<3.3,>=3.1 in /local_disk0/.ephemeral_nfs/envs/pythonEnv-27c5a7ca-3148-4527-bffd-0530d51b9e97/lib/python3.10/site-packages (from graphene<4->mlflow) (3.2.0)\r\nRequirement already satisfied: python-dateutil<3,>=2.7.0 in /databricks/python3/lib/python3.10/site-packages (from graphene<4->mlflow) (2.8.2)\r\nRequirement already satisfied: MarkupSafe>=2.0 in /local_disk0/.ephemeral_nfs/envs/pythonEnv-27c5a7ca-3148-4527-bffd-0530d51b9e97/lib/python3.10/site-packages (from Jinja2<4,>=2.11->mlflow) (3.0.2)\r\nRequirement already satisfied: cycler>=0.10 in /databricks/python3/lib/python3.10/site-packages (from matplotlib<4->mlflow) (0.11.0)\r\nRequirement already satisfied: pyparsing>=2.2.1 in /databricks/python3/lib/python3.10/site-packages (from matplotlib<4->mlflow) (3.0.9)\r\nRequirement already satisfied: pillow>=6.2.0 in /databricks/python3/lib/python3.10/site-packages (from matplotlib<4->mlflow) (9.2.0)\r\nRequirement already satisfied: fonttools>=4.22.0 in /databricks/python3/lib/python3.10/site-packages (from matplotlib<4->mlflow) (4.25.0)\r\nRequirement already satisfied: kiwisolver>=1.0.1 in /databricks/python3/lib/python3.10/site-packages (from matplotlib<4->mlflow) (1.4.2)\r\nRequirement already satisfied: pytz>=2020.1 in /databricks/python3/lib/python3.10/site-packages (from pandas<3->mlflow) (2022.1)\r\nRequirement already satisfied: joblib>=1.0.0 in /databricks/python3/lib/python3.10/site-packages (from scikit-learn<2->mlflow) (1.2.0)\r\nRequirement already satisfied: threadpoolctl>=2.0.0 in /databricks/python3/lib/python3.10/site-packages (from scikit-learn<2->mlflow) (2.2.0)\r\nRequirement already satisfied: greenlet!=0.4.17 in /local_disk0/.ephemeral_nfs/envs/pythonEnv-27c5a7ca-3148-4527-bffd-0530d51b9e97/lib/python3.10/site-packages (from sqlalchemy<3,>=1.4.0->mlflow) (3.1.1)\r\nRequirement already satisfied: google-auth~=2.0 in /local_disk0/.ephemeral_nfs/envs/pythonEnv-27c5a7ca-3148-4527-bffd-0530d51b9e97/lib/python3.10/site-packages (from databricks-sdk<1,>=0.20.0->mlflow-skinny==2.21.0->mlflow) (2.38.0)\r\nRequirement already satisfied: starlette<0.47.0,>=0.40.0 in /local_disk0/.ephemeral_nfs/envs/pythonEnv-27c5a7ca-3148-4527-bffd-0530d51b9e97/lib/python3.10/site-packages (from fastapi<1->mlflow-skinny==2.21.0->mlflow) (0.46.1)\r\nRequirement already satisfied: gitdb<5,>=4.0.1 in /local_disk0/.ephemeral_nfs/envs/pythonEnv-27c5a7ca-3148-4527-bffd-0530d51b9e97/lib/python3.10/site-packages (from gitpython<4,>=3.1.9->mlflow-skinny==2.21.0->mlflow) (4.0.12)\r\nRequirement already satisfied: zipp>=3.20 in /local_disk0/.ephemeral_nfs/envs/pythonEnv-27c5a7ca-3148-4527-bffd-0530d51b9e97/lib/python3.10/site-packages (from importlib_metadata!=4.7.0,<9,>=3.7.0->mlflow-skinny==2.21.0->mlflow) (3.21.0)\r\nRequirement already satisfied: deprecated>=1.2.6 in /local_disk0/.ephemeral_nfs/envs/pythonEnv-27c5a7ca-3148-4527-bffd-0530d51b9e97/lib/python3.10/site-packages (from opentelemetry-api<3,>=1.9.0->mlflow-skinny==2.21.0->mlflow) (1.2.18)\r\nRequirement already satisfied: opentelemetry-semantic-conventions==0.52b1 in /local_disk0/.ephemeral_nfs/envs/pythonEnv-27c5a7ca-3148-4527-bffd-0530d51b9e97/lib/python3.10/site-packages (from opentelemetry-sdk<3,>=1.9.0->mlflow-skinny==2.21.0->mlflow) (0.52b1)\r\nRequirement already satisfied: annotated-types>=0.6.0 in /local_disk0/.ephemeral_nfs/envs/pythonEnv-27c5a7ca-3148-4527-bffd-0530d51b9e97/lib/python3.10/site-packages (from pydantic<3,>=1.10.8->mlflow-skinny==2.21.0->mlflow) (0.7.0)\r\nRequirement already satisfied: pydantic-core==2.27.2 in /local_disk0/.ephemeral_nfs/envs/pythonEnv-27c5a7ca-3148-4527-bffd-0530d51b9e97/lib/python3.10/site-packages (from pydantic<3,>=1.10.8->mlflow-skinny==2.21.0->mlflow) (2.27.2)\r\nRequirement already satisfied: six>=1.5 in /usr/lib/python3/dist-packages (from python-dateutil<3,>=2.7.0->graphene<4->mlflow) (1.16.0)\r\nRequirement already satisfied: charset-normalizer<3,>=2 in /databricks/python3/lib/python3.10/site-packages (from requests<3,>=2.17.3->mlflow-skinny==2.21.0->mlflow) (2.0.4)\r\nRequirement already satisfied: idna<4,>=2.5 in /databricks/python3/lib/python3.10/site-packages (from requests<3,>=2.17.3->mlflow-skinny==2.21.0->mlflow) (3.3)\r\nRequirement already satisfied: certifi>=2017.4.17 in /databricks/python3/lib/python3.10/site-packages (from requests<3,>=2.17.3->mlflow-skinny==2.21.0->mlflow) (2022.9.14)\r\nRequirement already satisfied: h11>=0.8 in /local_disk0/.ephemeral_nfs/envs/pythonEnv-27c5a7ca-3148-4527-bffd-0530d51b9e97/lib/python3.10/site-packages (from uvicorn<1->mlflow-skinny==2.21.0->mlflow) (0.14.0)\r\nRequirement already satisfied: wrapt<2,>=1.10 in /local_disk0/.ephemeral_nfs/envs/pythonEnv-27c5a7ca-3148-4527-bffd-0530d51b9e97/lib/python3.10/site-packages (from deprecated>=1.2.6->opentelemetry-api<3,>=1.9.0->mlflow-skinny==2.21.0->mlflow) (1.17.2)\r\nRequirement already satisfied: smmap<6,>=3.0.1 in /local_disk0/.ephemeral_nfs/envs/pythonEnv-27c5a7ca-3148-4527-bffd-0530d51b9e97/lib/python3.10/site-packages (from gitdb<5,>=4.0.1->gitpython<4,>=3.1.9->mlflow-skinny==2.21.0->mlflow) (5.0.2)\r\nRequirement already satisfied: pyasn1-modules>=0.2.1 in /local_disk0/.ephemeral_nfs/envs/pythonEnv-27c5a7ca-3148-4527-bffd-0530d51b9e97/lib/python3.10/site-packages (from google-auth~=2.0->databricks-sdk<1,>=0.20.0->mlflow-skinny==2.21.0->mlflow) (0.4.1)\r\nRequirement already satisfied: rsa<5,>=3.1.4 in /local_disk0/.ephemeral_nfs/envs/pythonEnv-27c5a7ca-3148-4527-bffd-0530d51b9e97/lib/python3.10/site-packages (from google-auth~=2.0->databricks-sdk<1,>=0.20.0->mlflow-skinny==2.21.0->mlflow) (4.9)\r\nRequirement already satisfied: anyio<5,>=3.6.2 in /local_disk0/.ephemeral_nfs/envs/pythonEnv-27c5a7ca-3148-4527-bffd-0530d51b9e97/lib/python3.10/site-packages (from starlette<0.47.0,>=0.40.0->fastapi<1->mlflow-skinny==2.21.0->mlflow) (4.9.0)\r\nRequirement already satisfied: sniffio>=1.1 in /local_disk0/.ephemeral_nfs/envs/pythonEnv-27c5a7ca-3148-4527-bffd-0530d51b9e97/lib/python3.10/site-packages (from anyio<5,>=3.6.2->starlette<0.47.0,>=0.40.0->fastapi<1->mlflow-skinny==2.21.0->mlflow) (1.3.1)\r\nRequirement already satisfied: exceptiongroup>=1.0.2 in /local_disk0/.ephemeral_nfs/envs/pythonEnv-27c5a7ca-3148-4527-bffd-0530d51b9e97/lib/python3.10/site-packages (from anyio<5,>=3.6.2->starlette<0.47.0,>=0.40.0->fastapi<1->mlflow-skinny==2.21.0->mlflow) (1.2.2)\r\nRequirement already satisfied: pyasn1<0.7.0,>=0.4.6 in /local_disk0/.ephemeral_nfs/envs/pythonEnv-27c5a7ca-3148-4527-bffd-0530d51b9e97/lib/python3.10/site-packages (from pyasn1-modules>=0.2.1->google-auth~=2.0->databricks-sdk<1,>=0.20.0->mlflow-skinny==2.21.0->mlflow) (0.6.1)\r\nInstalling collected packages: typing-extensions\r\n  Attempting uninstall: typing-extensions\r\n    Found existing installation: typing_extensions 4.7.1\r\n    Uninstalling typing_extensions-4.7.1:\r\n      Successfully uninstalled typing_extensions-4.7.1\r\nSuccessfully installed typing-extensions-4.12.2\r\n\r\n\u001B[1m[\u001B[0m\u001B[34;49mnotice\u001B[0m\u001B[1;39;49m]\u001B[0m\u001B[39;49m A new release of pip available: \u001B[0m\u001B[31;49m22.2.2\u001B[0m\u001B[39;49m -> \u001B[0m\u001B[32;49m25.0.1\u001B[0m\r\n\u001B[1m[\u001B[0m\u001B[34;49mnotice\u001B[0m\u001B[1;39;49m]\u001B[0m\u001B[39;49m To update, run: \u001B[0m\u001B[32;49mpip install --upgrade pip\u001B[0m\r\n"
     ]
    }
   ],
   "source": [
    "!pip install mlflow"
   ]
  },
  {
   "cell_type": "code",
   "execution_count": 0,
   "metadata": {
    "application/vnd.databricks.v1+cell": {
     "cellMetadata": {
      "byteLimit": 2048000,
      "rowLimit": 10000
     },
     "inputWidgets": {},
     "nuid": "a665c867-e629-4d20-b42a-705fb6d65d28",
     "showTitle": false,
     "tableResultSettingsMap": {},
     "title": ""
    }
   },
   "outputs": [
    {
     "output_type": "stream",
     "name": "stdout",
     "output_type": "stream",
     "text": [
      "\u001B[43mNote: you may need to restart the kernel using dbutils.library.restartPython() to use updated packages.\u001B[0m\nRequirement already satisfied: typing_extensions in /local_disk0/.ephemeral_nfs/envs/pythonEnv-27c5a7ca-3148-4527-bffd-0530d51b9e97/lib/python3.10/site-packages (4.12.2)\n\u001B[43mNote: you may need to restart the kernel using dbutils.library.restartPython() to use updated packages.\u001B[0m\n"
     ]
    }
   ],
   "source": [
    "pip install typing_extensions --upgrade"
   ]
  },
  {
   "cell_type": "code",
   "execution_count": 0,
   "metadata": {
    "application/vnd.databricks.v1+cell": {
     "cellMetadata": {
      "byteLimit": 2048000,
      "rowLimit": 10000
     },
     "inputWidgets": {},
     "nuid": "6a79565f-aa42-4896-bee3-cd1171a4a2ba",
     "showTitle": false,
     "tableResultSettingsMap": {},
     "title": ""
    }
   },
   "outputs": [],
   "source": [
    "dbutils.library.restartPython()"
   ]
  },
  {
   "cell_type": "code",
   "execution_count": 0,
   "metadata": {
    "application/vnd.databricks.v1+cell": {
     "cellMetadata": {
      "byteLimit": 2048000,
      "rowLimit": 10000
     },
     "inputWidgets": {},
     "nuid": "bf8388ea-0c03-4b54-9bbc-ea90eeec88c1",
     "showTitle": false,
     "tableResultSettingsMap": {},
     "title": ""
    }
   },
   "outputs": [],
   "source": [
    "import mlflow\n",
    "import mlflow.sklearn\n",
    "from sklearn.ensemble import RandomForestClassifier\n",
    "from sklearn.datasets import load_iris\n",
    "from sklearn.model_selection import train_test_split\n",
    "from sklearn.metrics import accuracy_score"
   ]
  },
  {
   "cell_type": "code",
   "execution_count": 0,
   "metadata": {
    "application/vnd.databricks.v1+cell": {
     "cellMetadata": {
      "byteLimit": 2048000,
      "rowLimit": 10000
     },
     "inputWidgets": {},
     "nuid": "d8c83f22-73c4-4df6-841c-df69fc37e365",
     "showTitle": false,
     "tableResultSettingsMap": {},
     "title": ""
    }
   },
   "outputs": [],
   "source": [
    "# Load data\n",
    "data = load_iris()\n",
    "X_train, X_test, y_train, y_test = train_test_split(data.data, data.target, test_size=0.3, random_state=42)"
   ]
  },
  {
   "cell_type": "code",
   "execution_count": 0,
   "metadata": {
    "application/vnd.databricks.v1+cell": {
     "cellMetadata": {
      "byteLimit": 2048000,
      "rowLimit": 10000
     },
     "inputWidgets": {},
     "nuid": "2d813a86-ea74-4f32-8de7-d6276380db7f",
     "showTitle": false,
     "tableResultSettingsMap": {},
     "title": ""
    }
   },
   "outputs": [],
   "source": [
    "# Enable auto logging\n",
    "mlflow.sklearn.autolog()"
   ]
  },
  {
   "cell_type": "code",
   "execution_count": 0,
   "metadata": {
    "application/vnd.databricks.v1+cell": {
     "cellMetadata": {
      "byteLimit": 2048000,
      "rowLimit": 10000
     },
     "inputWidgets": {},
     "nuid": "6eca52c6-65fc-4f6b-ba58-13af2c75f448",
     "showTitle": false,
     "tableResultSettingsMap": {},
     "title": ""
    }
   },
   "outputs": [
    {
     "output_type": "stream",
     "name": "stderr",
     "output_type": "stream",
     "text": [
      "2025/03/22 12:57:06 WARNING mlflow.utils.environment: Encountered an unexpected error while inferring pip requirements (model URI: /local_disk0/repl_tmp_data/ReplId-52f5d-0ae40-cd55f-4/tmp9dq6fsps/model/model.pkl, flavor: sklearn). Fall back to return ['scikit-learn==1.1.1', 'cloudpickle==3.1.1']. Set logging level to DEBUG to see the full traceback. \n"
     ]
    },
    {
     "output_type": "stream",
     "name": "stdout",
     "output_type": "stream",
     "text": [
      "Logged with accuracy: 1.0\n"
     ]
    }
   ],
   "source": [
    "with mlflow.start_run():\n",
    "    model = RandomForestClassifier(n_estimators=100, max_depth=2, random_state=42)\n",
    "    model.fit(X_train, y_train) \n",
    "    predictions = model.predict(X_test)\n",
    "    acc = accuracy_score(y_test, predictions)\n",
    "    mlflow.log_metric(\"accuracy\", acc)    \n",
    "    print(\"Logged with accuracy:\", acc)"
   ]
  }
 ],
 "metadata": {
  "application/vnd.databricks.v1+notebook": {
   "computePreferences": null,
   "dashboards": [],
   "environmentMetadata": null,
   "language": "python",
   "notebookMetadata": {
    "pythonIndentUnit": 4
   },
   "notebookName": "04 - MLflow_Tracking_Basics",
   "widgets": {}
  },
  "kernelspec": {
   "display_name": "Python 3",
   "language": "python",
   "name": "python3"
  },
  "language_info": {
   "name": "python",
   "version": "3.x"
  }
 },
 "nbformat": 4,
 "nbformat_minor": 0
}
